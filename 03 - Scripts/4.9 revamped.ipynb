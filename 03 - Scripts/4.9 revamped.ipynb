{
 "cells": [
  {
   "cell_type": "markdown",
   "id": "d66b1fd1",
   "metadata": {},
   "source": [
    "CONTENTS: \n",
    "\n",
    "1. Importing dataframes\n",
    "    - 4.9\n",
    "    - 4.8\n",
    "\n",
    "\n",
    "2. Add missing columns/variables from 4.8 to 4.9 dataframe\n",
    "    - max order\n",
    "    - avg price\n",
    "    - spending flag\n",
    "    - median order duration\n",
    "    - frequency flag\n",
    "    - loyalty flag\n",
    "\n",
    "\n",
    "3. Change dataytpes to save RAM\n",
    "    - age\n",
    "    - order id\n",
    "    - customer id\n",
    "    - order number\n",
    "    - order day of the week\n",
    "    - order hour of day\n",
    "    - product id\n",
    "    - add to cart order\n",
    "    - reordered\n",
    "    - number of dependents\n",
    "    - income\n",
    "    - max order\n",
    "\n",
    "\n",
    "4. Create random subset of dataframe to reduce RAM\n",
    "    - created large df (70%)\n",
    "    - created small df (30%)\n",
    "\n",
    "\n",
    "5.  Export small dataframe to use for Task 4.10"
   ]
  },
  {
   "cell_type": "code",
   "execution_count": 1,
   "id": "61634300",
   "metadata": {},
   "outputs": [],
   "source": [
    "# import libraries\n",
    "import pandas as pd\n",
    "import numpy as np\n",
    "import os"
   ]
  },
  {
   "cell_type": "code",
   "execution_count": 2,
   "id": "c465b6f9",
   "metadata": {},
   "outputs": [],
   "source": [
    "path = r'C:\\Users\\there\\Desktop\\Career Foundry\\06.2022 Instacart Basket Analysis'"
   ]
  },
  {
   "cell_type": "code",
   "execution_count": 3,
   "id": "94c10000",
   "metadata": {},
   "outputs": [],
   "source": [
    "df = pd.read_pickle(os.path.join(path,'02 - Data', 'Prepared Data','4.9_full_merge.pkl'))"
   ]
  },
  {
   "cell_type": "code",
   "execution_count": 6,
   "id": "e97598d4",
   "metadata": {},
   "outputs": [],
   "source": [
    "df4_8 = pd.read_pickle(os.path.join(path,'02 - Data', 'Prepared Data', '4.8_orders_products_merged.pkl'))"
   ]
  },
  {
   "cell_type": "code",
   "execution_count": 5,
   "id": "870095f5",
   "metadata": {},
   "outputs": [
    {
     "name": "stdout",
     "output_type": "stream",
     "text": [
      "<class 'pandas.core.frame.DataFrame'>\n",
      "Int64Index: 32406041 entries, 0 to 32406040\n",
      "Data columns (total 29 columns):\n",
      " #   Column                  Dtype   \n",
      "---  ------                  -----   \n",
      " 0   order_id                int64   \n",
      " 1   customer_id             int64   \n",
      " 2   eval_set                object  \n",
      " 3   order_number            int64   \n",
      " 4   order_day_of_week       int64   \n",
      " 5   order_hour_of_day       int64   \n",
      " 6   days_since_prior_order  float64 \n",
      " 7   product_id              int64   \n",
      " 8   add_to_cart_order       int64   \n",
      " 9   reordered               int64   \n",
      " 10  Unnamed: 0              int64   \n",
      " 11  product_name            object  \n",
      " 12  aisle_id                int64   \n",
      " 13  department_id           int64   \n",
      " 14  prices                  float64 \n",
      " 15  _merge                  category\n",
      " 16  price_range_loc         object  \n",
      " 17  Busiest day             object  \n",
      " 18  Busiest days            object  \n",
      " 19  Most Orders             object  \n",
      " 20  first_name              object  \n",
      " 21  last_name               object  \n",
      " 22  gender                  object  \n",
      " 23  state                   object  \n",
      " 24  age                     int64   \n",
      " 25  date_joined             object  \n",
      " 26  #_of_dependants         int64   \n",
      " 27  marital_status          object  \n",
      " 28  income                  int64   \n",
      "dtypes: category(1), float64(2), int64(14), object(12)\n",
      "memory usage: 7.0+ GB\n"
     ]
    }
   ],
   "source": [
    "df.info()"
   ]
  },
  {
   "cell_type": "code",
   "execution_count": 7,
   "id": "ef78718c",
   "metadata": {},
   "outputs": [
    {
     "name": "stdout",
     "output_type": "stream",
     "text": [
      "<class 'pandas.core.frame.DataFrame'>\n",
      "Int64Index: 32406041 entries, 0 to 32406040\n",
      "Data columns (total 26 columns):\n",
      " #   Column                  Dtype   \n",
      "---  ------                  -----   \n",
      " 0   order_id                int64   \n",
      " 1   user_id                 int64   \n",
      " 2   eval_set                object  \n",
      " 3   order_number            int64   \n",
      " 4   order_dow               int64   \n",
      " 5   order_hour_of_day       int64   \n",
      " 6   days_since_prior_order  float64 \n",
      " 7   product_id              int64   \n",
      " 8   add_to_cart_order       int64   \n",
      " 9   reordered               int64   \n",
      " 10  Unnamed: 0              int64   \n",
      " 11  product_name            object  \n",
      " 12  aisle_id                int64   \n",
      " 13  department_id           int64   \n",
      " 14  prices                  float64 \n",
      " 15  _merge                  category\n",
      " 16  price_range_loc         object  \n",
      " 17  Busiest day             object  \n",
      " 18  Busiest days            object  \n",
      " 19  Most Orders             object  \n",
      " 20  max_order               int64   \n",
      " 21  loyalty_flag            object  \n",
      " 22  avg_price               float64 \n",
      " 23  spending_flag           object  \n",
      " 24  median_order_duration   float64 \n",
      " 25  frequency_flag          object  \n",
      "dtypes: category(1), float64(4), int64(12), object(9)\n",
      "memory usage: 6.3+ GB\n"
     ]
    }
   ],
   "source": [
    "df4_8.info()"
   ]
  },
  {
   "cell_type": "code",
   "execution_count": 8,
   "id": "35235f30",
   "metadata": {},
   "outputs": [],
   "source": [
    "# Missing the following variables in the 4.9 df dataframe:  Adding variables: max_order, avg_price, spending_flag, median_order_duration, and frequency flag, loyalty_flag\n",
    "# adding missing columns to df dataframe\n",
    "\n",
    "df['max_order'] = df4_8['max_order']\n",
    "df['avg_price'] = df4_8['avg_price']\n",
    "df['spending_flag'] = df4_8['spending_flag']\n",
    "df['median_order_duration'] = df4_8['median_order_duration']\n",
    "df['frequency_flag'] = df4_8['frequency_flag']\n",
    "df['loyalty_flag'] = df4_8['loyalty_flag']"
   ]
  },
  {
   "cell_type": "code",
   "execution_count": 9,
   "id": "bedd7afb",
   "metadata": {},
   "outputs": [
    {
     "name": "stdout",
     "output_type": "stream",
     "text": [
      "<class 'pandas.core.frame.DataFrame'>\n",
      "Int64Index: 32406041 entries, 0 to 32406040\n",
      "Data columns (total 35 columns):\n",
      " #   Column                  Dtype   \n",
      "---  ------                  -----   \n",
      " 0   order_id                int64   \n",
      " 1   customer_id             int64   \n",
      " 2   eval_set                object  \n",
      " 3   order_number            int64   \n",
      " 4   order_day_of_week       int64   \n",
      " 5   order_hour_of_day       int64   \n",
      " 6   days_since_prior_order  float64 \n",
      " 7   product_id              int64   \n",
      " 8   add_to_cart_order       int64   \n",
      " 9   reordered               int64   \n",
      " 10  Unnamed: 0              int64   \n",
      " 11  product_name            object  \n",
      " 12  aisle_id                int64   \n",
      " 13  department_id           int64   \n",
      " 14  prices                  float64 \n",
      " 15  _merge                  category\n",
      " 16  price_range_loc         object  \n",
      " 17  Busiest day             object  \n",
      " 18  Busiest days            object  \n",
      " 19  Most Orders             object  \n",
      " 20  first_name              object  \n",
      " 21  last_name               object  \n",
      " 22  gender                  object  \n",
      " 23  state                   object  \n",
      " 24  age                     int64   \n",
      " 25  date_joined             object  \n",
      " 26  #_of_dependants         int64   \n",
      " 27  marital_status          object  \n",
      " 28  income                  int64   \n",
      " 29  max_order               int64   \n",
      " 30  avg_price               float64 \n",
      " 31  spending_flag           object  \n",
      " 32  median_order_duration   float64 \n",
      " 33  frequency_flag          object  \n",
      " 34  loyalty_flag            object  \n",
      "dtypes: category(1), float64(4), int64(15), object(15)\n",
      "memory usage: 8.5+ GB\n"
     ]
    }
   ],
   "source": [
    "df.info()"
   ]
  },
  {
   "cell_type": "code",
   "execution_count": 10,
   "id": "d38597ab",
   "metadata": {},
   "outputs": [],
   "source": [
    "# changing dataype to save RAM\n",
    "df['age'] = df['age'].astype('int8')\n",
    "df['order_id'] = df['order_id'].astype('int32')\n",
    "df['customer_id'] = df['customer_id'].astype('int32')\n",
    "df['order_number'] = df['order_number'].astype('int8')\n",
    "df['order_day_of_week'] = df['order_day_of_week'].astype('int8')\n",
    "df['order_hour_of_day'] = df['order_hour_of_day'].astype('int8')\n",
    "df['product_id'] = df['product_id'].astype('int32')\n",
    "df['add_to_cart_order'] = df['add_to_cart_order'].astype('int16')\n",
    "df['reordered'] = df['reordered'].astype('int8')\n",
    "df['#_of_dependants'] = df['#_of_dependants'].astype('int8')\n",
    "df['income'] = df['income'].astype('int32')\n",
    "df['max_order'] = df['max_order'].astype('int8')"
   ]
  },
  {
   "cell_type": "code",
   "execution_count": 11,
   "id": "43e843c2",
   "metadata": {},
   "outputs": [],
   "source": [
    "# reducing df dataframe to save space\n",
    "# set the seed\n",
    "np.random.seed(4)"
   ]
  },
  {
   "cell_type": "code",
   "execution_count": 12,
   "id": "c0d08801",
   "metadata": {},
   "outputs": [],
   "source": [
    "# create the list holding True/False values to the test np.random.rant() <= 0.7\n",
    "dev = np.random.rand(len(df)) <= 0.7"
   ]
  },
  {
   "cell_type": "code",
   "execution_count": 13,
   "id": "34f63b4b",
   "metadata": {},
   "outputs": [],
   "source": [
    "# store 70% of the sample in the dataframe big\n",
    "bigdf = df[dev]"
   ]
  },
  {
   "cell_type": "code",
   "execution_count": 15,
   "id": "0c0512cc",
   "metadata": {},
   "outputs": [],
   "source": [
    "# store 30% of the sample in the dataframe small\n",
    "smalldf = df[~dev]"
   ]
  },
  {
   "cell_type": "code",
   "execution_count": 17,
   "id": "12baa93e",
   "metadata": {},
   "outputs": [
    {
     "data": {
      "text/plain": [
       "32406041"
      ]
     },
     "execution_count": 17,
     "metadata": {},
     "output_type": "execute_result"
    }
   ],
   "source": [
    "# checking the small and large dataframe to ensure that it totals the df dataframe (32406041)\n",
    "len(smalldf) + len(bigdf)"
   ]
  },
  {
   "cell_type": "code",
   "execution_count": 18,
   "id": "a788448d",
   "metadata": {},
   "outputs": [
    {
     "name": "stdout",
     "output_type": "stream",
     "text": [
      "<class 'pandas.core.frame.DataFrame'>\n",
      "Int64Index: 9721457 entries, 0 to 32406037\n",
      "Data columns (total 35 columns):\n",
      " #   Column                  Dtype   \n",
      "---  ------                  -----   \n",
      " 0   order_id                int32   \n",
      " 1   customer_id             int32   \n",
      " 2   eval_set                object  \n",
      " 3   order_number            int8    \n",
      " 4   order_day_of_week       int8    \n",
      " 5   order_hour_of_day       int8    \n",
      " 6   days_since_prior_order  float64 \n",
      " 7   product_id              int32   \n",
      " 8   add_to_cart_order       int16   \n",
      " 9   reordered               int8    \n",
      " 10  Unnamed: 0              int64   \n",
      " 11  product_name            object  \n",
      " 12  aisle_id                int64   \n",
      " 13  department_id           int64   \n",
      " 14  prices                  float64 \n",
      " 15  _merge                  category\n",
      " 16  price_range_loc         object  \n",
      " 17  Busiest day             object  \n",
      " 18  Busiest days            object  \n",
      " 19  Most Orders             object  \n",
      " 20  first_name              object  \n",
      " 21  last_name               object  \n",
      " 22  gender                  object  \n",
      " 23  state                   object  \n",
      " 24  age                     int8    \n",
      " 25  date_joined             object  \n",
      " 26  #_of_dependants         int8    \n",
      " 27  marital_status          object  \n",
      " 28  income                  int32   \n",
      " 29  max_order               int8    \n",
      " 30  avg_price               float64 \n",
      " 31  spending_flag           object  \n",
      " 32  median_order_duration   float64 \n",
      " 33  frequency_flag          object  \n",
      " 34  loyalty_flag            object  \n",
      "dtypes: category(1), float64(4), int16(1), int32(4), int64(3), int8(7), object(15)\n",
      "memory usage: 1.9+ GB\n"
     ]
    }
   ],
   "source": [
    "smalldf.info()"
   ]
  },
  {
   "cell_type": "code",
   "execution_count": 19,
   "id": "13d449b9",
   "metadata": {},
   "outputs": [
    {
     "name": "stdout",
     "output_type": "stream",
     "text": [
      "CPU times: total: 4.75 s\n",
      "Wall time: 5.16 s\n"
     ]
    }
   ],
   "source": [
    "%%time\n",
    "# exporting smalldf to pickle file\n",
    "smalldf.to_pickle(os.path.join(path, '02 - Data','Prepared Data', '4.9_revamped_smalldf.pkl'))"
   ]
  },
  {
   "cell_type": "code",
   "execution_count": null,
   "id": "1b51ca91",
   "metadata": {},
   "outputs": [],
   "source": []
  }
 ],
 "metadata": {
  "kernelspec": {
   "display_name": "Python 3 (ipykernel)",
   "language": "python",
   "name": "python3"
  },
  "language_info": {
   "codemirror_mode": {
    "name": "ipython",
    "version": 3
   },
   "file_extension": ".py",
   "mimetype": "text/x-python",
   "name": "python",
   "nbconvert_exporter": "python",
   "pygments_lexer": "ipython3",
   "version": "3.9.12"
  }
 },
 "nbformat": 4,
 "nbformat_minor": 5
}
