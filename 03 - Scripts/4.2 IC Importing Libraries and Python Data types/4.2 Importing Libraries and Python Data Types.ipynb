{
 "cells": [
  {
   "cell_type": "markdown",
   "id": "a5b8226b",
   "metadata": {},
   "source": [
    "# 01. Importing Libraries"
   ]
  },
  {
   "cell_type": "code",
   "execution_count": 1,
   "id": "a41ca191",
   "metadata": {},
   "outputs": [],
   "source": [
    "# Import Libraries\n",
    "import pandas as pd\n",
    "import numpy as np\n",
    "import os"
   ]
  },
  {
   "cell_type": "markdown",
   "id": "b4cf50ac",
   "metadata": {},
   "source": [
    "# 02. Data Types"
   ]
  },
  {
   "cell_type": "markdown",
   "id": "1f4e0fa4",
   "metadata": {},
   "source": [
    "## Integers and Strings"
   ]
  },
  {
   "cell_type": "code",
   "execution_count": 2,
   "id": "ab09bfe6",
   "metadata": {},
   "outputs": [],
   "source": [
    "x=50"
   ]
  },
  {
   "cell_type": "code",
   "execution_count": 3,
   "id": "14a8900a",
   "metadata": {},
   "outputs": [
    {
     "data": {
      "text/plain": [
       "100"
      ]
     },
     "execution_count": 3,
     "metadata": {},
     "output_type": "execute_result"
    }
   ],
   "source": [
    "x+x"
   ]
  },
  {
   "cell_type": "code",
   "execution_count": 4,
   "id": "03d89c38",
   "metadata": {},
   "outputs": [
    {
     "data": {
      "text/plain": [
       "100"
      ]
     },
     "execution_count": 4,
     "metadata": {},
     "output_type": "execute_result"
    }
   ],
   "source": [
    "150-x"
   ]
  },
  {
   "cell_type": "code",
   "execution_count": 5,
   "id": "981eef41",
   "metadata": {},
   "outputs": [
    {
     "data": {
      "text/plain": [
       "100"
      ]
     },
     "execution_count": 5,
     "metadata": {},
     "output_type": "execute_result"
    }
   ],
   "source": [
    "200-x-x"
   ]
  },
  {
   "cell_type": "code",
   "execution_count": 6,
   "id": "d94f01f7",
   "metadata": {},
   "outputs": [],
   "source": [
    "a=1.5"
   ]
  },
  {
   "cell_type": "code",
   "execution_count": 7,
   "id": "e52a3440",
   "metadata": {},
   "outputs": [],
   "source": [
    "b=2.5"
   ]
  },
  {
   "cell_type": "code",
   "execution_count": 8,
   "id": "90d4339e",
   "metadata": {},
   "outputs": [
    {
     "data": {
      "text/plain": [
       "0.6"
      ]
     },
     "execution_count": 8,
     "metadata": {},
     "output_type": "execute_result"
    }
   ],
   "source": [
    "a/b"
   ]
  },
  {
   "cell_type": "code",
   "execution_count": 1,
   "id": "d6468032",
   "metadata": {},
   "outputs": [],
   "source": [
    "c = 'happy '"
   ]
  },
  {
   "cell_type": "code",
   "execution_count": 11,
   "id": "bbce7c6a",
   "metadata": {},
   "outputs": [],
   "source": [
    "d = 'hippos'"
   ]
  },
  {
   "cell_type": "code",
   "execution_count": 12,
   "id": "b56b5adc",
   "metadata": {},
   "outputs": [
    {
     "data": {
      "text/plain": [
       "'happy hippos'"
      ]
     },
     "execution_count": 12,
     "metadata": {},
     "output_type": "execute_result"
    }
   ],
   "source": [
    "c+d"
   ]
  },
  {
   "cell_type": "code",
   "execution_count": 13,
   "id": "1f865940",
   "metadata": {},
   "outputs": [],
   "source": [
    "e='Happy Friday! '"
   ]
  },
  {
   "cell_type": "code",
   "execution_count": 14,
   "id": "3676232e",
   "metadata": {},
   "outputs": [],
   "source": [
    "f='We made it to the weekend.'"
   ]
  },
  {
   "cell_type": "code",
   "execution_count": 15,
   "id": "63297e0b",
   "metadata": {},
   "outputs": [
    {
     "data": {
      "text/plain": [
       "'Happy Friday! We made it to the weekend.'"
      ]
     },
     "execution_count": 15,
     "metadata": {},
     "output_type": "execute_result"
    }
   ],
   "source": [
    "e+f"
   ]
  },
  {
   "cell_type": "code",
   "execution_count": null,
   "id": "841aec1c",
   "metadata": {},
   "outputs": [],
   "source": []
  }
 ],
 "metadata": {
  "kernelspec": {
   "display_name": "Python 3 (ipykernel)",
   "language": "python",
   "name": "python3"
  },
  "language_info": {
   "codemirror_mode": {
    "name": "ipython",
    "version": 3
   },
   "file_extension": ".py",
   "mimetype": "text/x-python",
   "name": "python",
   "nbconvert_exporter": "python",
   "pygments_lexer": "ipython3",
   "version": "3.9.12"
  }
 },
 "nbformat": 4,
 "nbformat_minor": 5
}
