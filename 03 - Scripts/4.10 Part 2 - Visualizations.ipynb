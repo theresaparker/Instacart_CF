{
 "cells": [
  {
   "cell_type": "markdown",
   "id": "a0aa46b0",
   "metadata": {},
   "source": [
    "# Task 4.10 Part 2 - Visualizations"
   ]
  },
  {
   "cell_type": "markdown",
   "id": "fec95d6b",
   "metadata": {},
   "source": [
    "## Contents\n",
    "#### *Important note Due to the large dataset of the data and RAM, the main dataframe has a 30% random sample from the original dataframe at the end of 4.9.*\n",
    "\n",
    "### 1. Importing libraries and data\n",
    "### 2. Data checks & preparation\n",
    "### 3. Create subsets\n",
    "        3a. Customer subset\n",
    "        3b. Order subset\n",
    "### 4. Visualizations for key questions\n",
    "        Question 1.  Busiest day and times for orders\n",
    "        Question 2: Time when most money is spent\n",
    "        Question 3. Product price breakdown \n",
    "        Question 4:  Popularity of products and departments\n",
    "            -- Number of products available in top 10 departments\n",
    "            -- Top 10 selling departments\n",
    "        Question 5:  Customer type and ordering behavior\n",
    "                -- Customer Loyalty\n",
    "                -- Median days between orders due to customer loyalty\n",
    "                -- Customer loyalty by region\n",
    "                -- Common ordering day by customer loyalty\n",
    "                -- Order day by income range\n",
    "                -- Pet supply purchases and gender\n",
    "                -- Pet supply purchases and state\n",
    "                -- Snack purchases by hour\n",
    "                -- Age range vs. income\n",
    "\n",
    "### 5.  Final overview of dataframe\n",
    "### 6.  Export data and visualizations\n",
    "### 7.  Summmary of data"
   ]
  },
  {
   "cell_type": "markdown",
   "id": "80918b68",
   "metadata": {},
   "source": [
    "## 1. Import libraries and data"
   ]
  },
  {
   "cell_type": "code",
   "execution_count": 1,
   "id": "f3139460",
   "metadata": {},
   "outputs": [],
   "source": [
    "import pandas as pd\n",
    "import numpy as np\n",
    "import os\n",
    "import matplotlib.pyplot as plt\n",
    "import seaborn as sns\n",
    "import scipy"
   ]
  },
  {
   "cell_type": "code",
   "execution_count": 2,
   "id": "b8362298",
   "metadata": {},
   "outputs": [],
   "source": [
    "# creating path\n",
    "path = r'C:\\Users\\there\\Desktop\\Career Foundry\\06.2022 Instacart Basket Analysis'"
   ]
  },
  {
   "cell_type": "code",
   "execution_count": 3,
   "id": "f2090a8a",
   "metadata": {},
   "outputs": [],
   "source": [
    "# importing main dataframe\n",
    "# Note this main dataframe is still 30% random subset of the entire dataframe. \n",
    "df = pd.read_pickle(os.path.join(path,'02 - Data', 'Prepared Data', '4.10_part1.pkl'))"
   ]
  },
  {
   "cell_type": "code",
   "execution_count": 4,
   "id": "fff14433",
   "metadata": {},
   "outputs": [],
   "source": [
    "# importing region dataframe\n",
    "df_region = pd.read_pickle(os.path.join(path,'02 - Data', 'Prepared Data', '4.10_region.pkl'))"
   ]
  },
  {
   "cell_type": "markdown",
   "id": "624e614f",
   "metadata": {},
   "source": [
    "## 2. Data checks and preparation"
   ]
  },
  {
   "cell_type": "code",
   "execution_count": 5,
   "id": "a1cd48dd",
   "metadata": {},
   "outputs": [
    {
     "data": {
      "text/plain": [
       "(9270020, 38)"
      ]
     },
     "execution_count": 5,
     "metadata": {},
     "output_type": "execute_result"
    }
   ],
   "source": [
    "df.shape"
   ]
  },
  {
   "cell_type": "code",
   "execution_count": 6,
   "id": "05d9ed78",
   "metadata": {},
   "outputs": [
    {
     "data": {
      "text/plain": [
       "(4, 6)"
      ]
     },
     "execution_count": 6,
     "metadata": {},
     "output_type": "execute_result"
    }
   ],
   "source": [
    "df_region.shape"
   ]
  },
  {
   "cell_type": "code",
   "execution_count": 7,
   "id": "dfc3d99a",
   "metadata": {},
   "outputs": [
    {
     "name": "stdout",
     "output_type": "stream",
     "text": [
      "<class 'pandas.core.frame.DataFrame'>\n",
      "Int64Index: 9270020 entries, 0 to 32390080\n",
      "Data columns (total 38 columns):\n",
      " #   Column                  Dtype  \n",
      "---  ------                  -----  \n",
      " 0   order_id                int32  \n",
      " 1   customer_id             int32  \n",
      " 2   eval_set                object \n",
      " 3   order_number            int8   \n",
      " 4   order_day_of_week       int8   \n",
      " 5   order_hour_of_day       int8   \n",
      " 6   days_since_prior_order  float64\n",
      " 7   product_id              int32  \n",
      " 8   add_to_cart_order       int16  \n",
      " 9   reordered               int8   \n",
      " 10  Unnamed: 0_x            int64  \n",
      " 11  product_name            object \n",
      " 12  prices                  float64\n",
      " 13  price_range_loc         object \n",
      " 14  Busiest day             object \n",
      " 15  Busiest days            object \n",
      " 16  Most Orders             object \n",
      " 17  gender                  object \n",
      " 18  state                   object \n",
      " 19  age                     int8   \n",
      " 20  date_joined             object \n",
      " 21  #_of_dependants         int8   \n",
      " 22  marital_status          object \n",
      " 23  income                  int32  \n",
      " 24  max_order               int8   \n",
      " 25  avg_price               float64\n",
      " 26  spending_flag           object \n",
      " 27  median_order_duration   float64\n",
      " 28  frequency_flag          object \n",
      " 29  loyalty_flag            object \n",
      " 30  department              object \n",
      " 31  region                  object \n",
      " 32  exclusion_flag          object \n",
      " 33  age_range               object \n",
      " 34  pet_stuff               int8   \n",
      " 35  baby_stuff              int8   \n",
      " 36  snacks                  int8   \n",
      " 37  income_flag             object \n",
      "dtypes: float64(4), int16(1), int32(4), int64(1), int8(10), object(18)\n",
      "memory usage: 1.9+ GB\n"
     ]
    }
   ],
   "source": [
    "df.info()"
   ]
  },
  {
   "cell_type": "code",
   "execution_count": 8,
   "id": "7005e5ab",
   "metadata": {},
   "outputs": [
    {
     "name": "stdout",
     "output_type": "stream",
     "text": [
      "<class 'pandas.core.frame.DataFrame'>\n",
      "Index: 4 entries, midwest to west\n",
      "Data columns (total 6 columns):\n",
      " #   Column                   Non-Null Count  Dtype  \n",
      "---  ------                   --------------  -----  \n",
      " 0   sum_of_sales             4 non-null      float64\n",
      " 1   customer_count           4 non-null      int64  \n",
      " 2   orders_placed            4 non-null      int64  \n",
      " 3   avg_price_per_order      4 non-null      float64\n",
      " 4   avg_price_per_customer   4 non-null      float64\n",
      " 5   avg_orders_per_customer  4 non-null      float64\n",
      "dtypes: float64(4), int64(2)\n",
      "memory usage: 224.0+ bytes\n"
     ]
    }
   ],
   "source": [
    "df_region.info()"
   ]
  },
  {
   "cell_type": "markdown",
   "id": "6c8c9196",
   "metadata": {},
   "source": [
    "## 3. Create subsets to answer key questions"
   ]
  },
  {
   "cell_type": "code",
   "execution_count": 9,
   "id": "a0c18cbf",
   "metadata": {},
   "outputs": [
    {
     "data": {
      "text/plain": [
       "(2742363, 38)"
      ]
     },
     "execution_count": 9,
     "metadata": {},
     "output_type": "execute_result"
    }
   ],
   "source": [
    "# create a df that just lists orders (and only necessary columns)\n",
    "orders = df.drop_duplicates(subset='order_id')\n",
    "orders.shape"
   ]
  },
  {
   "cell_type": "code",
   "execution_count": 10,
   "id": "66d3e5a6",
   "metadata": {},
   "outputs": [
    {
     "data": {
      "text/plain": [
       "(205302, 38)"
      ]
     },
     "execution_count": 10,
     "metadata": {},
     "output_type": "execute_result"
    }
   ],
   "source": [
    "# create a df that just lists orders (and only necessary columns)\n",
    "customers = df.drop_duplicates(subset='customer_id')\n",
    "customers.shape"
   ]
  },
  {
   "cell_type": "markdown",
   "id": "038eb943",
   "metadata": {},
   "source": [
    "## 4. Visualizations for Key Questions"
   ]
  },
  {
   "cell_type": "markdown",
   "id": "cb399224",
   "metadata": {},
   "source": [
    "### Question 1) The sales team needs to know what the busiest days of the week and hours of the day are (i.e., the days and times with the most orders) in order to schedule ads at times when there are fewer orders."
   ]
  },
  {
   "cell_type": "code",
   "execution_count": 11,
   "id": "d257e3aa",
   "metadata": {},
   "outputs": [],
   "source": [
    "# map the meaning of day of the week from 0-6, to name of day\n",
    "df.loc[df['order_day_of_week'] == 0, 'day_of_week'] = 'Saturday'"
   ]
  },
  {
   "cell_type": "code",
   "execution_count": 12,
   "id": "53bc1c71",
   "metadata": {},
   "outputs": [],
   "source": [
    "df.loc[df['order_day_of_week'] == 1, 'day_of_week'] = 'Sun'\n",
    "df.loc[df['order_day_of_week'] == 2, 'day_of_week'] = 'Mon'\n",
    "df.loc[df['order_day_of_week'] == 3, 'day_of_week'] = 'Tues'\n",
    "df.loc[df['order_day_of_week'] == 4, 'day_of_week'] = 'Wed'\n",
    "df.loc[df['order_day_of_week'] == 5, 'day_of_week'] = 'Thur'\n",
    "df.loc[df['order_day_of_week'] == 6, 'day_of_week'] = 'Fri'"
   ]
  },
  {
   "cell_type": "code",
   "execution_count": 13,
   "id": "d080758d",
   "metadata": {},
   "outputs": [
    {
     "data": {
      "text/plain": [
       "Saturday    1775004\n",
       "Sun         1621232\n",
       "Fri         1285708\n",
       "Mon         1206101\n",
       "Thur        1202619\n",
       "Tues        1098777\n",
       "Wed         1080579\n",
       "Name: day_of_week, dtype: int64"
      ]
     },
     "execution_count": 13,
     "metadata": {},
     "output_type": "execute_result"
    }
   ],
   "source": [
    "# check frequency\n",
    "df['day_of_week'].value_counts()"
   ]
  },
  {
   "cell_type": "markdown",
   "id": "393ab5cf",
   "metadata": {},
   "source": [
    "#### Orders by day"
   ]
  },
  {
   "cell_type": "code",
   "execution_count": 14,
   "id": "a7d7d3e7",
   "metadata": {},
   "outputs": [
    {
     "data": {
      "image/png": "[encoded data removed]",
      "text/plain": [
       "<Figure size 432x288 with 1 Axes>"
      ]
     },
     "metadata": {
      "needs_background": "light"
     },
     "output_type": "display_data"
    }
   ],
   "source": [
    "# orders placed each day of the week\n",
    "Orders_by_day_bar = df['day_of_week'].value_counts().plot.bar(color = ['green'])\n",
    "plt.xlabel('Day of Week', fontsize = 13, fontweight = 'bold')\n",
    "plt.ylabel('# of orders placed', fontsize = 13, fontweight = 'bold')\n",
    "plt.title('Days of the week when orders are placed', fontsize = 15, fontweight = 'bold')\n",
    "plt.xticks(fontsize=13)\n",
    "plt.show()"
   ]
  },
  {
   "cell_type": "markdown",
   "id": "b61a0c00",
   "metadata": {},
   "source": [
    "#### Orders by hour"
   ]
  },
  {
   "cell_type": "code",
   "execution_count": 15,
   "id": "0caf022b",
   "metadata": {},
   "outputs": [
    {
     "data": {
      "image/png": "[encoded data removed]",
      "text/plain": [
       "<Figure size 432x288 with 1 Axes>"
      ]
     },
     "metadata": {
      "needs_background": "light"
     },
     "output_type": "display_data"
    }
   ],
   "source": [
    "# orders placed during time of day\n",
    "Orders_by_hour_bar = df['order_hour_of_day'].value_counts().sort_index().plot.bar(color = ['green'])\n",
    "plt.xlabel('Hour of Day', fontsize = 13, fontweight = 'bold')\n",
    "plt.ylabel('# of orders placed', fontsize = 13, fontweight = 'bold')\n",
    "plt.title('Time when orders are placed', fontsize = 15, fontweight = 'bold')\n",
    "plt.xticks(fontsize=13)\n",
    "plt.show()"
   ]
  },
  {
   "cell_type": "markdown",
   "id": "dbc54fb5",
   "metadata": {},
   "source": [
    "    Results:  I recommend scheduling ads on Tuesdays and Wednesdays from 11pm - 6am, as that is when there are fewest\n",
    "    purchases. "
   ]
  },
  {
   "cell_type": "markdown",
   "id": "90664e22",
   "metadata": {},
   "source": [
    "## Question 2: They also want to know whether there are particular times of the day when people spend the most money, as this might inform the type of products they advertise at these times."
   ]
  },
  {
   "cell_type": "markdown",
   "id": "8d7b7f49",
   "metadata": {},
   "source": [
    "    Results:  Most of the purchases are between 8am - 6pm on Saturday and Sundays. "
   ]
  },
  {
   "cell_type": "code",
   "execution_count": 16,
   "id": "83bc3577",
   "metadata": {},
   "outputs": [
    {
     "data": {
      "image/png": "[encoded data removed]",
      "text/plain": [
       "<Figure size 432x288 with 1 Axes>"
      ]
     },
     "metadata": {
      "needs_background": "light"
     },
     "output_type": "display_data"
    }
   ],
   "source": [
    "# total money by hour of day\n",
    "data1 = orders.groupby(['order_hour_of_day'])['avg_price'].sum()\n",
    "avg_bar_cost_hours = data1.plot.bar(ylabel='Total spent per hour (in tens of millions)',\n",
    "                               color = sns.color_palette(\"dark\")[2], \n",
    "                               title='Total spent per hour of the day')"
   ]
  },
  {
   "cell_type": "markdown",
   "id": "038916c2",
   "metadata": {},
   "source": [
    "## Question 3: Instacart has a lot of products with different price tags. Marketing and sales want to use simpler price range groupings to help direct their efforts."
   ]
  },
  {
   "cell_type": "code",
   "execution_count": 17,
   "id": "6c9b5b6e",
   "metadata": {},
   "outputs": [
    {
     "name": "stdout",
     "output_type": "stream",
     "text": [
      "['Mid-range product' 'Low-range product' 'High-range product']\n"
     ]
    }
   ],
   "source": [
    "print(df['price_range_loc'].unique())"
   ]
  },
  {
   "cell_type": "code",
   "execution_count": 18,
   "id": "da1386a1",
   "metadata": {},
   "outputs": [
    {
     "data": {
      "text/plain": [
       "Text(0.5, 1.0, 'Histogram: Prices of products purchased')"
      ]
     },
     "execution_count": 18,
     "metadata": {},
     "output_type": "execute_result"
    },
    {
     "data": {
      "image/png": "[encoded data removed]",
      "text/plain": [
       "<Figure size 432x288 with 1 Axes>"
      ]
     },
     "metadata": {
      "needs_background": "light"
     },
     "output_type": "display_data"
    }
   ],
   "source": [
    "# Price ranges\n",
    "# Greater than 15 are High range products, between 6-15 are mid-range products, and 5 and below are low range products. \n",
    "hist_prices = df['prices'].plot.hist(bins=50, color = sns.color_palette(\"dark\")[2])\n",
    "plt.xlabel('Price per product')\n",
    "plt.ylabel('Frequency of products purchased')\n",
    "plt.title('Histogram: Prices of products purchased')"
   ]
  },
  {
   "cell_type": "code",
   "execution_count": 19,
   "id": "e64249f8",
   "metadata": {},
   "outputs": [
    {
     "data": {
      "text/plain": [
       "Text(0.5, 1.0, 'Histogram: Prices of products purchased')"
      ]
     },
     "execution_count": 19,
     "metadata": {},
     "output_type": "execute_result"
    },
    {
     "data": {
      "image/png": "[encoded data removed]",
      "text/plain": [
       "<Figure size 432x288 with 1 Axes>"
      ]
     },
     "metadata": {
      "needs_background": "light"
     },
     "output_type": "display_data"
    }
   ],
   "source": [
    "# frequency of price ranges\n",
    "# Greater than 15 are High range products, between 6-15 are mid-range products, and 5 and below are low range products. \n",
    "bar_price_range_loc = df['price_range_loc'].value_counts().plot.barh(color = ['green'])\n",
    "plt.xlabel('Frequency of Item Bought (per millions)', fontsize=13, fontweight = 'bold')\n",
    "plt.ylabel('Price Range', fontsize = 13, fontweight = 'bold')\n",
    "plt.title('Histogram: Prices of products purchased', fontsize=15, fontweight = 'bold')"
   ]
  },
  {
   "cell_type": "code",
   "execution_count": 20,
   "id": "67e1fddb",
   "metadata": {},
   "outputs": [],
   "source": [
    "price_range_products = df[['price_range_loc','product_id']].groupby(['price_range_loc']).nunique().sort_index"
   ]
  },
  {
   "cell_type": "code",
   "execution_count": 21,
   "id": "b11dc8fb",
   "metadata": {},
   "outputs": [
    {
     "data": {
      "text/plain": [
       "<bound method DataFrame.sort_index of                     product_id\n",
       "price_range_loc               \n",
       "High-range product         542\n",
       "Low-range product        15519\n",
       "Mid-range product        31055>"
      ]
     },
     "execution_count": 21,
     "metadata": {},
     "output_type": "execute_result"
    }
   ],
   "source": [
    "price_range_products"
   ]
  },
  {
   "cell_type": "markdown",
   "id": "601e65eb",
   "metadata": {},
   "source": [
    "    Results:  Most purchases fall between $6-$15 in the mid range category.  Fewest prices are purchases $15 \n",
    "    and greater. "
   ]
  },
  {
   "cell_type": "markdown",
   "id": "0bc34a78",
   "metadata": {},
   "source": [
    "## Question 4: Are there certain types of products that are more popular than others? The marketing and sales teams want to know which departments have the highest frequency of product orders."
   ]
  },
  {
   "cell_type": "markdown",
   "id": "c43cc1a3",
   "metadata": {},
   "source": [
    "#### Number of products available in top 10 departments"
   ]
  },
  {
   "cell_type": "code",
   "execution_count": 22,
   "id": "e5963a40",
   "metadata": {},
   "outputs": [
    {
     "data": {
      "text/plain": [
       "Text(0.5, 0, 'Number of products')"
      ]
     },
     "execution_count": 22,
     "metadata": {},
     "output_type": "execute_result"
    },
    {
     "data": {
      "image/png": "[encoded data removed]",
      "text/plain": [
       "<Figure size 432x288 with 1 Axes>"
      ]
     },
     "metadata": {
      "needs_background": "light"
     },
     "output_type": "display_data"
    }
   ],
   "source": [
    "data3 = (df[['department', 'product_id']].groupby(['department'])\n",
    "        .nunique().sort_values(by='product_id')).head(10)\n",
    "bar_products_1 = data3.plot.barh(color = sns.color_palette(\"muted\")[0], legend=None)\n",
    "plt.title('Number of products available in top-10 departments', fontsize = 15, fontweight = 'bold')\n",
    "plt.ylabel('')\n",
    "plt.xlabel('Number of products', fontsize=13, fontweight = 'bold')"
   ]
  },
  {
   "cell_type": "markdown",
   "id": "38c99008",
   "metadata": {},
   "source": [
    "    Results: Produce department has the highest number of products available. "
   ]
  },
  {
   "cell_type": "markdown",
   "id": "4fd2102e",
   "metadata": {},
   "source": [
    "#### Number of products purchased top 10 departments"
   ]
  },
  {
   "cell_type": "code",
   "execution_count": 23,
   "id": "188f2618",
   "metadata": {},
   "outputs": [
    {
     "data": {
      "text/plain": [
       "Text(0.5, 1.0, 'Number of products sold in top-10 departments')"
      ]
     },
     "execution_count": 23,
     "metadata": {},
     "output_type": "execute_result"
    },
    {
     "data": {
      "image/png": "[encoded data removed]",
      "text/plain": [
       "<Figure size 432x288 with 1 Axes>"
      ]
     },
     "metadata": {
      "needs_background": "light"
     },
     "output_type": "display_data"
    }
   ],
   "source": [
    "data4 = df['department'].value_counts().sort_values().tail(10)\n",
    "bar_products_2 = data4.plot.barh(color = sns.color_palette(\"muted\")[3], legend=None)\n",
    "plt.xlabel('Number of products sold (in millions)', fontsize=13, fontweight='bold')\n",
    "plt.title('Number of products sold in top-10 departments', fontsize=15, fontweight='bold')"
   ]
  },
  {
   "cell_type": "markdown",
   "id": "07bce82b",
   "metadata": {},
   "source": [
    "    Results:  Alcohol department has the highest number of sales"
   ]
  },
  {
   "cell_type": "markdown",
   "id": "4d561569",
   "metadata": {},
   "source": [
    "## Question 5:  The marketing and sales teams are particularly interested in the different types of customers in their system and how their ordering behaviors differ."
   ]
  },
  {
   "cell_type": "markdown",
   "id": "79d57985",
   "metadata": {},
   "source": [
    "'Ordering habits' can be defined in a number of ways. Some examples:\n",
    " > - common order day\n",
    " > - days in between orders\n",
    " > - average order cost\n",
    " > - total number of orders\n",
    " > - total spent"
   ]
  },
  {
   "cell_type": "markdown",
   "id": "d58063e3",
   "metadata": {},
   "source": [
    "#### Customer loyalty"
   ]
  },
  {
   "cell_type": "code",
   "execution_count": 24,
   "id": "67c8040e",
   "metadata": {},
   "outputs": [
    {
     "data": {
      "image/png": "[encoded data removed]",
      "text/plain": [
       "<Figure size 432x288 with 1 Axes>"
      ]
     },
     "metadata": {},
     "output_type": "display_data"
    }
   ],
   "source": [
    "data5 = customers['loyalty_flag'].value_counts().sort_index()\n",
    "pie_loyalty_customers = data5.plot.pie(autopct=('%1.0f%%'), colors = sns.color_palette(\"muted\")[1:4],\n",
    "                                      wedgeprops={'linewidth': 2, 'edgecolor': 'white'},\n",
    "                                      legend=None, ylabel='', title='Division of customers by loyalty',\n",
    "                                      labels =['Over 40 orders', 'Less than 10 orders', 'Between 10 and 40 orders'])\n",
    "                                                  "
   ]
  },
  {
   "cell_type": "markdown",
   "id": "4867e331",
   "metadata": {},
   "source": [
    "    Results: 52% of place between 10-40 orders, which are deemed as a Normal Customer. "
   ]
  },
  {
   "cell_type": "markdown",
   "id": "f93528b1",
   "metadata": {},
   "source": [
    "#### median days between orders"
   ]
  },
  {
   "cell_type": "code",
   "execution_count": 25,
   "id": "0f976bfb",
   "metadata": {},
   "outputs": [
    {
     "data": {
      "text/plain": [
       "Text(0.5, 1.0, 'Median days between orders for customers')"
      ]
     },
     "execution_count": 25,
     "metadata": {},
     "output_type": "execute_result"
    },
    {
     "data": {
      "image/png": "[encoded data removed]",
      "text/plain": [
       "<Figure size 432x288 with 1 Axes>"
      ]
     },
     "metadata": {
      "needs_background": "light"
     },
     "output_type": "display_data"
    }
   ],
   "source": [
    "# visualize frequency of median_day_between orders for all customers\n",
    "hist_median_days = customers['median_order_duration'].plot.hist(bins=31, color=sns.color_palette(\"muted\")[2])\n",
    "plt.xlabel('Median days in between orders', fontsize=13, fontweight='bold')\n",
    "plt.ylabel('Count of customers', fontsize=13, fontweight='bold')\n",
    "plt.title('Median days between orders for customers', fontsize=15, fontweight='bold')"
   ]
  },
  {
   "cell_type": "code",
   "execution_count": 26,
   "id": "66e94b59",
   "metadata": {},
   "outputs": [
    {
     "data": {
      "text/plain": [
       "7.0     1678901\n",
       "6.0      880815\n",
       "8.0      796259\n",
       "5.0      734535\n",
       "4.0      684799\n",
       "         ...   \n",
       "27.5       1470\n",
       "26.5       1348\n",
       "29.5       1259\n",
       "1.5         429\n",
       "0.5          26\n",
       "Name: median_order_duration, Length: 61, dtype: int64"
      ]
     },
     "execution_count": 26,
     "metadata": {},
     "output_type": "execute_result"
    }
   ],
   "source": [
    "df['median_order_duration'].value_counts().sort_values(ascending=False)"
   ]
  },
  {
   "cell_type": "markdown",
   "id": "b7f4eccc",
   "metadata": {},
   "source": [
    "    Results:  Most customers order every 7 days"
   ]
  },
  {
   "cell_type": "code",
   "execution_count": 27,
   "id": "8ca3f1f8",
   "metadata": {},
   "outputs": [
    {
     "data": {
      "text/html": [
       "<div>\n",
       "<style scoped>\n",
       "    .dataframe tbody tr th:only-of-type {\n",
       "        vertical-align: middle;\n",
       "    }\n",
       "\n",
       "    .dataframe tbody tr th {\n",
       "        vertical-align: top;\n",
       "    }\n",
       "\n",
       "    .dataframe thead tr th {\n",
       "        text-align: left;\n",
       "    }\n",
       "\n",
       "    .dataframe thead tr:last-of-type th {\n",
       "        text-align: right;\n",
       "    }\n",
       "</style>\n",
       "<table border=\"1\" class=\"dataframe\">\n",
       "  <thead>\n",
       "    <tr>\n",
       "      <th></th>\n",
       "      <th>median_order_duration</th>\n",
       "    </tr>\n",
       "    <tr>\n",
       "      <th></th>\n",
       "      <th>mean</th>\n",
       "    </tr>\n",
       "    <tr>\n",
       "      <th>loyalty_flag</th>\n",
       "      <th></th>\n",
       "    </tr>\n",
       "  </thead>\n",
       "  <tbody>\n",
       "    <tr>\n",
       "      <th>Loyal Customer</th>\n",
       "      <td>5.170608</td>\n",
       "    </tr>\n",
       "    <tr>\n",
       "      <th>New Customer</th>\n",
       "      <td>18.043116</td>\n",
       "    </tr>\n",
       "    <tr>\n",
       "      <th>Regular Customer</th>\n",
       "      <td>10.610199</td>\n",
       "    </tr>\n",
       "  </tbody>\n",
       "</table>\n",
       "</div>"
      ],
      "text/plain": [
       "                 median_order_duration\n",
       "                                  mean\n",
       "loyalty_flag                          \n",
       "Loyal Customer                5.170608\n",
       "New Customer                 18.043116\n",
       "Regular Customer             10.610199"
      ]
     },
     "execution_count": 27,
     "metadata": {},
     "output_type": "execute_result"
    }
   ],
   "source": [
    "# mean of median_days_between orders based on loyalty_flag\n",
    "cross_median_loyalty = df.groupby('loyalty_flag').agg({'median_order_duration':['mean']})\n",
    "cross_median_loyalty"
   ]
  },
  {
   "cell_type": "code",
   "execution_count": 28,
   "id": "81872585",
   "metadata": {},
   "outputs": [],
   "source": [
    "cross_median_loyalty.to_clipboard()"
   ]
  },
  {
   "cell_type": "code",
   "execution_count": 29,
   "id": "cc5202d5",
   "metadata": {},
   "outputs": [
    {
     "data": {
      "text/plain": [
       "Text(0.5, 0, 'median days between orders')"
      ]
     },
     "execution_count": 29,
     "metadata": {},
     "output_type": "execute_result"
    },
    {
     "data": {
      "image/png": "[encoded data removed]",
      "text/plain": [
       "<Figure size 432x288 with 1 Axes>"
      ]
     },
     "metadata": {
      "needs_background": "light"
     },
     "output_type": "display_data"
    }
   ],
   "source": [
    "# creating horizontal bar char to show median order duration per customer loyalty\n",
    "data6 = df.groupby('loyalty_flag').agg({'median_order_duration':['mean']})\n",
    "bar_median_order_loyalty = data6.plot.barh(color = sns.color_palette(\"muted\")[0], legend=None)\n",
    "plt.title('Median days between orders based on loyalty flag', fontsize = 15, fontweight = 'bold')\n",
    "plt.ylabel('Customer Loyalty')\n",
    "plt.xlabel('median days between orders', fontsize=13, fontweight = 'bold')"
   ]
  },
  {
   "cell_type": "markdown",
   "id": "d8b901a2",
   "metadata": {},
   "source": [
    "    Results: The average time between orders for loyal customers is 5 days"
   ]
  },
  {
   "cell_type": "markdown",
   "id": "13642fc5",
   "metadata": {},
   "source": [
    "#### customer loyalty according to region"
   ]
  },
  {
   "cell_type": "code",
   "execution_count": 30,
   "id": "5972c906",
   "metadata": {},
   "outputs": [],
   "source": [
    "# number of customers by type in each region\n",
    "cross_region=pd.crosstab(customers['loyalty_flag'], customers['region'])"
   ]
  },
  {
   "cell_type": "code",
   "execution_count": 31,
   "id": "0d090203",
   "metadata": {},
   "outputs": [
    {
     "data": {
      "text/html": [
       "<div>\n",
       "<style scoped>\n",
       "    .dataframe tbody tr th:only-of-type {\n",
       "        vertical-align: middle;\n",
       "    }\n",
       "\n",
       "    .dataframe tbody tr th {\n",
       "        vertical-align: top;\n",
       "    }\n",
       "\n",
       "    .dataframe thead th {\n",
       "        text-align: right;\n",
       "    }\n",
       "</style>\n",
       "<table border=\"1\" class=\"dataframe\">\n",
       "  <thead>\n",
       "    <tr style=\"text-align: right;\">\n",
       "      <th>region</th>\n",
       "      <th>midwest</th>\n",
       "      <th>northeast</th>\n",
       "      <th>south</th>\n",
       "      <th>west</th>\n",
       "    </tr>\n",
       "    <tr>\n",
       "      <th>loyalty_flag</th>\n",
       "      <th></th>\n",
       "      <th></th>\n",
       "      <th></th>\n",
       "      <th></th>\n",
       "    </tr>\n",
       "  </thead>\n",
       "  <tbody>\n",
       "    <tr>\n",
       "      <th>Loyal Customer</th>\n",
       "      <td>15257</td>\n",
       "      <td>11558</td>\n",
       "      <td>21940</td>\n",
       "      <td>16814</td>\n",
       "    </tr>\n",
       "    <tr>\n",
       "      <th>New Customer</th>\n",
       "      <td>7868</td>\n",
       "      <td>5951</td>\n",
       "      <td>11204</td>\n",
       "      <td>8498</td>\n",
       "    </tr>\n",
       "    <tr>\n",
       "      <th>Regular Customer</th>\n",
       "      <td>25192</td>\n",
       "      <td>18724</td>\n",
       "      <td>35274</td>\n",
       "      <td>27022</td>\n",
       "    </tr>\n",
       "  </tbody>\n",
       "</table>\n",
       "</div>"
      ],
      "text/plain": [
       "region            midwest  northeast  south   west\n",
       "loyalty_flag                                      \n",
       "Loyal Customer      15257      11558  21940  16814\n",
       "New Customer         7868       5951  11204   8498\n",
       "Regular Customer    25192      18724  35274  27022"
      ]
     },
     "execution_count": 31,
     "metadata": {},
     "output_type": "execute_result"
    }
   ],
   "source": [
    "cross_region"
   ]
  },
  {
   "cell_type": "code",
   "execution_count": 32,
   "id": "9a9282c7",
   "metadata": {},
   "outputs": [],
   "source": [
    "# percentage of customers in each region by type\n",
    "cross_region2=pd.crosstab(customers['loyalty_flag'], customers['region']).apply(lambda r: round(r/r.sum()*100,2), axis=0)"
   ]
  },
  {
   "cell_type": "code",
   "execution_count": 33,
   "id": "85688c4a",
   "metadata": {},
   "outputs": [
    {
     "data": {
      "text/html": [
       "<div>\n",
       "<style scoped>\n",
       "    .dataframe tbody tr th:only-of-type {\n",
       "        vertical-align: middle;\n",
       "    }\n",
       "\n",
       "    .dataframe tbody tr th {\n",
       "        vertical-align: top;\n",
       "    }\n",
       "\n",
       "    .dataframe thead th {\n",
       "        text-align: right;\n",
       "    }\n",
       "</style>\n",
       "<table border=\"1\" class=\"dataframe\">\n",
       "  <thead>\n",
       "    <tr style=\"text-align: right;\">\n",
       "      <th>region</th>\n",
       "      <th>midwest</th>\n",
       "      <th>northeast</th>\n",
       "      <th>south</th>\n",
       "      <th>west</th>\n",
       "    </tr>\n",
       "    <tr>\n",
       "      <th>loyalty_flag</th>\n",
       "      <th></th>\n",
       "      <th></th>\n",
       "      <th></th>\n",
       "      <th></th>\n",
       "    </tr>\n",
       "  </thead>\n",
       "  <tbody>\n",
       "    <tr>\n",
       "      <th>Loyal Customer</th>\n",
       "      <td>31.58</td>\n",
       "      <td>31.90</td>\n",
       "      <td>32.07</td>\n",
       "      <td>32.13</td>\n",
       "    </tr>\n",
       "    <tr>\n",
       "      <th>New Customer</th>\n",
       "      <td>16.28</td>\n",
       "      <td>16.42</td>\n",
       "      <td>16.38</td>\n",
       "      <td>16.24</td>\n",
       "    </tr>\n",
       "    <tr>\n",
       "      <th>Regular Customer</th>\n",
       "      <td>52.14</td>\n",
       "      <td>51.68</td>\n",
       "      <td>51.56</td>\n",
       "      <td>51.63</td>\n",
       "    </tr>\n",
       "  </tbody>\n",
       "</table>\n",
       "</div>"
      ],
      "text/plain": [
       "region            midwest  northeast  south   west\n",
       "loyalty_flag                                      \n",
       "Loyal Customer      31.58      31.90  32.07  32.13\n",
       "New Customer        16.28      16.42  16.38  16.24\n",
       "Regular Customer    52.14      51.68  51.56  51.63"
      ]
     },
     "execution_count": 33,
     "metadata": {},
     "output_type": "execute_result"
    }
   ],
   "source": [
    "cross_region2"
   ]
  },
  {
   "cell_type": "code",
   "execution_count": 34,
   "id": "8d09acf3",
   "metadata": {},
   "outputs": [],
   "source": [
    "cross_region2.to_clipboard()"
   ]
  },
  {
   "cell_type": "markdown",
   "id": "684d3cfa",
   "metadata": {},
   "source": [
    "       Results: The largest percentage of customers are regular customers.  This is across the board for every region; however, nothing really stands out.  "
   ]
  },
  {
   "cell_type": "markdown",
   "id": "d23205b2",
   "metadata": {},
   "source": [
    "#### common ordering day"
   ]
  },
  {
   "cell_type": "code",
   "execution_count": 35,
   "id": "8c2bbb9a",
   "metadata": {},
   "outputs": [],
   "source": [
    "# map the meaning of days 0-6 to days Sat-Fri\n",
    "days = pd.DataFrame(data={'days':['Sat', 'Sun', 'Mon', 'Tue', 'Wed', 'Thu', 'Fri']})"
   ]
  },
  {
   "cell_type": "code",
   "execution_count": 36,
   "id": "8648c085",
   "metadata": {},
   "outputs": [
    {
     "data": {
      "text/plain": [
       "Text(0.5, 1.0, 'Frequency of most common order days')"
      ]
     },
     "execution_count": 36,
     "metadata": {},
     "output_type": "execute_result"
    },
    {
     "data": {
      "image/png": "[encoded data removed]",
      "text/plain": [
       "<Figure size 432x288 with 1 Axes>"
      ]
     },
     "metadata": {
      "needs_background": "light"
     },
     "output_type": "display_data"
    }
   ],
   "source": [
    "# create histogram with count of orders by day of the week\n",
    "hist_common_day = customers['order_day_of_week'].plot.hist(bins=7, color = sns.color_palette(\"muted\")[3])\n",
    "plt.xlabel('Days of the week', fontsize=13, fontweight ='bold')\n",
    "plt.ylabel('Count of customers', fontsize=13, fontweight ='bold')\n",
    "plt.title('Frequency of most common order days', fontsize=15, fontweight ='bold')"
   ]
  },
  {
   "cell_type": "code",
   "execution_count": 37,
   "id": "946ad48e",
   "metadata": {},
   "outputs": [
    {
     "data": {
      "text/html": [
       "<div>\n",
       "<style scoped>\n",
       "    .dataframe tbody tr th:only-of-type {\n",
       "        vertical-align: middle;\n",
       "    }\n",
       "\n",
       "    .dataframe tbody tr th {\n",
       "        vertical-align: top;\n",
       "    }\n",
       "\n",
       "    .dataframe thead th {\n",
       "        text-align: right;\n",
       "    }\n",
       "</style>\n",
       "<table border=\"1\" class=\"dataframe\">\n",
       "  <thead>\n",
       "    <tr style=\"text-align: right;\">\n",
       "      <th></th>\n",
       "      <th>Loyal Customer</th>\n",
       "      <th>New Customer</th>\n",
       "      <th>Regular Customer</th>\n",
       "    </tr>\n",
       "    <tr>\n",
       "      <th>days</th>\n",
       "      <th></th>\n",
       "      <th></th>\n",
       "      <th></th>\n",
       "    </tr>\n",
       "  </thead>\n",
       "  <tbody>\n",
       "    <tr>\n",
       "      <th>Fri</th>\n",
       "      <td>13.98</td>\n",
       "      <td>14.29</td>\n",
       "      <td>14.14</td>\n",
       "    </tr>\n",
       "    <tr>\n",
       "      <th>Thu</th>\n",
       "      <td>13.04</td>\n",
       "      <td>12.85</td>\n",
       "      <td>12.98</td>\n",
       "    </tr>\n",
       "    <tr>\n",
       "      <th>Wed</th>\n",
       "      <td>12.05</td>\n",
       "      <td>12.37</td>\n",
       "      <td>12.04</td>\n",
       "    </tr>\n",
       "    <tr>\n",
       "      <th>Tue</th>\n",
       "      <td>12.33</td>\n",
       "      <td>12.31</td>\n",
       "      <td>12.54</td>\n",
       "    </tr>\n",
       "    <tr>\n",
       "      <th>Mon</th>\n",
       "      <td>13.16</td>\n",
       "      <td>13.17</td>\n",
       "      <td>13.35</td>\n",
       "    </tr>\n",
       "    <tr>\n",
       "      <th>Sun</th>\n",
       "      <td>16.89</td>\n",
       "      <td>16.70</td>\n",
       "      <td>16.79</td>\n",
       "    </tr>\n",
       "    <tr>\n",
       "      <th>Sat</th>\n",
       "      <td>18.55</td>\n",
       "      <td>18.31</td>\n",
       "      <td>18.15</td>\n",
       "    </tr>\n",
       "  </tbody>\n",
       "</table>\n",
       "</div>"
      ],
      "text/plain": [
       "      Loyal Customer  New Customer  Regular Customer\n",
       "days                                                \n",
       "Fri            13.98         14.29             14.14\n",
       "Thu            13.04         12.85             12.98\n",
       "Wed            12.05         12.37             12.04\n",
       "Tue            12.33         12.31             12.54\n",
       "Mon            13.16         13.17             13.35\n",
       "Sun            16.89         16.70             16.79\n",
       "Sat            18.55         18.31             18.15"
      ]
     },
     "execution_count": 37,
     "metadata": {},
     "output_type": "execute_result"
    }
   ],
   "source": [
    "# create crosstab of percentage of orders by customers loyalty for each day of the week. \n",
    "x2 = round(pd.crosstab(customers['order_day_of_week'], customers['loyalty_flag'], normalize='columns')*100, 2)\n",
    "x2 = x2.sort_index(ascending=False)\n",
    "x2 = x2.merge(days, how='inner', left_index=True, right_index=True).set_index('days')\n",
    "x2"
   ]
  },
  {
   "cell_type": "code",
   "execution_count": 38,
   "id": "a6e89c00",
   "metadata": {},
   "outputs": [
    {
     "data": {
      "text/plain": [
       "Text(0, 0.5, '')"
      ]
     },
     "execution_count": 38,
     "metadata": {},
     "output_type": "execute_result"
    },
    {
     "data": {
      "image/png": "[encoded data removed]",
      "text/plain": [
       "<Figure size 432x288 with 1 Axes>"
      ]
     },
     "metadata": {
      "needs_background": "light"
     },
     "output_type": "display_data"
    }
   ],
   "source": [
    "# bar chart displaying customer loyalty\n",
    "bar_common_day_loyalty = x2.plot.barh(color = sns.color_palette(\"muted\")[1:4])\n",
    "plt.title('Common order day and loyalty status')\n",
    "plt.xlabel('Percentage of customers and their common order day')\n",
    "plt.ylabel('')"
   ]
  },
  {
   "cell_type": "markdown",
   "id": "e5949246",
   "metadata": {},
   "source": [
    "    Results:  Overall there is not much of a difference between loyalty and ordering days; however, Saturdays are when the most orders are placed and Loyal Customers place the most orders on Saturdays.  Wednesday was when customers place fewest orders, and New Customers purchase the most on Wednesdays.  Wednesday might be a good idea to include promotions for new customers. "
   ]
  },
  {
   "cell_type": "markdown",
   "id": "13c79fae",
   "metadata": {},
   "source": [
    "#### order day by income range"
   ]
  },
  {
   "cell_type": "code",
   "execution_count": 39,
   "id": "a9718761",
   "metadata": {},
   "outputs": [
    {
     "data": {
      "text/html": [
       "<div>\n",
       "<style scoped>\n",
       "    .dataframe tbody tr th:only-of-type {\n",
       "        vertical-align: middle;\n",
       "    }\n",
       "\n",
       "    .dataframe tbody tr th {\n",
       "        vertical-align: top;\n",
       "    }\n",
       "\n",
       "    .dataframe thead th {\n",
       "        text-align: right;\n",
       "    }\n",
       "</style>\n",
       "<table border=\"1\" class=\"dataframe\">\n",
       "  <thead>\n",
       "    <tr style=\"text-align: right;\">\n",
       "      <th></th>\n",
       "      <th>High Income</th>\n",
       "      <th>Low Income</th>\n",
       "      <th>Middle Income</th>\n",
       "    </tr>\n",
       "    <tr>\n",
       "      <th>days</th>\n",
       "      <th></th>\n",
       "      <th></th>\n",
       "      <th></th>\n",
       "    </tr>\n",
       "  </thead>\n",
       "  <tbody>\n",
       "    <tr>\n",
       "      <th>Sat</th>\n",
       "      <td>8.81</td>\n",
       "      <td>9.93</td>\n",
       "      <td>81.26</td>\n",
       "    </tr>\n",
       "    <tr>\n",
       "      <th>Sun</th>\n",
       "      <td>8.59</td>\n",
       "      <td>13.64</td>\n",
       "      <td>77.77</td>\n",
       "    </tr>\n",
       "    <tr>\n",
       "      <th>Mon</th>\n",
       "      <td>8.60</td>\n",
       "      <td>13.28</td>\n",
       "      <td>78.12</td>\n",
       "    </tr>\n",
       "    <tr>\n",
       "      <th>Tue</th>\n",
       "      <td>8.67</td>\n",
       "      <td>13.05</td>\n",
       "      <td>78.28</td>\n",
       "    </tr>\n",
       "    <tr>\n",
       "      <th>Wed</th>\n",
       "      <td>8.87</td>\n",
       "      <td>12.92</td>\n",
       "      <td>78.21</td>\n",
       "    </tr>\n",
       "    <tr>\n",
       "      <th>Thu</th>\n",
       "      <td>8.82</td>\n",
       "      <td>13.11</td>\n",
       "      <td>78.07</td>\n",
       "    </tr>\n",
       "    <tr>\n",
       "      <th>Fri</th>\n",
       "      <td>8.98</td>\n",
       "      <td>10.18</td>\n",
       "      <td>80.84</td>\n",
       "    </tr>\n",
       "  </tbody>\n",
       "</table>\n",
       "</div>"
      ],
      "text/plain": [
       "      High Income  Low Income  Middle Income\n",
       "days                                        \n",
       "Sat          8.81        9.93          81.26\n",
       "Sun          8.59       13.64          77.77\n",
       "Mon          8.60       13.28          78.12\n",
       "Tue          8.67       13.05          78.28\n",
       "Wed          8.87       12.92          78.21\n",
       "Thu          8.82       13.11          78.07\n",
       "Fri          8.98       10.18          80.84"
      ]
     },
     "execution_count": 39,
     "metadata": {},
     "output_type": "execute_result"
    }
   ],
   "source": [
    "# percent of income received by loyalty flag each day of the week. \n",
    "x3 = round(pd.crosstab(df['order_day_of_week'], df['income_flag'], normalize='index')*100,2)\n",
    "x3 = x3.merge(days, how='inner', left_index=True, right_index=True).set_index('days')\n",
    "x3"
   ]
  },
  {
   "cell_type": "code",
   "execution_count": 40,
   "id": "5ad597ea",
   "metadata": {},
   "outputs": [
    {
     "data": {
      "text/plain": [
       "Text(0, 0.5, '')"
      ]
     },
     "execution_count": 40,
     "metadata": {},
     "output_type": "execute_result"
    },
    {
     "data": {
      "image/png": "[encoded data removed]",
      "text/plain": [
       "<Figure size 432x288 with 1 Axes>"
      ]
     },
     "metadata": {
      "needs_background": "light"
     },
     "output_type": "display_data"
    }
   ],
   "source": [
    "# bar chart displaying customer loyalty\n",
    "bar_income_dow = x3.plot.barh(color = sns.color_palette(\"muted\")[1:4])\n",
    "plt.title('% of Customers Order by Income', fontsize = 15, fontweight='bold')\n",
    "plt.xlabel('Percentage of customers', fontsize = 13, fontweight='bold')\n",
    "plt.ylabel('')"
   ]
  },
  {
   "cell_type": "markdown",
   "id": "992aa0fb",
   "metadata": {},
   "source": [
    "    Results: The largest percentage of cusomters purchasing each day fall in the range of Middle Income. The fewest\n",
    "    purchasing each day are high income customers. "
   ]
  },
  {
   "cell_type": "markdown",
   "id": "2ef49593",
   "metadata": {},
   "source": [
    "#### pets and gender"
   ]
  },
  {
   "cell_type": "code",
   "execution_count": 41,
   "id": "ac6ff6f7",
   "metadata": {},
   "outputs": [],
   "source": [
    "# percent of males/females who purchase pet products\n",
    "crosstb_gender_pets = round(pd.crosstab(df['pet_stuff'],df['gender'], normalize=True)*100,2)"
   ]
  },
  {
   "cell_type": "code",
   "execution_count": 42,
   "id": "533a89d2",
   "metadata": {},
   "outputs": [
    {
     "data": {
      "text/html": [
       "<div>\n",
       "<style scoped>\n",
       "    .dataframe tbody tr th:only-of-type {\n",
       "        vertical-align: middle;\n",
       "    }\n",
       "\n",
       "    .dataframe tbody tr th {\n",
       "        vertical-align: top;\n",
       "    }\n",
       "\n",
       "    .dataframe thead th {\n",
       "        text-align: right;\n",
       "    }\n",
       "</style>\n",
       "<table border=\"1\" class=\"dataframe\">\n",
       "  <thead>\n",
       "    <tr style=\"text-align: right;\">\n",
       "      <th>gender</th>\n",
       "      <th>Female</th>\n",
       "      <th>Male</th>\n",
       "    </tr>\n",
       "    <tr>\n",
       "      <th>pet_stuff</th>\n",
       "      <th></th>\n",
       "      <th></th>\n",
       "    </tr>\n",
       "  </thead>\n",
       "  <tbody>\n",
       "    <tr>\n",
       "      <th>0</th>\n",
       "      <td>7.37</td>\n",
       "      <td>7.59</td>\n",
       "    </tr>\n",
       "    <tr>\n",
       "      <th>1</th>\n",
       "      <td>42.29</td>\n",
       "      <td>42.74</td>\n",
       "    </tr>\n",
       "  </tbody>\n",
       "</table>\n",
       "</div>"
      ],
      "text/plain": [
       "gender     Female   Male\n",
       "pet_stuff               \n",
       "0            7.37   7.59\n",
       "1           42.29  42.74"
      ]
     },
     "execution_count": 42,
     "metadata": {},
     "output_type": "execute_result"
    }
   ],
   "source": [
    "crosstb_gender_pets"
   ]
  },
  {
   "cell_type": "code",
   "execution_count": 43,
   "id": "97951b19",
   "metadata": {},
   "outputs": [
    {
     "data": {
      "text/plain": [
       "Text(0, 0.5, '% of purchases')"
      ]
     },
     "execution_count": 43,
     "metadata": {},
     "output_type": "execute_result"
    },
    {
     "data": {
      "image/png": "[encoded data removed]",
      "text/plain": [
       "<Figure size 432x288 with 1 Axes>"
      ]
     },
     "metadata": {
      "needs_background": "light"
     },
     "output_type": "display_data"
    }
   ],
   "source": [
    "bar_gender_pets = round(pd.crosstab(df['pet_stuff'],df['gender'], normalize=True)*100,2).plot(kind='bar')\n",
    "plt.title('Pet Supply Purchases by Gender', fontsize = 15, fontweight='bold')\n",
    "plt.xlabel('Pet Purchases, (0 = no, 1 = yes)', fontsize = 13, fontweight='bold')\n",
    "plt.ylabel('% of purchases', fontsize=13, fontweight='bold')"
   ]
  },
  {
   "cell_type": "markdown",
   "id": "84ff6535",
   "metadata": {},
   "source": [
    "    Results: There is no difference between the amount of pets supplies that males/females purchase; however, there is a signifant amount customers that purchase pet products compared to those that don't. "
   ]
  },
  {
   "cell_type": "markdown",
   "id": "72e9b102",
   "metadata": {},
   "source": [
    "#### pet supplies sold by state"
   ]
  },
  {
   "cell_type": "code",
   "execution_count": 44,
   "id": "b7a50def",
   "metadata": {},
   "outputs": [
    {
     "data": {
      "text/plain": [
       "yes    7882948\n",
       "NaN    1387072\n",
       "Name: pet_owner, dtype: int64"
      ]
     },
     "execution_count": 44,
     "metadata": {},
     "output_type": "execute_result"
    }
   ],
   "source": [
    "# creating flag for just customers that have a 1 for purchasing pet supplies\n",
    "df.loc[df['pet_stuff'] == 1, 'pet_owner'] = 'yes'\n",
    "df['pet_owner'].value_counts(dropna=False)"
   ]
  },
  {
   "cell_type": "code",
   "execution_count": 45,
   "id": "8ec80733",
   "metadata": {},
   "outputs": [
    {
     "data": {
      "text/html": [
       "<div>\n",
       "<style scoped>\n",
       "    .dataframe tbody tr th:only-of-type {\n",
       "        vertical-align: middle;\n",
       "    }\n",
       "\n",
       "    .dataframe tbody tr th {\n",
       "        vertical-align: top;\n",
       "    }\n",
       "\n",
       "    .dataframe thead th {\n",
       "        text-align: right;\n",
       "    }\n",
       "</style>\n",
       "<table border=\"1\" class=\"dataframe\">\n",
       "  <thead>\n",
       "    <tr style=\"text-align: right;\">\n",
       "      <th>pet_owner</th>\n",
       "      <th>yes</th>\n",
       "    </tr>\n",
       "    <tr>\n",
       "      <th>state</th>\n",
       "      <th></th>\n",
       "    </tr>\n",
       "  </thead>\n",
       "  <tbody>\n",
       "    <tr>\n",
       "      <th>Alabama</th>\n",
       "      <td>1.955296</td>\n",
       "    </tr>\n",
       "    <tr>\n",
       "      <th>Alaska</th>\n",
       "      <td>1.970024</td>\n",
       "    </tr>\n",
       "    <tr>\n",
       "      <th>Arizona</th>\n",
       "      <td>2.036459</td>\n",
       "    </tr>\n",
       "    <tr>\n",
       "      <th>Arkansas</th>\n",
       "      <td>1.968553</td>\n",
       "    </tr>\n",
       "    <tr>\n",
       "      <th>California</th>\n",
       "      <td>2.049994</td>\n",
       "    </tr>\n",
       "    <tr>\n",
       "      <th>Colorado</th>\n",
       "      <td>1.950539</td>\n",
       "    </tr>\n",
       "    <tr>\n",
       "      <th>Connecticut</th>\n",
       "      <td>1.917037</td>\n",
       "    </tr>\n",
       "    <tr>\n",
       "      <th>Delaware</th>\n",
       "      <td>1.986896</td>\n",
       "    </tr>\n",
       "    <tr>\n",
       "      <th>District of Columbia</th>\n",
       "      <td>1.902968</td>\n",
       "    </tr>\n",
       "    <tr>\n",
       "      <th>Florida</th>\n",
       "      <td>1.944767</td>\n",
       "    </tr>\n",
       "    <tr>\n",
       "      <th>Georgia</th>\n",
       "      <td>2.043132</td>\n",
       "    </tr>\n",
       "    <tr>\n",
       "      <th>Hawaii</th>\n",
       "      <td>1.956692</td>\n",
       "    </tr>\n",
       "    <tr>\n",
       "      <th>Idaho</th>\n",
       "      <td>1.862121</td>\n",
       "    </tr>\n",
       "    <tr>\n",
       "      <th>Illinois</th>\n",
       "      <td>1.944590</td>\n",
       "    </tr>\n",
       "    <tr>\n",
       "      <th>Indiana</th>\n",
       "      <td>1.941507</td>\n",
       "    </tr>\n",
       "    <tr>\n",
       "      <th>Iowa</th>\n",
       "      <td>1.911683</td>\n",
       "    </tr>\n",
       "    <tr>\n",
       "      <th>Kansas</th>\n",
       "      <td>1.964608</td>\n",
       "    </tr>\n",
       "    <tr>\n",
       "      <th>Kentucky</th>\n",
       "      <td>1.944755</td>\n",
       "    </tr>\n",
       "    <tr>\n",
       "      <th>Louisiana</th>\n",
       "      <td>1.975530</td>\n",
       "    </tr>\n",
       "    <tr>\n",
       "      <th>Maine</th>\n",
       "      <td>1.982000</td>\n",
       "    </tr>\n",
       "    <tr>\n",
       "      <th>Maryland</th>\n",
       "      <td>1.924813</td>\n",
       "    </tr>\n",
       "    <tr>\n",
       "      <th>Massachusetts</th>\n",
       "      <td>1.968033</td>\n",
       "    </tr>\n",
       "    <tr>\n",
       "      <th>Michigan</th>\n",
       "      <td>1.948446</td>\n",
       "    </tr>\n",
       "    <tr>\n",
       "      <th>Minnesota</th>\n",
       "      <td>1.982406</td>\n",
       "    </tr>\n",
       "    <tr>\n",
       "      <th>Mississippi</th>\n",
       "      <td>1.961424</td>\n",
       "    </tr>\n",
       "    <tr>\n",
       "      <th>Missouri</th>\n",
       "      <td>1.975682</td>\n",
       "    </tr>\n",
       "    <tr>\n",
       "      <th>Montana</th>\n",
       "      <td>1.970215</td>\n",
       "    </tr>\n",
       "    <tr>\n",
       "      <th>Nebraska</th>\n",
       "      <td>1.930128</td>\n",
       "    </tr>\n",
       "    <tr>\n",
       "      <th>Nevada</th>\n",
       "      <td>1.984080</td>\n",
       "    </tr>\n",
       "    <tr>\n",
       "      <th>New Hampshire</th>\n",
       "      <td>1.890917</td>\n",
       "    </tr>\n",
       "    <tr>\n",
       "      <th>New Jersey</th>\n",
       "      <td>1.921007</td>\n",
       "    </tr>\n",
       "    <tr>\n",
       "      <th>New Mexico</th>\n",
       "      <td>2.004428</td>\n",
       "    </tr>\n",
       "    <tr>\n",
       "      <th>New York</th>\n",
       "      <td>1.947292</td>\n",
       "    </tr>\n",
       "    <tr>\n",
       "      <th>North Carolina</th>\n",
       "      <td>2.011798</td>\n",
       "    </tr>\n",
       "    <tr>\n",
       "      <th>North Dakota</th>\n",
       "      <td>1.946175</td>\n",
       "    </tr>\n",
       "    <tr>\n",
       "      <th>Ohio</th>\n",
       "      <td>1.925663</td>\n",
       "    </tr>\n",
       "    <tr>\n",
       "      <th>Oklahoma</th>\n",
       "      <td>2.012711</td>\n",
       "    </tr>\n",
       "    <tr>\n",
       "      <th>Oregon</th>\n",
       "      <td>1.979589</td>\n",
       "    </tr>\n",
       "    <tr>\n",
       "      <th>Pennsylvania</th>\n",
       "      <td>2.100991</td>\n",
       "    </tr>\n",
       "    <tr>\n",
       "      <th>Rhode Island</th>\n",
       "      <td>2.035457</td>\n",
       "    </tr>\n",
       "    <tr>\n",
       "      <th>South Carolina</th>\n",
       "      <td>1.998326</td>\n",
       "    </tr>\n",
       "    <tr>\n",
       "      <th>South Dakota</th>\n",
       "      <td>1.951161</td>\n",
       "    </tr>\n",
       "    <tr>\n",
       "      <th>Tennessee</th>\n",
       "      <td>1.931587</td>\n",
       "    </tr>\n",
       "    <tr>\n",
       "      <th>Texas</th>\n",
       "      <td>1.980997</td>\n",
       "    </tr>\n",
       "    <tr>\n",
       "      <th>Utah</th>\n",
       "      <td>1.870252</td>\n",
       "    </tr>\n",
       "    <tr>\n",
       "      <th>Vermont</th>\n",
       "      <td>1.880642</td>\n",
       "    </tr>\n",
       "    <tr>\n",
       "      <th>Virginia</th>\n",
       "      <td>2.022124</td>\n",
       "    </tr>\n",
       "    <tr>\n",
       "      <th>Washington</th>\n",
       "      <td>1.929253</td>\n",
       "    </tr>\n",
       "    <tr>\n",
       "      <th>West Virginia</th>\n",
       "      <td>1.896473</td>\n",
       "    </tr>\n",
       "    <tr>\n",
       "      <th>Wisconsin</th>\n",
       "      <td>1.925650</td>\n",
       "    </tr>\n",
       "    <tr>\n",
       "      <th>Wyoming</th>\n",
       "      <td>1.983129</td>\n",
       "    </tr>\n",
       "  </tbody>\n",
       "</table>\n",
       "</div>"
      ],
      "text/plain": [
       "pet_owner                  yes\n",
       "state                         \n",
       "Alabama               1.955296\n",
       "Alaska                1.970024\n",
       "Arizona               2.036459\n",
       "Arkansas              1.968553\n",
       "California            2.049994\n",
       "Colorado              1.950539\n",
       "Connecticut           1.917037\n",
       "Delaware              1.986896\n",
       "District of Columbia  1.902968\n",
       "Florida               1.944767\n",
       "Georgia               2.043132\n",
       "Hawaii                1.956692\n",
       "Idaho                 1.862121\n",
       "Illinois              1.944590\n",
       "Indiana               1.941507\n",
       "Iowa                  1.911683\n",
       "Kansas                1.964608\n",
       "Kentucky              1.944755\n",
       "Louisiana             1.975530\n",
       "Maine                 1.982000\n",
       "Maryland              1.924813\n",
       "Massachusetts         1.968033\n",
       "Michigan              1.948446\n",
       "Minnesota             1.982406\n",
       "Mississippi           1.961424\n",
       "Missouri              1.975682\n",
       "Montana               1.970215\n",
       "Nebraska              1.930128\n",
       "Nevada                1.984080\n",
       "New Hampshire         1.890917\n",
       "New Jersey            1.921007\n",
       "New Mexico            2.004428\n",
       "New York              1.947292\n",
       "North Carolina        2.011798\n",
       "North Dakota          1.946175\n",
       "Ohio                  1.925663\n",
       "Oklahoma              2.012711\n",
       "Oregon                1.979589\n",
       "Pennsylvania          2.100991\n",
       "Rhode Island          2.035457\n",
       "South Carolina        1.998326\n",
       "South Dakota          1.951161\n",
       "Tennessee             1.931587\n",
       "Texas                 1.980997\n",
       "Utah                  1.870252\n",
       "Vermont               1.880642\n",
       "Virginia              2.022124\n",
       "Washington            1.929253\n",
       "West Virginia         1.896473\n",
       "Wisconsin             1.925650\n",
       "Wyoming               1.983129"
      ]
     },
     "execution_count": 45,
     "metadata": {},
     "output_type": "execute_result"
    }
   ],
   "source": [
    "# % of people who buy pet products by state\n",
    "xpet_state = pd.crosstab(df['state'], df['pet_owner'], normalize='columns')*100\n",
    "xpet_state           \n",
    "                        "
   ]
  },
  {
   "cell_type": "code",
   "execution_count": 46,
   "id": "3fe9674b",
   "metadata": {},
   "outputs": [],
   "source": [
    "xpet_state.to_clipboard()"
   ]
  },
  {
   "cell_type": "code",
   "execution_count": 47,
   "id": "03f61684",
   "metadata": {},
   "outputs": [
    {
     "data": {
      "text/plain": [
       "state         pet_owner\n",
       "Pennsylvania  yes          165620\n",
       "California    yes          161600\n",
       "Georgia       yes          161059\n",
       "Arizona       yes          160533\n",
       "Rhode Island  yes          160454\n",
       "dtype: int64"
      ]
     },
     "execution_count": 47,
     "metadata": {},
     "output_type": "execute_result"
    }
   ],
   "source": [
    "# top 5 states that purchase pet products\n",
    "top5_state_pet = df[['state', 'pet_owner']].value_counts().sort_values(ascending=False).head()\n",
    "top5_state_pet"
   ]
  },
  {
   "cell_type": "code",
   "execution_count": 48,
   "id": "20fd70f3",
   "metadata": {},
   "outputs": [],
   "source": [
    "top5_state_pet.to_clipboard()"
   ]
  },
  {
   "cell_type": "markdown",
   "id": "0d080354",
   "metadata": {},
   "source": [
    "    Results:  \n",
    "        Top 5 States that purchase pet products\n",
    "            - Pennsylvania\n",
    "            - California\n",
    "            - Georgia\n",
    "            - Arizona\n",
    "            - Rhode Island"
   ]
  },
  {
   "cell_type": "markdown",
   "id": "1380c9d9",
   "metadata": {},
   "source": [
    "#### snacks and hour of day"
   ]
  },
  {
   "cell_type": "code",
   "execution_count": 49,
   "id": "db5f8cba",
   "metadata": {},
   "outputs": [
    {
     "data": {
      "text/html": [
       "<div>\n",
       "<style scoped>\n",
       "    .dataframe tbody tr th:only-of-type {\n",
       "        vertical-align: middle;\n",
       "    }\n",
       "\n",
       "    .dataframe tbody tr th {\n",
       "        vertical-align: top;\n",
       "    }\n",
       "\n",
       "    .dataframe thead th {\n",
       "        text-align: right;\n",
       "    }\n",
       "</style>\n",
       "<table border=\"1\" class=\"dataframe\">\n",
       "  <thead>\n",
       "    <tr style=\"text-align: right;\">\n",
       "      <th>snacks</th>\n",
       "      <th>0</th>\n",
       "      <th>1</th>\n",
       "    </tr>\n",
       "    <tr>\n",
       "      <th>order_hour_of_day</th>\n",
       "      <th></th>\n",
       "      <th></th>\n",
       "    </tr>\n",
       "  </thead>\n",
       "  <tbody>\n",
       "    <tr>\n",
       "      <th>0</th>\n",
       "      <td>0.65</td>\n",
       "      <td>0.02</td>\n",
       "    </tr>\n",
       "    <tr>\n",
       "      <th>1</th>\n",
       "      <td>0.35</td>\n",
       "      <td>0.01</td>\n",
       "    </tr>\n",
       "    <tr>\n",
       "      <th>2</th>\n",
       "      <td>0.21</td>\n",
       "      <td>0.01</td>\n",
       "    </tr>\n",
       "    <tr>\n",
       "      <th>3</th>\n",
       "      <td>0.15</td>\n",
       "      <td>0.00</td>\n",
       "    </tr>\n",
       "    <tr>\n",
       "      <th>4</th>\n",
       "      <td>0.16</td>\n",
       "      <td>0.00</td>\n",
       "    </tr>\n",
       "    <tr>\n",
       "      <th>5</th>\n",
       "      <td>0.26</td>\n",
       "      <td>0.01</td>\n",
       "    </tr>\n",
       "    <tr>\n",
       "      <th>6</th>\n",
       "      <td>0.85</td>\n",
       "      <td>0.04</td>\n",
       "    </tr>\n",
       "    <tr>\n",
       "      <th>7</th>\n",
       "      <td>2.58</td>\n",
       "      <td>0.12</td>\n",
       "    </tr>\n",
       "    <tr>\n",
       "      <th>8</th>\n",
       "      <td>5.02</td>\n",
       "      <td>0.20</td>\n",
       "    </tr>\n",
       "    <tr>\n",
       "      <th>9</th>\n",
       "      <td>7.28</td>\n",
       "      <td>0.24</td>\n",
       "    </tr>\n",
       "    <tr>\n",
       "      <th>10</th>\n",
       "      <td>8.19</td>\n",
       "      <td>0.24</td>\n",
       "    </tr>\n",
       "    <tr>\n",
       "      <th>11</th>\n",
       "      <td>8.11</td>\n",
       "      <td>0.23</td>\n",
       "    </tr>\n",
       "    <tr>\n",
       "      <th>12</th>\n",
       "      <td>7.76</td>\n",
       "      <td>0.22</td>\n",
       "    </tr>\n",
       "    <tr>\n",
       "      <th>13</th>\n",
       "      <td>7.90</td>\n",
       "      <td>0.23</td>\n",
       "    </tr>\n",
       "    <tr>\n",
       "      <th>14</th>\n",
       "      <td>8.04</td>\n",
       "      <td>0.24</td>\n",
       "    </tr>\n",
       "    <tr>\n",
       "      <th>15</th>\n",
       "      <td>8.05</td>\n",
       "      <td>0.24</td>\n",
       "    </tr>\n",
       "    <tr>\n",
       "      <th>16</th>\n",
       "      <td>7.76</td>\n",
       "      <td>0.22</td>\n",
       "    </tr>\n",
       "    <tr>\n",
       "      <th>17</th>\n",
       "      <td>6.50</td>\n",
       "      <td>0.17</td>\n",
       "    </tr>\n",
       "    <tr>\n",
       "      <th>18</th>\n",
       "      <td>5.18</td>\n",
       "      <td>0.13</td>\n",
       "    </tr>\n",
       "    <tr>\n",
       "      <th>19</th>\n",
       "      <td>3.97</td>\n",
       "      <td>0.12</td>\n",
       "    </tr>\n",
       "    <tr>\n",
       "      <th>20</th>\n",
       "      <td>2.94</td>\n",
       "      <td>0.11</td>\n",
       "    </tr>\n",
       "    <tr>\n",
       "      <th>21</th>\n",
       "      <td>2.22</td>\n",
       "      <td>0.10</td>\n",
       "    </tr>\n",
       "    <tr>\n",
       "      <th>22</th>\n",
       "      <td>1.74</td>\n",
       "      <td>0.08</td>\n",
       "    </tr>\n",
       "    <tr>\n",
       "      <th>23</th>\n",
       "      <td>1.14</td>\n",
       "      <td>0.04</td>\n",
       "    </tr>\n",
       "  </tbody>\n",
       "</table>\n",
       "</div>"
      ],
      "text/plain": [
       "snacks                0     1\n",
       "order_hour_of_day            \n",
       "0                  0.65  0.02\n",
       "1                  0.35  0.01\n",
       "2                  0.21  0.01\n",
       "3                  0.15  0.00\n",
       "4                  0.16  0.00\n",
       "5                  0.26  0.01\n",
       "6                  0.85  0.04\n",
       "7                  2.58  0.12\n",
       "8                  5.02  0.20\n",
       "9                  7.28  0.24\n",
       "10                 8.19  0.24\n",
       "11                 8.11  0.23\n",
       "12                 7.76  0.22\n",
       "13                 7.90  0.23\n",
       "14                 8.04  0.24\n",
       "15                 8.05  0.24\n",
       "16                 7.76  0.22\n",
       "17                 6.50  0.17\n",
       "18                 5.18  0.13\n",
       "19                 3.97  0.12\n",
       "20                 2.94  0.11\n",
       "21                 2.22  0.10\n",
       "22                 1.74  0.08\n",
       "23                 1.14  0.04"
      ]
     },
     "execution_count": 49,
     "metadata": {},
     "output_type": "execute_result"
    }
   ],
   "source": [
    "# snacks are bought during peak ordering hours more often than frozen stuff\n",
    "# frozen stuff is bought more often at off-peak times\n",
    "cross_snacks = round(pd.crosstab(orders['order_hour_of_day'], orders['snacks'], normalize=True)*100,2)\n",
    "cross_snacks"
   ]
  },
  {
   "cell_type": "code",
   "execution_count": 50,
   "id": "85b9f1ed",
   "metadata": {},
   "outputs": [
    {
     "data": {
      "text/plain": [
       "Text(0, 0.5, 'Frequency of Snack Purchases')"
      ]
     },
     "execution_count": 50,
     "metadata": {},
     "output_type": "execute_result"
    },
    {
     "data": {
      "image/png": "[encoded data removed]",
      "text/plain": [
       "<Figure size 432x288 with 1 Axes>"
      ]
     },
     "metadata": {
      "needs_background": "light"
     },
     "output_type": "display_data"
    }
   ],
   "source": [
    "bar_snacks = round(pd.crosstab(orders['order_hour_of_day'],orders['snacks'], normalize=True)*100,2).plot(kind='bar')\n",
    "plt.title('Snack Purchases by Hour', fontsize = 15, fontweight='bold')\n",
    "plt.xlabel('Hour of Day (0 = no, 1 = yes)', fontsize = 13, fontweight='bold')\n",
    "plt.ylabel('Frequency of Snack Purchases', fontsize=13, fontweight='bold')"
   ]
  },
  {
   "cell_type": "code",
   "execution_count": 51,
   "id": "c7bb8ecb",
   "metadata": {},
   "outputs": [
    {
     "data": {
      "text/plain": [
       "order_hour_of_day  snacks\n",
       "10                 0         752531\n",
       "11                 0         749096\n",
       "14                 0         731951\n",
       "15                 0         726461\n",
       "13                 0         724088\n",
       "12                 0         715352\n",
       "16                 0         693779\n",
       "9                  0         664806\n",
       "17                 0         572398\n",
       "8                  0         460066\n",
       "18                 0         449655\n",
       "19                 0         343695\n",
       "20                 0         262213\n",
       "7                  0         237747\n",
       "21                 0         211253\n",
       "22                 0         169447\n",
       "23                 0         108255\n",
       "6                  0          77385\n",
       "0                  0          59489\n",
       "9                  1          37813\n",
       "10                 1          37779\n",
       "14                 1          37102\n",
       "13                 1          36629\n",
       "15                 1          35709\n",
       "11                 1          35221\n",
       "12                 1          33789\n",
       "1                  0          31710\n",
       "16                 1          31703\n",
       "8                  1          30551\n",
       "5                  0          24077\n",
       "17                 1          23689\n",
       "2                  0          18947\n",
       "18                 1          18436\n",
       "7                  1          17197\n",
       "20                 1          16922\n",
       "21                 1          16470\n",
       "19                 1          16219\n",
       "4                  0          14622\n",
       "3                  0          14175\n",
       "22                 1          12441\n",
       "23                 1           6343\n",
       "6                  1           5482\n",
       "0                  1           2915\n",
       "1                  1           1249\n",
       "5                  1           1214\n",
       "2                  1            835\n",
       "4                  1            577\n",
       "3                  1            537\n",
       "dtype: int64"
      ]
     },
     "execution_count": 51,
     "metadata": {},
     "output_type": "execute_result"
    }
   ],
   "source": [
    "df[['order_hour_of_day','snacks']].value_counts().sort_values(ascending=False)"
   ]
  },
  {
   "cell_type": "markdown",
   "id": "5b9f9040",
   "metadata": {},
   "source": [
    "    Results:  Snacks are most frequently bought between the hours of 9-3pm"
   ]
  },
  {
   "cell_type": "markdown",
   "id": "d2ac47bb",
   "metadata": {},
   "source": [
    "#### Age range vs income"
   ]
  },
  {
   "cell_type": "code",
   "execution_count": 52,
   "id": "4bf65e70",
   "metadata": {},
   "outputs": [
    {
     "data": {
      "text/html": [
       "<div>\n",
       "<style scoped>\n",
       "    .dataframe tbody tr th:only-of-type {\n",
       "        vertical-align: middle;\n",
       "    }\n",
       "\n",
       "    .dataframe tbody tr th {\n",
       "        vertical-align: top;\n",
       "    }\n",
       "\n",
       "    .dataframe thead th {\n",
       "        text-align: right;\n",
       "    }\n",
       "</style>\n",
       "<table border=\"1\" class=\"dataframe\">\n",
       "  <thead>\n",
       "    <tr style=\"text-align: right;\">\n",
       "      <th>age</th>\n",
       "      <th>18</th>\n",
       "      <th>19</th>\n",
       "      <th>20</th>\n",
       "      <th>21</th>\n",
       "      <th>22</th>\n",
       "      <th>23</th>\n",
       "      <th>24</th>\n",
       "      <th>25</th>\n",
       "      <th>26</th>\n",
       "      <th>27</th>\n",
       "      <th>...</th>\n",
       "      <th>72</th>\n",
       "      <th>73</th>\n",
       "      <th>74</th>\n",
       "      <th>75</th>\n",
       "      <th>76</th>\n",
       "      <th>77</th>\n",
       "      <th>78</th>\n",
       "      <th>79</th>\n",
       "      <th>80</th>\n",
       "      <th>81</th>\n",
       "    </tr>\n",
       "    <tr>\n",
       "      <th>income_flag</th>\n",
       "      <th></th>\n",
       "      <th></th>\n",
       "      <th></th>\n",
       "      <th></th>\n",
       "      <th></th>\n",
       "      <th></th>\n",
       "      <th></th>\n",
       "      <th></th>\n",
       "      <th></th>\n",
       "      <th></th>\n",
       "      <th></th>\n",
       "      <th></th>\n",
       "      <th></th>\n",
       "      <th></th>\n",
       "      <th></th>\n",
       "      <th></th>\n",
       "      <th></th>\n",
       "      <th></th>\n",
       "      <th></th>\n",
       "      <th></th>\n",
       "      <th></th>\n",
       "    </tr>\n",
       "  </thead>\n",
       "  <tbody>\n",
       "    <tr>\n",
       "      <th>High Income</th>\n",
       "      <td>0.12</td>\n",
       "      <td>0.07</td>\n",
       "      <td>0.08</td>\n",
       "      <td>0.11</td>\n",
       "      <td>0.11</td>\n",
       "      <td>0.08</td>\n",
       "      <td>0.13</td>\n",
       "      <td>0.11</td>\n",
       "      <td>0.14</td>\n",
       "      <td>0.09</td>\n",
       "      <td>...</td>\n",
       "      <td>2.38</td>\n",
       "      <td>2.35</td>\n",
       "      <td>2.45</td>\n",
       "      <td>2.60</td>\n",
       "      <td>2.33</td>\n",
       "      <td>2.43</td>\n",
       "      <td>2.45</td>\n",
       "      <td>2.36</td>\n",
       "      <td>2.33</td>\n",
       "      <td>2.38</td>\n",
       "    </tr>\n",
       "    <tr>\n",
       "      <th>Low Income</th>\n",
       "      <td>1.94</td>\n",
       "      <td>2.27</td>\n",
       "      <td>2.13</td>\n",
       "      <td>2.06</td>\n",
       "      <td>2.17</td>\n",
       "      <td>2.19</td>\n",
       "      <td>1.99</td>\n",
       "      <td>2.10</td>\n",
       "      <td>2.13</td>\n",
       "      <td>1.97</td>\n",
       "      <td>...</td>\n",
       "      <td>1.21</td>\n",
       "      <td>1.35</td>\n",
       "      <td>1.26</td>\n",
       "      <td>1.14</td>\n",
       "      <td>1.21</td>\n",
       "      <td>1.31</td>\n",
       "      <td>1.25</td>\n",
       "      <td>1.32</td>\n",
       "      <td>1.25</td>\n",
       "      <td>1.29</td>\n",
       "    </tr>\n",
       "    <tr>\n",
       "      <th>Middle Income</th>\n",
       "      <td>1.61</td>\n",
       "      <td>1.62</td>\n",
       "      <td>1.59</td>\n",
       "      <td>1.57</td>\n",
       "      <td>1.58</td>\n",
       "      <td>1.52</td>\n",
       "      <td>1.62</td>\n",
       "      <td>1.52</td>\n",
       "      <td>1.61</td>\n",
       "      <td>1.60</td>\n",
       "      <td>...</td>\n",
       "      <td>1.58</td>\n",
       "      <td>1.54</td>\n",
       "      <td>1.57</td>\n",
       "      <td>1.58</td>\n",
       "      <td>1.58</td>\n",
       "      <td>1.56</td>\n",
       "      <td>1.56</td>\n",
       "      <td>1.54</td>\n",
       "      <td>1.54</td>\n",
       "      <td>1.57</td>\n",
       "    </tr>\n",
       "  </tbody>\n",
       "</table>\n",
       "<p>3 rows × 64 columns</p>\n",
       "</div>"
      ],
      "text/plain": [
       "age              18    19    20    21    22    23    24    25    26    27  \\\n",
       "income_flag                                                                 \n",
       "High Income    0.12  0.07  0.08  0.11  0.11  0.08  0.13  0.11  0.14  0.09   \n",
       "Low Income     1.94  2.27  2.13  2.06  2.17  2.19  1.99  2.10  2.13  1.97   \n",
       "Middle Income  1.61  1.62  1.59  1.57  1.58  1.52  1.62  1.52  1.61  1.60   \n",
       "\n",
       "age            ...    72    73    74    75    76    77    78    79    80    81  \n",
       "income_flag    ...                                                              \n",
       "High Income    ...  2.38  2.35  2.45  2.60  2.33  2.43  2.45  2.36  2.33  2.38  \n",
       "Low Income     ...  1.21  1.35  1.26  1.14  1.21  1.31  1.25  1.32  1.25  1.29  \n",
       "Middle Income  ...  1.58  1.54  1.57  1.58  1.58  1.56  1.56  1.54  1.54  1.57  \n",
       "\n",
       "[3 rows x 64 columns]"
      ]
     },
     "execution_count": 52,
     "metadata": {},
     "output_type": "execute_result"
    }
   ],
   "source": [
    "x_age_income = round(pd.crosstab(customers['income_flag'], customers['age'], normalize='index')*100, 2)\n",
    "x_age_income"
   ]
  },
  {
   "cell_type": "code",
   "execution_count": 53,
   "id": "4fd7254f",
   "metadata": {},
   "outputs": [
    {
     "data": {
      "image/png": "[encoded data removed]",
      "text/plain": [
       "<Figure size 432x288 with 1 Axes>"
      ]
     },
     "metadata": {
      "needs_background": "light"
     },
     "output_type": "display_data"
    }
   ],
   "source": [
    "age_income_scat = sns.scatterplot(x = 'age', y = 'income', data = customers)\n"
   ]
  },
  {
   "cell_type": "markdown",
   "id": "948aebc7",
   "metadata": {},
   "source": [
    "## 5. Final overview of dataframes"
   ]
  },
  {
   "cell_type": "code",
   "execution_count": 54,
   "id": "348527e6",
   "metadata": {},
   "outputs": [
    {
     "data": {
      "text/plain": [
       "(9270020, 40)"
      ]
     },
     "execution_count": 54,
     "metadata": {},
     "output_type": "execute_result"
    }
   ],
   "source": [
    "df.shape"
   ]
  },
  {
   "cell_type": "code",
   "execution_count": 55,
   "id": "52e01583",
   "metadata": {},
   "outputs": [
    {
     "data": {
      "text/html": [
       "<div>\n",
       "<style scoped>\n",
       "    .dataframe tbody tr th:only-of-type {\n",
       "        vertical-align: middle;\n",
       "    }\n",
       "\n",
       "    .dataframe tbody tr th {\n",
       "        vertical-align: top;\n",
       "    }\n",
       "\n",
       "    .dataframe thead th {\n",
       "        text-align: right;\n",
       "    }\n",
       "</style>\n",
       "<table border=\"1\" class=\"dataframe\">\n",
       "  <thead>\n",
       "    <tr style=\"text-align: right;\">\n",
       "      <th></th>\n",
       "      <th>order_id</th>\n",
       "      <th>customer_id</th>\n",
       "      <th>eval_set</th>\n",
       "      <th>order_number</th>\n",
       "      <th>order_day_of_week</th>\n",
       "      <th>order_hour_of_day</th>\n",
       "      <th>days_since_prior_order</th>\n",
       "      <th>product_id</th>\n",
       "      <th>add_to_cart_order</th>\n",
       "      <th>reordered</th>\n",
       "      <th>...</th>\n",
       "      <th>department</th>\n",
       "      <th>region</th>\n",
       "      <th>exclusion_flag</th>\n",
       "      <th>age_range</th>\n",
       "      <th>pet_stuff</th>\n",
       "      <th>baby_stuff</th>\n",
       "      <th>snacks</th>\n",
       "      <th>income_flag</th>\n",
       "      <th>day_of_week</th>\n",
       "      <th>pet_owner</th>\n",
       "    </tr>\n",
       "  </thead>\n",
       "  <tbody>\n",
       "    <tr>\n",
       "      <th>0</th>\n",
       "      <td>2539329</td>\n",
       "      <td>1</td>\n",
       "      <td>prior</td>\n",
       "      <td>1</td>\n",
       "      <td>2</td>\n",
       "      <td>8</td>\n",
       "      <td>NaN</td>\n",
       "      <td>196</td>\n",
       "      <td>1</td>\n",
       "      <td>0</td>\n",
       "      <td>...</td>\n",
       "      <td>pets</td>\n",
       "      <td>south</td>\n",
       "      <td>Normal activity customer</td>\n",
       "      <td>1</td>\n",
       "      <td>1</td>\n",
       "      <td>1</td>\n",
       "      <td>0</td>\n",
       "      <td>Low Income</td>\n",
       "      <td>Mon</td>\n",
       "      <td>yes</td>\n",
       "    </tr>\n",
       "    <tr>\n",
       "      <th>2</th>\n",
       "      <td>473747</td>\n",
       "      <td>1</td>\n",
       "      <td>prior</td>\n",
       "      <td>3</td>\n",
       "      <td>3</td>\n",
       "      <td>12</td>\n",
       "      <td>21.0</td>\n",
       "      <td>196</td>\n",
       "      <td>1</td>\n",
       "      <td>1</td>\n",
       "      <td>...</td>\n",
       "      <td>pets</td>\n",
       "      <td>south</td>\n",
       "      <td>Normal activity customer</td>\n",
       "      <td>1</td>\n",
       "      <td>1</td>\n",
       "      <td>1</td>\n",
       "      <td>0</td>\n",
       "      <td>Low Income</td>\n",
       "      <td>Tues</td>\n",
       "      <td>yes</td>\n",
       "    </tr>\n",
       "    <tr>\n",
       "      <th>3</th>\n",
       "      <td>2254736</td>\n",
       "      <td>1</td>\n",
       "      <td>prior</td>\n",
       "      <td>4</td>\n",
       "      <td>4</td>\n",
       "      <td>7</td>\n",
       "      <td>29.0</td>\n",
       "      <td>196</td>\n",
       "      <td>1</td>\n",
       "      <td>1</td>\n",
       "      <td>...</td>\n",
       "      <td>pets</td>\n",
       "      <td>south</td>\n",
       "      <td>Normal activity customer</td>\n",
       "      <td>1</td>\n",
       "      <td>1</td>\n",
       "      <td>1</td>\n",
       "      <td>0</td>\n",
       "      <td>Low Income</td>\n",
       "      <td>Wed</td>\n",
       "      <td>yes</td>\n",
       "    </tr>\n",
       "    <tr>\n",
       "      <th>6</th>\n",
       "      <td>550135</td>\n",
       "      <td>1</td>\n",
       "      <td>prior</td>\n",
       "      <td>7</td>\n",
       "      <td>1</td>\n",
       "      <td>9</td>\n",
       "      <td>20.0</td>\n",
       "      <td>196</td>\n",
       "      <td>1</td>\n",
       "      <td>1</td>\n",
       "      <td>...</td>\n",
       "      <td>pets</td>\n",
       "      <td>south</td>\n",
       "      <td>Normal activity customer</td>\n",
       "      <td>1</td>\n",
       "      <td>1</td>\n",
       "      <td>1</td>\n",
       "      <td>0</td>\n",
       "      <td>Low Income</td>\n",
       "      <td>Sun</td>\n",
       "      <td>yes</td>\n",
       "    </tr>\n",
       "    <tr>\n",
       "      <th>60</th>\n",
       "      <td>1870022</td>\n",
       "      <td>15</td>\n",
       "      <td>prior</td>\n",
       "      <td>17</td>\n",
       "      <td>2</td>\n",
       "      <td>16</td>\n",
       "      <td>8.0</td>\n",
       "      <td>196</td>\n",
       "      <td>6</td>\n",
       "      <td>1</td>\n",
       "      <td>...</td>\n",
       "      <td>pets</td>\n",
       "      <td>midwest</td>\n",
       "      <td>Normal activity customer</td>\n",
       "      <td>3</td>\n",
       "      <td>1</td>\n",
       "      <td>1</td>\n",
       "      <td>0</td>\n",
       "      <td>Middle Income</td>\n",
       "      <td>Mon</td>\n",
       "      <td>yes</td>\n",
       "    </tr>\n",
       "  </tbody>\n",
       "</table>\n",
       "<p>5 rows × 40 columns</p>\n",
       "</div>"
      ],
      "text/plain": [
       "    order_id  customer_id eval_set  order_number  order_day_of_week  \\\n",
       "0    2539329            1    prior             1                  2   \n",
       "2     473747            1    prior             3                  3   \n",
       "3    2254736            1    prior             4                  4   \n",
       "6     550135            1    prior             7                  1   \n",
       "60   1870022           15    prior            17                  2   \n",
       "\n",
       "    order_hour_of_day  days_since_prior_order  product_id  add_to_cart_order  \\\n",
       "0                   8                     NaN         196                  1   \n",
       "2                  12                    21.0         196                  1   \n",
       "3                   7                    29.0         196                  1   \n",
       "6                   9                    20.0         196                  1   \n",
       "60                 16                     8.0         196                  6   \n",
       "\n",
       "    reordered  ...  department   region            exclusion_flag age_range  \\\n",
       "0           0  ...        pets    south  Normal activity customer         1   \n",
       "2           1  ...        pets    south  Normal activity customer         1   \n",
       "3           1  ...        pets    south  Normal activity customer         1   \n",
       "6           1  ...        pets    south  Normal activity customer         1   \n",
       "60          1  ...        pets  midwest  Normal activity customer         3   \n",
       "\n",
       "   pet_stuff baby_stuff snacks    income_flag day_of_week  pet_owner  \n",
       "0          1          1      0     Low Income         Mon        yes  \n",
       "2          1          1      0     Low Income        Tues        yes  \n",
       "3          1          1      0     Low Income         Wed        yes  \n",
       "6          1          1      0     Low Income         Sun        yes  \n",
       "60         1          1      0  Middle Income         Mon        yes  \n",
       "\n",
       "[5 rows x 40 columns]"
      ]
     },
     "execution_count": 55,
     "metadata": {},
     "output_type": "execute_result"
    }
   ],
   "source": [
    "df.head()"
   ]
  },
  {
   "cell_type": "code",
   "execution_count": 56,
   "id": "deb12b27",
   "metadata": {},
   "outputs": [
    {
     "name": "stdout",
     "output_type": "stream",
     "text": [
      "<class 'pandas.core.frame.DataFrame'>\n",
      "Int64Index: 9270020 entries, 0 to 32390080\n",
      "Data columns (total 40 columns):\n",
      " #   Column                  Dtype  \n",
      "---  ------                  -----  \n",
      " 0   order_id                int32  \n",
      " 1   customer_id             int32  \n",
      " 2   eval_set                object \n",
      " 3   order_number            int8   \n",
      " 4   order_day_of_week       int8   \n",
      " 5   order_hour_of_day       int8   \n",
      " 6   days_since_prior_order  float64\n",
      " 7   product_id              int32  \n",
      " 8   add_to_cart_order       int16  \n",
      " 9   reordered               int8   \n",
      " 10  Unnamed: 0_x            int64  \n",
      " 11  product_name            object \n",
      " 12  prices                  float64\n",
      " 13  price_range_loc         object \n",
      " 14  Busiest day             object \n",
      " 15  Busiest days            object \n",
      " 16  Most Orders             object \n",
      " 17  gender                  object \n",
      " 18  state                   object \n",
      " 19  age                     int8   \n",
      " 20  date_joined             object \n",
      " 21  #_of_dependants         int8   \n",
      " 22  marital_status          object \n",
      " 23  income                  int32  \n",
      " 24  max_order               int8   \n",
      " 25  avg_price               float64\n",
      " 26  spending_flag           object \n",
      " 27  median_order_duration   float64\n",
      " 28  frequency_flag          object \n",
      " 29  loyalty_flag            object \n",
      " 30  department              object \n",
      " 31  region                  object \n",
      " 32  exclusion_flag          object \n",
      " 33  age_range               object \n",
      " 34  pet_stuff               int8   \n",
      " 35  baby_stuff              int8   \n",
      " 36  snacks                  int8   \n",
      " 37  income_flag             object \n",
      " 38  day_of_week             object \n",
      " 39  pet_owner               object \n",
      "dtypes: float64(4), int16(1), int32(4), int64(1), int8(10), object(20)\n",
      "memory usage: 2.0+ GB\n"
     ]
    }
   ],
   "source": [
    "df.info()"
   ]
  },
  {
   "cell_type": "code",
   "execution_count": 57,
   "id": "05de2d7c",
   "metadata": {},
   "outputs": [
    {
     "data": {
      "text/plain": [
       "(4, 6)"
      ]
     },
     "execution_count": 57,
     "metadata": {},
     "output_type": "execute_result"
    }
   ],
   "source": [
    "df_region.shape"
   ]
  },
  {
   "cell_type": "code",
   "execution_count": 58,
   "id": "2bd509eb",
   "metadata": {},
   "outputs": [
    {
     "data": {
      "text/html": [
       "<div>\n",
       "<style scoped>\n",
       "    .dataframe tbody tr th:only-of-type {\n",
       "        vertical-align: middle;\n",
       "    }\n",
       "\n",
       "    .dataframe tbody tr th {\n",
       "        vertical-align: top;\n",
       "    }\n",
       "\n",
       "    .dataframe thead th {\n",
       "        text-align: right;\n",
       "    }\n",
       "</style>\n",
       "<table border=\"1\" class=\"dataframe\">\n",
       "  <thead>\n",
       "    <tr style=\"text-align: right;\">\n",
       "      <th></th>\n",
       "      <th>sum_of_sales</th>\n",
       "      <th>customer_count</th>\n",
       "      <th>orders_placed</th>\n",
       "      <th>avg_price_per_order</th>\n",
       "      <th>avg_price_per_customer</th>\n",
       "      <th>avg_orders_per_customer</th>\n",
       "    </tr>\n",
       "    <tr>\n",
       "      <th>region</th>\n",
       "      <th></th>\n",
       "      <th></th>\n",
       "      <th></th>\n",
       "      <th></th>\n",
       "      <th></th>\n",
       "      <th></th>\n",
       "    </tr>\n",
       "  </thead>\n",
       "  <tbody>\n",
       "    <tr>\n",
       "      <th>midwest</th>\n",
       "      <td>17719063.7</td>\n",
       "      <td>48346</td>\n",
       "      <td>650524</td>\n",
       "      <td>27.238140</td>\n",
       "      <td>366.505268</td>\n",
       "      <td>13.455591</td>\n",
       "    </tr>\n",
       "    <tr>\n",
       "      <th>northeast</th>\n",
       "      <td>13323573.2</td>\n",
       "      <td>36255</td>\n",
       "      <td>488726</td>\n",
       "      <td>27.261847</td>\n",
       "      <td>367.496158</td>\n",
       "      <td>13.480237</td>\n",
       "    </tr>\n",
       "    <tr>\n",
       "      <th>south</th>\n",
       "      <td>25175488.3</td>\n",
       "      <td>68464</td>\n",
       "      <td>924656</td>\n",
       "      <td>27.226870</td>\n",
       "      <td>367.718630</td>\n",
       "      <td>13.505726</td>\n",
       "    </tr>\n",
       "    <tr>\n",
       "      <th>west</th>\n",
       "      <td>19329761.7</td>\n",
       "      <td>52375</td>\n",
       "      <td>709088</td>\n",
       "      <td>27.260032</td>\n",
       "      <td>369.064663</td>\n",
       "      <td>13.538673</td>\n",
       "    </tr>\n",
       "  </tbody>\n",
       "</table>\n",
       "</div>"
      ],
      "text/plain": [
       "           sum_of_sales  customer_count  orders_placed  avg_price_per_order  \\\n",
       "region                                                                        \n",
       "midwest      17719063.7           48346         650524            27.238140   \n",
       "northeast    13323573.2           36255         488726            27.261847   \n",
       "south        25175488.3           68464         924656            27.226870   \n",
       "west         19329761.7           52375         709088            27.260032   \n",
       "\n",
       "           avg_price_per_customer  avg_orders_per_customer  \n",
       "region                                                      \n",
       "midwest                366.505268                13.455591  \n",
       "northeast              367.496158                13.480237  \n",
       "south                  367.718630                13.505726  \n",
       "west                   369.064663                13.538673  "
      ]
     },
     "execution_count": 58,
     "metadata": {},
     "output_type": "execute_result"
    }
   ],
   "source": [
    "df_region.head()"
   ]
  },
  {
   "cell_type": "code",
   "execution_count": 59,
   "id": "8c82cbcf",
   "metadata": {},
   "outputs": [
    {
     "name": "stdout",
     "output_type": "stream",
     "text": [
      "<class 'pandas.core.frame.DataFrame'>\n",
      "Index: 4 entries, midwest to west\n",
      "Data columns (total 6 columns):\n",
      " #   Column                   Non-Null Count  Dtype  \n",
      "---  ------                   --------------  -----  \n",
      " 0   sum_of_sales             4 non-null      float64\n",
      " 1   customer_count           4 non-null      int64  \n",
      " 2   orders_placed            4 non-null      int64  \n",
      " 3   avg_price_per_order      4 non-null      float64\n",
      " 4   avg_price_per_customer   4 non-null      float64\n",
      " 5   avg_orders_per_customer  4 non-null      float64\n",
      "dtypes: float64(4), int64(2)\n",
      "memory usage: 224.0+ bytes\n"
     ]
    }
   ],
   "source": [
    "df_region.info()"
   ]
  },
  {
   "cell_type": "code",
   "execution_count": 60,
   "id": "ce601f72",
   "metadata": {},
   "outputs": [
    {
     "data": {
      "text/plain": [
       "(2742363, 38)"
      ]
     },
     "execution_count": 60,
     "metadata": {},
     "output_type": "execute_result"
    }
   ],
   "source": [
    "orders.shape"
   ]
  },
  {
   "cell_type": "code",
   "execution_count": 61,
   "id": "8c79b519",
   "metadata": {},
   "outputs": [
    {
     "data": {
      "text/html": [
       "<div>\n",
       "<style scoped>\n",
       "    .dataframe tbody tr th:only-of-type {\n",
       "        vertical-align: middle;\n",
       "    }\n",
       "\n",
       "    .dataframe tbody tr th {\n",
       "        vertical-align: top;\n",
       "    }\n",
       "\n",
       "    .dataframe thead th {\n",
       "        text-align: right;\n",
       "    }\n",
       "</style>\n",
       "<table border=\"1\" class=\"dataframe\">\n",
       "  <thead>\n",
       "    <tr style=\"text-align: right;\">\n",
       "      <th></th>\n",
       "      <th>order_id</th>\n",
       "      <th>customer_id</th>\n",
       "      <th>eval_set</th>\n",
       "      <th>order_number</th>\n",
       "      <th>order_day_of_week</th>\n",
       "      <th>order_hour_of_day</th>\n",
       "      <th>days_since_prior_order</th>\n",
       "      <th>product_id</th>\n",
       "      <th>add_to_cart_order</th>\n",
       "      <th>reordered</th>\n",
       "      <th>...</th>\n",
       "      <th>frequency_flag</th>\n",
       "      <th>loyalty_flag</th>\n",
       "      <th>department</th>\n",
       "      <th>region</th>\n",
       "      <th>exclusion_flag</th>\n",
       "      <th>age_range</th>\n",
       "      <th>pet_stuff</th>\n",
       "      <th>baby_stuff</th>\n",
       "      <th>snacks</th>\n",
       "      <th>income_flag</th>\n",
       "    </tr>\n",
       "  </thead>\n",
       "  <tbody>\n",
       "    <tr>\n",
       "      <th>0</th>\n",
       "      <td>2539329</td>\n",
       "      <td>1</td>\n",
       "      <td>prior</td>\n",
       "      <td>1</td>\n",
       "      <td>2</td>\n",
       "      <td>8</td>\n",
       "      <td>NaN</td>\n",
       "      <td>196</td>\n",
       "      <td>1</td>\n",
       "      <td>0</td>\n",
       "      <td>...</td>\n",
       "      <td>Non-Frequent Customer</td>\n",
       "      <td>New Customer</td>\n",
       "      <td>pets</td>\n",
       "      <td>south</td>\n",
       "      <td>Normal activity customer</td>\n",
       "      <td>1</td>\n",
       "      <td>1</td>\n",
       "      <td>1</td>\n",
       "      <td>0</td>\n",
       "      <td>Low Income</td>\n",
       "    </tr>\n",
       "    <tr>\n",
       "      <th>2</th>\n",
       "      <td>473747</td>\n",
       "      <td>1</td>\n",
       "      <td>prior</td>\n",
       "      <td>3</td>\n",
       "      <td>3</td>\n",
       "      <td>12</td>\n",
       "      <td>21.0</td>\n",
       "      <td>196</td>\n",
       "      <td>1</td>\n",
       "      <td>1</td>\n",
       "      <td>...</td>\n",
       "      <td>Non-Frequent Customer</td>\n",
       "      <td>New Customer</td>\n",
       "      <td>pets</td>\n",
       "      <td>south</td>\n",
       "      <td>Normal activity customer</td>\n",
       "      <td>1</td>\n",
       "      <td>1</td>\n",
       "      <td>1</td>\n",
       "      <td>0</td>\n",
       "      <td>Low Income</td>\n",
       "    </tr>\n",
       "    <tr>\n",
       "      <th>3</th>\n",
       "      <td>2254736</td>\n",
       "      <td>1</td>\n",
       "      <td>prior</td>\n",
       "      <td>4</td>\n",
       "      <td>4</td>\n",
       "      <td>7</td>\n",
       "      <td>29.0</td>\n",
       "      <td>196</td>\n",
       "      <td>1</td>\n",
       "      <td>1</td>\n",
       "      <td>...</td>\n",
       "      <td>Non-Frequent Customer</td>\n",
       "      <td>New Customer</td>\n",
       "      <td>pets</td>\n",
       "      <td>south</td>\n",
       "      <td>Normal activity customer</td>\n",
       "      <td>1</td>\n",
       "      <td>1</td>\n",
       "      <td>1</td>\n",
       "      <td>0</td>\n",
       "      <td>Low Income</td>\n",
       "    </tr>\n",
       "    <tr>\n",
       "      <th>6</th>\n",
       "      <td>550135</td>\n",
       "      <td>1</td>\n",
       "      <td>prior</td>\n",
       "      <td>7</td>\n",
       "      <td>1</td>\n",
       "      <td>9</td>\n",
       "      <td>20.0</td>\n",
       "      <td>196</td>\n",
       "      <td>1</td>\n",
       "      <td>1</td>\n",
       "      <td>...</td>\n",
       "      <td>Non-Frequent Customer</td>\n",
       "      <td>New Customer</td>\n",
       "      <td>pets</td>\n",
       "      <td>south</td>\n",
       "      <td>Normal activity customer</td>\n",
       "      <td>1</td>\n",
       "      <td>1</td>\n",
       "      <td>1</td>\n",
       "      <td>0</td>\n",
       "      <td>Low Income</td>\n",
       "    </tr>\n",
       "    <tr>\n",
       "      <th>60</th>\n",
       "      <td>1870022</td>\n",
       "      <td>15</td>\n",
       "      <td>prior</td>\n",
       "      <td>17</td>\n",
       "      <td>2</td>\n",
       "      <td>16</td>\n",
       "      <td>8.0</td>\n",
       "      <td>196</td>\n",
       "      <td>6</td>\n",
       "      <td>1</td>\n",
       "      <td>...</td>\n",
       "      <td>Regular Customer</td>\n",
       "      <td>Regular Customer</td>\n",
       "      <td>pets</td>\n",
       "      <td>midwest</td>\n",
       "      <td>Normal activity customer</td>\n",
       "      <td>3</td>\n",
       "      <td>1</td>\n",
       "      <td>1</td>\n",
       "      <td>0</td>\n",
       "      <td>Middle Income</td>\n",
       "    </tr>\n",
       "  </tbody>\n",
       "</table>\n",
       "<p>5 rows × 38 columns</p>\n",
       "</div>"
      ],
      "text/plain": [
       "    order_id  customer_id eval_set  order_number  order_day_of_week  \\\n",
       "0    2539329            1    prior             1                  2   \n",
       "2     473747            1    prior             3                  3   \n",
       "3    2254736            1    prior             4                  4   \n",
       "6     550135            1    prior             7                  1   \n",
       "60   1870022           15    prior            17                  2   \n",
       "\n",
       "    order_hour_of_day  days_since_prior_order  product_id  add_to_cart_order  \\\n",
       "0                   8                     NaN         196                  1   \n",
       "2                  12                    21.0         196                  1   \n",
       "3                   7                    29.0         196                  1   \n",
       "6                   9                    20.0         196                  1   \n",
       "60                 16                     8.0         196                  6   \n",
       "\n",
       "    reordered  ...         frequency_flag      loyalty_flag  department  \\\n",
       "0           0  ...  Non-Frequent Customer      New Customer        pets   \n",
       "2           1  ...  Non-Frequent Customer      New Customer        pets   \n",
       "3           1  ...  Non-Frequent Customer      New Customer        pets   \n",
       "6           1  ...  Non-Frequent Customer      New Customer        pets   \n",
       "60          1  ...       Regular Customer  Regular Customer        pets   \n",
       "\n",
       "     region            exclusion_flag age_range pet_stuff baby_stuff snacks  \\\n",
       "0     south  Normal activity customer         1         1          1      0   \n",
       "2     south  Normal activity customer         1         1          1      0   \n",
       "3     south  Normal activity customer         1         1          1      0   \n",
       "6     south  Normal activity customer         1         1          1      0   \n",
       "60  midwest  Normal activity customer         3         1          1      0   \n",
       "\n",
       "      income_flag  \n",
       "0      Low Income  \n",
       "2      Low Income  \n",
       "3      Low Income  \n",
       "6      Low Income  \n",
       "60  Middle Income  \n",
       "\n",
       "[5 rows x 38 columns]"
      ]
     },
     "execution_count": 61,
     "metadata": {},
     "output_type": "execute_result"
    }
   ],
   "source": [
    "orders.head()"
   ]
  },
  {
   "cell_type": "code",
   "execution_count": 62,
   "id": "d7f9ba8f",
   "metadata": {},
   "outputs": [
    {
     "name": "stdout",
     "output_type": "stream",
     "text": [
      "<class 'pandas.core.frame.DataFrame'>\n",
      "Int64Index: 2742363 entries, 0 to 32390080\n",
      "Data columns (total 38 columns):\n",
      " #   Column                  Dtype  \n",
      "---  ------                  -----  \n",
      " 0   order_id                int32  \n",
      " 1   customer_id             int32  \n",
      " 2   eval_set                object \n",
      " 3   order_number            int8   \n",
      " 4   order_day_of_week       int8   \n",
      " 5   order_hour_of_day       int8   \n",
      " 6   days_since_prior_order  float64\n",
      " 7   product_id              int32  \n",
      " 8   add_to_cart_order       int16  \n",
      " 9   reordered               int8   \n",
      " 10  Unnamed: 0_x            int64  \n",
      " 11  product_name            object \n",
      " 12  prices                  float64\n",
      " 13  price_range_loc         object \n",
      " 14  Busiest day             object \n",
      " 15  Busiest days            object \n",
      " 16  Most Orders             object \n",
      " 17  gender                  object \n",
      " 18  state                   object \n",
      " 19  age                     int8   \n",
      " 20  date_joined             object \n",
      " 21  #_of_dependants         int8   \n",
      " 22  marital_status          object \n",
      " 23  income                  int32  \n",
      " 24  max_order               int8   \n",
      " 25  avg_price               float64\n",
      " 26  spending_flag           object \n",
      " 27  median_order_duration   float64\n",
      " 28  frequency_flag          object \n",
      " 29  loyalty_flag            object \n",
      " 30  department              object \n",
      " 31  region                  object \n",
      " 32  exclusion_flag          object \n",
      " 33  age_range               object \n",
      " 34  pet_stuff               int8   \n",
      " 35  baby_stuff              int8   \n",
      " 36  snacks                  int8   \n",
      " 37  income_flag             object \n",
      "dtypes: float64(4), int16(1), int32(4), int64(1), int8(10), object(18)\n",
      "memory usage: 575.4+ MB\n"
     ]
    }
   ],
   "source": [
    "orders.info()"
   ]
  },
  {
   "cell_type": "code",
   "execution_count": 63,
   "id": "8b3c80b9",
   "metadata": {},
   "outputs": [
    {
     "data": {
      "text/plain": [
       "(205302, 38)"
      ]
     },
     "execution_count": 63,
     "metadata": {},
     "output_type": "execute_result"
    }
   ],
   "source": [
    "customers.shape"
   ]
  },
  {
   "cell_type": "code",
   "execution_count": 64,
   "id": "67ae72c9",
   "metadata": {},
   "outputs": [
    {
     "name": "stdout",
     "output_type": "stream",
     "text": [
      "<class 'pandas.core.frame.DataFrame'>\n",
      "Int64Index: 205302 entries, 0 to 32237367\n",
      "Data columns (total 38 columns):\n",
      " #   Column                  Non-Null Count   Dtype  \n",
      "---  ------                  --------------   -----  \n",
      " 0   order_id                205302 non-null  int32  \n",
      " 1   customer_id             205302 non-null  int32  \n",
      " 2   eval_set                205302 non-null  object \n",
      " 3   order_number            205302 non-null  int8   \n",
      " 4   order_day_of_week       205302 non-null  int8   \n",
      " 5   order_hour_of_day       205302 non-null  int8   \n",
      " 6   days_since_prior_order  169856 non-null  float64\n",
      " 7   product_id              205302 non-null  int32  \n",
      " 8   add_to_cart_order       205302 non-null  int16  \n",
      " 9   reordered               205302 non-null  int8   \n",
      " 10  Unnamed: 0_x            205302 non-null  int64  \n",
      " 11  product_name            205302 non-null  object \n",
      " 12  prices                  205234 non-null  float64\n",
      " 13  price_range_loc         205302 non-null  object \n",
      " 14  Busiest day             205302 non-null  object \n",
      " 15  Busiest days            205302 non-null  object \n",
      " 16  Most Orders             205302 non-null  object \n",
      " 17  gender                  205302 non-null  object \n",
      " 18  state                   205302 non-null  object \n",
      " 19  age                     205302 non-null  int8   \n",
      " 20  date_joined             205302 non-null  object \n",
      " 21  #_of_dependants         205302 non-null  int8   \n",
      " 22  marital_status          205302 non-null  object \n",
      " 23  income                  205302 non-null  int32  \n",
      " 24  max_order               205302 non-null  int8   \n",
      " 25  avg_price               205302 non-null  float64\n",
      " 26  spending_flag           205302 non-null  object \n",
      " 27  median_order_duration   205302 non-null  float64\n",
      " 28  frequency_flag          205302 non-null  object \n",
      " 29  loyalty_flag            205302 non-null  object \n",
      " 30  department              205302 non-null  object \n",
      " 31  region                  205302 non-null  object \n",
      " 32  exclusion_flag          205302 non-null  object \n",
      " 33  age_range               205302 non-null  object \n",
      " 34  pet_stuff               205302 non-null  int8   \n",
      " 35  baby_stuff              205302 non-null  int8   \n",
      " 36  snacks                  205302 non-null  int8   \n",
      " 37  income_flag             205302 non-null  object \n",
      "dtypes: float64(4), int16(1), int32(4), int64(1), int8(10), object(18)\n",
      "memory usage: 43.1+ MB\n"
     ]
    }
   ],
   "source": [
    "customers.info()"
   ]
  },
  {
   "cell_type": "code",
   "execution_count": 65,
   "id": "4bd6a2de",
   "metadata": {},
   "outputs": [
    {
     "data": {
      "text/html": [
       "<div>\n",
       "<style scoped>\n",
       "    .dataframe tbody tr th:only-of-type {\n",
       "        vertical-align: middle;\n",
       "    }\n",
       "\n",
       "    .dataframe tbody tr th {\n",
       "        vertical-align: top;\n",
       "    }\n",
       "\n",
       "    .dataframe thead th {\n",
       "        text-align: right;\n",
       "    }\n",
       "</style>\n",
       "<table border=\"1\" class=\"dataframe\">\n",
       "  <thead>\n",
       "    <tr style=\"text-align: right;\">\n",
       "      <th></th>\n",
       "      <th>order_id</th>\n",
       "      <th>customer_id</th>\n",
       "      <th>eval_set</th>\n",
       "      <th>order_number</th>\n",
       "      <th>order_day_of_week</th>\n",
       "      <th>order_hour_of_day</th>\n",
       "      <th>days_since_prior_order</th>\n",
       "      <th>product_id</th>\n",
       "      <th>add_to_cart_order</th>\n",
       "      <th>reordered</th>\n",
       "      <th>...</th>\n",
       "      <th>frequency_flag</th>\n",
       "      <th>loyalty_flag</th>\n",
       "      <th>department</th>\n",
       "      <th>region</th>\n",
       "      <th>exclusion_flag</th>\n",
       "      <th>age_range</th>\n",
       "      <th>pet_stuff</th>\n",
       "      <th>baby_stuff</th>\n",
       "      <th>snacks</th>\n",
       "      <th>income_flag</th>\n",
       "    </tr>\n",
       "  </thead>\n",
       "  <tbody>\n",
       "    <tr>\n",
       "      <th>0</th>\n",
       "      <td>2539329</td>\n",
       "      <td>1</td>\n",
       "      <td>prior</td>\n",
       "      <td>1</td>\n",
       "      <td>2</td>\n",
       "      <td>8</td>\n",
       "      <td>NaN</td>\n",
       "      <td>196</td>\n",
       "      <td>1</td>\n",
       "      <td>0</td>\n",
       "      <td>...</td>\n",
       "      <td>Non-Frequent Customer</td>\n",
       "      <td>New Customer</td>\n",
       "      <td>pets</td>\n",
       "      <td>south</td>\n",
       "      <td>Normal activity customer</td>\n",
       "      <td>1</td>\n",
       "      <td>1</td>\n",
       "      <td>1</td>\n",
       "      <td>0</td>\n",
       "      <td>Low Income</td>\n",
       "    </tr>\n",
       "    <tr>\n",
       "      <th>60</th>\n",
       "      <td>1870022</td>\n",
       "      <td>15</td>\n",
       "      <td>prior</td>\n",
       "      <td>17</td>\n",
       "      <td>2</td>\n",
       "      <td>16</td>\n",
       "      <td>8.0</td>\n",
       "      <td>196</td>\n",
       "      <td>6</td>\n",
       "      <td>1</td>\n",
       "      <td>...</td>\n",
       "      <td>Regular Customer</td>\n",
       "      <td>Regular Customer</td>\n",
       "      <td>pets</td>\n",
       "      <td>midwest</td>\n",
       "      <td>Normal activity customer</td>\n",
       "      <td>3</td>\n",
       "      <td>1</td>\n",
       "      <td>1</td>\n",
       "      <td>0</td>\n",
       "      <td>Middle Income</td>\n",
       "    </tr>\n",
       "    <tr>\n",
       "      <th>218</th>\n",
       "      <td>2293453</td>\n",
       "      <td>19</td>\n",
       "      <td>prior</td>\n",
       "      <td>2</td>\n",
       "      <td>5</td>\n",
       "      <td>14</td>\n",
       "      <td>6.0</td>\n",
       "      <td>12108</td>\n",
       "      <td>1</td>\n",
       "      <td>0</td>\n",
       "      <td>...</td>\n",
       "      <td>Non-Frequent Customer</td>\n",
       "      <td>New Customer</td>\n",
       "      <td>pets</td>\n",
       "      <td>south</td>\n",
       "      <td>Normal activity customer</td>\n",
       "      <td>2</td>\n",
       "      <td>1</td>\n",
       "      <td>1</td>\n",
       "      <td>0</td>\n",
       "      <td>Middle Income</td>\n",
       "    </tr>\n",
       "    <tr>\n",
       "      <th>365</th>\n",
       "      <td>1806047</td>\n",
       "      <td>21</td>\n",
       "      <td>prior</td>\n",
       "      <td>21</td>\n",
       "      <td>1</td>\n",
       "      <td>9</td>\n",
       "      <td>7.0</td>\n",
       "      <td>44632</td>\n",
       "      <td>1</td>\n",
       "      <td>1</td>\n",
       "      <td>...</td>\n",
       "      <td>Frequent Customer</td>\n",
       "      <td>Loyal Customer</td>\n",
       "      <td>pets</td>\n",
       "      <td>west</td>\n",
       "      <td>Normal activity customer</td>\n",
       "      <td>3</td>\n",
       "      <td>1</td>\n",
       "      <td>0</td>\n",
       "      <td>0</td>\n",
       "      <td>Middle Income</td>\n",
       "    </tr>\n",
       "    <tr>\n",
       "      <th>564</th>\n",
       "      <td>2150649</td>\n",
       "      <td>31</td>\n",
       "      <td>prior</td>\n",
       "      <td>1</td>\n",
       "      <td>5</td>\n",
       "      <td>11</td>\n",
       "      <td>NaN</td>\n",
       "      <td>48988</td>\n",
       "      <td>4</td>\n",
       "      <td>0</td>\n",
       "      <td>...</td>\n",
       "      <td>Non-Frequent Customer</td>\n",
       "      <td>Regular Customer</td>\n",
       "      <td>pets</td>\n",
       "      <td>south</td>\n",
       "      <td>Normal activity customer</td>\n",
       "      <td>2</td>\n",
       "      <td>1</td>\n",
       "      <td>1</td>\n",
       "      <td>0</td>\n",
       "      <td>Middle Income</td>\n",
       "    </tr>\n",
       "  </tbody>\n",
       "</table>\n",
       "<p>5 rows × 38 columns</p>\n",
       "</div>"
      ],
      "text/plain": [
       "     order_id  customer_id eval_set  order_number  order_day_of_week  \\\n",
       "0     2539329            1    prior             1                  2   \n",
       "60    1870022           15    prior            17                  2   \n",
       "218   2293453           19    prior             2                  5   \n",
       "365   1806047           21    prior            21                  1   \n",
       "564   2150649           31    prior             1                  5   \n",
       "\n",
       "     order_hour_of_day  days_since_prior_order  product_id  add_to_cart_order  \\\n",
       "0                    8                     NaN         196                  1   \n",
       "60                  16                     8.0         196                  6   \n",
       "218                 14                     6.0       12108                  1   \n",
       "365                  9                     7.0       44632                  1   \n",
       "564                 11                     NaN       48988                  4   \n",
       "\n",
       "     reordered  ...         frequency_flag      loyalty_flag  department  \\\n",
       "0            0  ...  Non-Frequent Customer      New Customer        pets   \n",
       "60           1  ...       Regular Customer  Regular Customer        pets   \n",
       "218          0  ...  Non-Frequent Customer      New Customer        pets   \n",
       "365          1  ...      Frequent Customer    Loyal Customer        pets   \n",
       "564          0  ...  Non-Frequent Customer  Regular Customer        pets   \n",
       "\n",
       "      region            exclusion_flag age_range pet_stuff baby_stuff snacks  \\\n",
       "0      south  Normal activity customer         1         1          1      0   \n",
       "60   midwest  Normal activity customer         3         1          1      0   \n",
       "218    south  Normal activity customer         2         1          1      0   \n",
       "365     west  Normal activity customer         3         1          0      0   \n",
       "564    south  Normal activity customer         2         1          1      0   \n",
       "\n",
       "       income_flag  \n",
       "0       Low Income  \n",
       "60   Middle Income  \n",
       "218  Middle Income  \n",
       "365  Middle Income  \n",
       "564  Middle Income  \n",
       "\n",
       "[5 rows x 38 columns]"
      ]
     },
     "execution_count": 65,
     "metadata": {},
     "output_type": "execute_result"
    }
   ],
   "source": [
    "customers.head()"
   ]
  },
  {
   "cell_type": "markdown",
   "id": "5c2f46ed",
   "metadata": {},
   "source": [
    "## 6. Export file(s) and images"
   ]
  },
  {
   "cell_type": "markdown",
   "id": "e4149492",
   "metadata": {},
   "source": [
    "#### Dataframes"
   ]
  },
  {
   "cell_type": "code",
   "execution_count": 82,
   "id": "8dce6faf",
   "metadata": {},
   "outputs": [],
   "source": [
    "df.to_pickle(os.path.join(path, '02 - Data','Prepared Data', '4.10_part2.pkl'))"
   ]
  },
  {
   "cell_type": "code",
   "execution_count": 83,
   "id": "d522db4e",
   "metadata": {},
   "outputs": [],
   "source": [
    "customers.to_pickle(os.path.join(path, '02 - Data','Prepared Data', '4.10_customers.pkl'))"
   ]
  },
  {
   "cell_type": "code",
   "execution_count": 84,
   "id": "a2a0862e",
   "metadata": {},
   "outputs": [],
   "source": [
    "orders.to_pickle(os.path.join(path, '02 - Data','Prepared Data', '4.10_orders.pkl'))"
   ]
  },
  {
   "cell_type": "code",
   "execution_count": 85,
   "id": "db042fb5",
   "metadata": {},
   "outputs": [],
   "source": [
    "df_region.to_csv(os.path.join(path, '02 - Data','Prepared Data', '4.10_df_region.csv'))"
   ]
  },
  {
   "cell_type": "markdown",
   "id": "4168cbc6",
   "metadata": {},
   "source": [
    "#### Orders"
   ]
  },
  {
   "cell_type": "code",
   "execution_count": 66,
   "id": "4679e8f5",
   "metadata": {},
   "outputs": [],
   "source": [
    "Orders_by_day_bar.figure.savefig(os.path.join(path,'04 - Analysis', 'Visualizations', 'Orders_by_day_bar.jpg'))"
   ]
  },
  {
   "cell_type": "code",
   "execution_count": 67,
   "id": "34724e45",
   "metadata": {},
   "outputs": [],
   "source": [
    "Orders_by_hour_bar.figure.savefig(os.path.join(path,'04 - Analysis', 'Visualizations', 'Orders_by_hour_bar.jpg'))"
   ]
  },
  {
   "cell_type": "code",
   "execution_count": 68,
   "id": "d04f717c",
   "metadata": {},
   "outputs": [],
   "source": [
    "avg_bar_cost_hours.figure.savefig(os.path.join(path,'04 - Analysis', 'Visualizations', 'avg_bar_cost_hours.jpg'))"
   ]
  },
  {
   "cell_type": "markdown",
   "id": "a8595e44",
   "metadata": {},
   "source": [
    "#### Prices"
   ]
  },
  {
   "cell_type": "code",
   "execution_count": 69,
   "id": "d93502bb",
   "metadata": {},
   "outputs": [],
   "source": [
    "hist_prices.figure.savefig(os.path.join(path,'04 - Analysis', 'Visualizations', 'hist_prices.jpg'))"
   ]
  },
  {
   "cell_type": "code",
   "execution_count": 70,
   "id": "406191b1",
   "metadata": {},
   "outputs": [],
   "source": [
    "bar_price_range_loc.figure.savefig(os.path.join(path,'04 - Analysis', 'Visualizations', 'bar_price-range.jpg'))"
   ]
  },
  {
   "cell_type": "markdown",
   "id": "199168f6",
   "metadata": {},
   "source": [
    "#### Products"
   ]
  },
  {
   "cell_type": "code",
   "execution_count": 71,
   "id": "b3965942",
   "metadata": {},
   "outputs": [],
   "source": [
    "bar_products_1.figure.savefig(os.path.join(path,'04 - Analysis', 'Visualizations', 'bar_products_1.jpg'))"
   ]
  },
  {
   "cell_type": "code",
   "execution_count": 72,
   "id": "4b88da8e",
   "metadata": {},
   "outputs": [],
   "source": [
    "bar_products_2.figure.savefig(os.path.join(path,'04 - Analysis', 'Visualizations', 'bar_products2.jpg'))"
   ]
  },
  {
   "cell_type": "markdown",
   "id": "e5370219",
   "metadata": {},
   "source": [
    "#### Customers"
   ]
  },
  {
   "cell_type": "code",
   "execution_count": 73,
   "id": "db9ed4d9",
   "metadata": {},
   "outputs": [],
   "source": [
    "pie_loyalty_customers.figure.savefig(os.path.join(path,'04 - Analysis', 'Visualizations', 'pie_loyalty_customers.jpg'))"
   ]
  },
  {
   "cell_type": "code",
   "execution_count": 74,
   "id": "99183349",
   "metadata": {},
   "outputs": [],
   "source": [
    "hist_median_days.figure.savefig(os.path.join(path,'04 - Analysis', 'Visualizations', 'hist_median_days.jpg'))"
   ]
  },
  {
   "cell_type": "code",
   "execution_count": 75,
   "id": "e87f71c5",
   "metadata": {},
   "outputs": [],
   "source": [
    "bar_median_order_loyalty.figure.savefig(os.path.join(path,'04 - Analysis', 'Visualizations', 'bar_median_loyalty.jpg'))"
   ]
  },
  {
   "cell_type": "code",
   "execution_count": 76,
   "id": "34b317d7",
   "metadata": {},
   "outputs": [],
   "source": [
    "bar_common_day_loyalty.figure.savefig(os.path.join(path,'04 - Analysis', 'Visualizations', 'bar_common_day_loyalty.jpg'))"
   ]
  },
  {
   "cell_type": "code",
   "execution_count": 77,
   "id": "55d30319",
   "metadata": {},
   "outputs": [],
   "source": [
    "hist_common_day.figure.savefig(os.path.join(path,'04 - Analysis', 'Visualizations', 'hist_common_day.jpg'))"
   ]
  },
  {
   "cell_type": "markdown",
   "id": "0fa3673d",
   "metadata": {},
   "source": [
    "#### Income"
   ]
  },
  {
   "cell_type": "code",
   "execution_count": 78,
   "id": "27b53640",
   "metadata": {},
   "outputs": [],
   "source": [
    "bar_income_dow.figure.savefig(os.path.join(path,'04 - Analysis', 'Visualizations', 'bar_income_dow.jpg'))"
   ]
  },
  {
   "cell_type": "code",
   "execution_count": 79,
   "id": "f8c1a0e5",
   "metadata": {},
   "outputs": [],
   "source": [
    "age_income_scat.figure.savefig(os.path.join(path,'04 - Analysis', 'Visualizations', 'age_income_scat.jpg'))"
   ]
  },
  {
   "cell_type": "markdown",
   "id": "37bc6361",
   "metadata": {},
   "source": [
    "#### Pets"
   ]
  },
  {
   "cell_type": "code",
   "execution_count": 80,
   "id": "ed8ca0b9",
   "metadata": {},
   "outputs": [],
   "source": [
    "bar_gender_pets.figure.savefig(os.path.join(path,'04 - Analysis', 'Visualizations', 'bar_gender_pets.jpg'))"
   ]
  },
  {
   "cell_type": "markdown",
   "id": "98eee728",
   "metadata": {},
   "source": [
    "#### Snacks"
   ]
  },
  {
   "cell_type": "code",
   "execution_count": 81,
   "id": "75cc3133",
   "metadata": {},
   "outputs": [],
   "source": [
    "bar_snacks.figure.savefig(os.path.join(path,'04 - Analysis', 'Visualizations', 'bar_snacks.jpg'))"
   ]
  },
  {
   "cell_type": "markdown",
   "id": "516a27ba",
   "metadata": {},
   "source": []
  },
  {
   "cell_type": "markdown",
   "id": "63a64d7f",
   "metadata": {},
   "source": [
    "## 7. Summary of data"
   ]
  },
  {
   "cell_type": "markdown",
   "id": "561bae9f",
   "metadata": {},
   "source": [
    "        Question 1:  Busiest day and times for orders\n",
    "            -\tOrder by day\n",
    "                o\tSat, Sun, Friday most busy\n",
    "                o\tWednesday – least busy\n",
    "            -\tOrders by hour\n",
    "                o\tMost purchases 9am – 5pm\n",
    "                o\tLeast purchases 2am – 4am\n",
    "       \n",
    "       Question 2:  Time when most money is spent\n",
    "                •\tMost purchases are between 9am-5pm on Sat and Sunday\n",
    "       \n",
    "       Question 3:  Price product breakdown\n",
    "                •\tMost products are in the mid range price range between $6-$15.\n",
    "                •\tFewest purchased products are high range which are $15 or greater. \n",
    "       \n",
    "       Question 4:  Popularity of products and departments\n",
    "            -\tNumber of products available in top 10 departments\n",
    "                o\tProduct has the highest number of products available \n",
    "            -\tNumber of products purchased in top 10 departments\n",
    "                o\tAlcohol is the department in which sells the most products. \n",
    "       \n",
    "       Question 5:  Customer type and ordering behavior\n",
    "           \n",
    "           -\tCustomer Loyalty\n",
    "                o\tResults: 52% of place between 10-40 orders, which are deemed as a Normal Customer.\n",
    "                o\tFollowed by 32% of loyal customers with > 40 orders\n",
    "          \n",
    "          -\tMedian days between orders due to customer loyalty\n",
    "                •\tThe average customer places an order every 7 days; however, here is the mean for each customer group. \n",
    "                o\tLoyal Customer = 5 days\n",
    "                o\tNew Customer = 18 days\n",
    "                o\tRegular customer = 10 days\n",
    "\n",
    "          -\tCustomer loyalty by region\n",
    "                o\tThe largest percentage of customers are regular customers.  Nothing really stands out in this section. \n",
    "          \n",
    "          -\tCommon ordering day\n",
    "                o\t Overall there is not much of a difference between loyalty and ordering days; however: \n",
    "                        - Saturdays are when the most orders are placed and Loyal Customers place the most orders on \n",
    "                        Saturdays.\n",
    "                        - Wednesday was when customers place fewest orders, and New Customers purchase the most on \n",
    "                        Wednesdays.  \n",
    "                o\tTip: Wednesday might be a good idea to include promotions for new customers. Order day by income range\n",
    "          \n",
    "          -\tOrder day by income range\n",
    "                o\tThe largest percent of customers purchasing each day are middle income.  The fewest purchases are from\n",
    "                high income customers. \n",
    "          \n",
    "          -\tPet Supplies and Gender\n",
    "                o\tThere is no different between the amount of pet supplies that males/females purchase; however, there is\n",
    "                a significant amount of customers that do purchase pet products. \n",
    "          \n",
    "          -\tPets Supplies and State\n",
    "                o\tTop 5 states that purchase pet products\n",
    "                    1. Pennsylvania\n",
    "                    2. California\n",
    "                    3. Georgia\n",
    "                    4. Arizona\n",
    "                    5. Rhode Island\n",
    "          \n",
    "          -\tSnacks and hour of day\n",
    "                o\tMost snacks are purchased between 9-3. \n",
    "          \n",
    "          -\tAge range vs income\n",
    "                o\tMost customers 40 or younger make about $200,000; however there are several\n",
    "                that go up to 400, 000.  \n",
    "                o\tAfter age 40, the average income range is about $300,000 but go as high as $600,000\n"
   ]
  },
  {
   "cell_type": "code",
   "execution_count": null,
   "id": "c797ade3",
   "metadata": {},
   "outputs": [],
   "source": []
  }
 ],
 "metadata": {
  "kernelspec": {
   "display_name": "Python 3 (ipykernel)",
   "language": "python",
   "name": "python3"
  },
  "language_info": {
   "codemirror_mode": {
    "name": "ipython",
    "version": 3
   },
   "file_extension": ".py",
   "mimetype": "text/x-python",
   "name": "python",
   "nbconvert_exporter": "python",
   "pygments_lexer": "ipython3",
   "version": "3.9.12"
  }
 },
 "nbformat": 4,
 "nbformat_minor": 5
}
