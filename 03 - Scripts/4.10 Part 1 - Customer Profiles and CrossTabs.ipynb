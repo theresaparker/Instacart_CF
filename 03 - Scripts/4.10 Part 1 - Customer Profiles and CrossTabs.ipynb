{
 "cells": [
  {
   "cell_type": "markdown",
   "id": "4d55374a",
   "metadata": {},
   "source": [
    "# Task 4.10 Part 1 - Customer Profiles and Crosstabs"
   ]
  },
  {
   "cell_type": "markdown",
   "id": "9d239c52",
   "metadata": {},
   "source": [
    "## CONTENTS\n",
    "\n",
    "#### *Important note Due to the large dataset of the data and RAM, the main dataframe has a 30% random sample from the original dataframe at the end of 4.9.*\n",
    "\n",
    "#### 1. Importing libraries and data\n",
    "\n",
    "\n",
    "#### 2.  Data checks and preparation\n",
    "    2a. Main dataframe overview\n",
    "    2b. Department dataframe overview\n",
    "    2c. Merging the main and department dataframe together.  \n",
    "\n",
    "#### 3. Addressing PII concerns\n",
    "    - Removed first_name & last_name due to PII concerns\n",
    "    - Removed the following columns to save space and reduce columns:\n",
    "        - department_id\n",
    "        - merge\n",
    "        - aisle_id\n",
    "        - Unnamed: 0_y\n",
    "\n",
    "#### 4. Create regions, viewing region information, and region flags\n",
    "\n",
    "    4a. Create regions  \n",
    "    4b. Data exploration on regions\n",
    "            - -Number of customers in each region\n",
    "            -- Number of states in each region\n",
    "            -- Sales by region\n",
    "            --Products sold by region. \n",
    "    4c. Create region dataframe with aggregated variables       \n",
    "            -- Aggregated counts by region\n",
    "            -- average price per order\n",
    "\t        -- average price per customer\n",
    "\t        -- average orders placed by customer\n",
    "\t        --What region spends the most in average price per customer\n",
    "#### 5. Subset data    \n",
    "   \n",
    "     5a. Create customer and order subset \n",
    "     5b. Crosstab to view customer loyalty in each region\n",
    "     5c. Percentage of customers in each region based on region population\n",
    "    \n",
    "#### 6. Exclusion flag for low activity customers\n",
    "\t6a. Create dataframe subset for low activity customers with less than 5 orders. \n",
    "\t6b. Create dataframe subset for normal activity customers with > = 5 orders. \n",
    "\t6c. Exporting low and normal activity dataframes\n",
    "           \n",
    "#### NOTE: The dataframe going forward for normal activity customers is df3\n",
    "      \n",
    "#### 7. Customer profile variables\n",
    "\t7a. Age ranges\n",
    "         * Age range 1 = Young Adult, \n",
    "         * Age range 2 = Adult\n",
    "         * Age range 3 = Senior\n",
    "         \n",
    "\t7b. Time of day brackets\n",
    "         * early morning = 12:00 am - 05:59 am \n",
    "         * morning = 06:00 am - 11:59 pm \n",
    "         * afternoon = 12:00 pm - 04:59 pm \n",
    "         * evening = 05:00 pm - 07:59 pm \n",
    "         * night = 08:00 pm - 11:59 pm\n",
    "         \n",
    "\t7c. Pet flag\n",
    "         1 = pet product purchase\n",
    "         0 = no pet product purchase\n",
    "         \n",
    "\t7d. Baby flag\n",
    "         1 = baby product purchase\n",
    "         0 = no baby product purchase\n",
    "         \n",
    "\t7e. Snack flag\n",
    "         1 = snack purchase\n",
    "         0 = no snack purchase\n",
    "         \n",
    "\t7f. Income Grouping\n",
    "         Income Breakdown\n",
    "           * Below 52,200 = Low Income\n",
    "           * Between 52,200 & 156,600 = Middle Income\n",
    "           * Above 156,600 = High Income\n",
    "\n",
    "\n",
    "#### 8.  Final overview of dataframe(s)\n",
    "#### 9.  Exporting file(s)\n"
   ]
  },
  {
   "cell_type": "markdown",
   "id": "e474e63b",
   "metadata": {},
   "source": [
    "## 1. Importing libraries and data"
   ]
  },
  {
   "cell_type": "code",
   "execution_count": 84,
   "id": "e68e0930",
   "metadata": {},
   "outputs": [],
   "source": [
    "# import libraries\n",
    "import pandas as pd\n",
    "import numpy as np\n",
    "import os\n",
    "import matplotlib.pyplot as plt\n",
    "import seaborn as sns\n",
    "import scipy"
   ]
  },
  {
   "cell_type": "code",
   "execution_count": 85,
   "id": "42251863",
   "metadata": {},
   "outputs": [],
   "source": [
    "path = r'C:\\Users\\there\\Desktop\\Career Foundry\\06.2022 Instacart Basket Analysis'"
   ]
  },
  {
   "cell_type": "code",
   "execution_count": 86,
   "id": "1ba1a293",
   "metadata": {},
   "outputs": [],
   "source": [
    "df = pd.read_pickle(os.path.join(path,'02 - Data', 'Prepared Data', '4.9_revamped_smalldf.pkl'))"
   ]
  },
  {
   "cell_type": "code",
   "execution_count": 87,
   "id": "1490839a",
   "metadata": {},
   "outputs": [],
   "source": [
    "df_departments = pd.read_csv(os.path.join(path,'02 - Data', 'Prepared Data', 'departments_wrangled.csv'), index_col = False)"
   ]
  },
  {
   "cell_type": "markdown",
   "id": "bf6b32d9",
   "metadata": {},
   "source": [
    "## 2. Data checks & preparation"
   ]
  },
  {
   "cell_type": "markdown",
   "id": "034616a4",
   "metadata": {},
   "source": [
    "### 2a. Main dataframe overview"
   ]
  },
  {
   "cell_type": "code",
   "execution_count": 88,
   "id": "2c5f0784",
   "metadata": {},
   "outputs": [
    {
     "data": {
      "text/html": [
       "<div>\n",
       "<style scoped>\n",
       "    .dataframe tbody tr th:only-of-type {\n",
       "        vertical-align: middle;\n",
       "    }\n",
       "\n",
       "    .dataframe tbody tr th {\n",
       "        vertical-align: top;\n",
       "    }\n",
       "\n",
       "    .dataframe thead th {\n",
       "        text-align: right;\n",
       "    }\n",
       "</style>\n",
       "<table border=\"1\" class=\"dataframe\">\n",
       "  <thead>\n",
       "    <tr style=\"text-align: right;\">\n",
       "      <th></th>\n",
       "      <th>order_id</th>\n",
       "      <th>customer_id</th>\n",
       "      <th>eval_set</th>\n",
       "      <th>order_number</th>\n",
       "      <th>order_day_of_week</th>\n",
       "      <th>order_hour_of_day</th>\n",
       "      <th>days_since_prior_order</th>\n",
       "      <th>product_id</th>\n",
       "      <th>add_to_cart_order</th>\n",
       "      <th>reordered</th>\n",
       "      <th>...</th>\n",
       "      <th>date_joined</th>\n",
       "      <th>#_of_dependants</th>\n",
       "      <th>marital_status</th>\n",
       "      <th>income</th>\n",
       "      <th>max_order</th>\n",
       "      <th>avg_price</th>\n",
       "      <th>spending_flag</th>\n",
       "      <th>median_order_duration</th>\n",
       "      <th>frequency_flag</th>\n",
       "      <th>loyalty_flag</th>\n",
       "    </tr>\n",
       "  </thead>\n",
       "  <tbody>\n",
       "    <tr>\n",
       "      <th>0</th>\n",
       "      <td>2539329</td>\n",
       "      <td>1</td>\n",
       "      <td>prior</td>\n",
       "      <td>1</td>\n",
       "      <td>2</td>\n",
       "      <td>8</td>\n",
       "      <td>NaN</td>\n",
       "      <td>196</td>\n",
       "      <td>1</td>\n",
       "      <td>0</td>\n",
       "      <td>...</td>\n",
       "      <td>2/17/2019</td>\n",
       "      <td>3</td>\n",
       "      <td>married</td>\n",
       "      <td>40423</td>\n",
       "      <td>10</td>\n",
       "      <td>6.367797</td>\n",
       "      <td>Low Spender</td>\n",
       "      <td>20.5</td>\n",
       "      <td>Non-Frequent Customer</td>\n",
       "      <td>New Customer</td>\n",
       "    </tr>\n",
       "    <tr>\n",
       "      <th>2</th>\n",
       "      <td>473747</td>\n",
       "      <td>1</td>\n",
       "      <td>prior</td>\n",
       "      <td>3</td>\n",
       "      <td>3</td>\n",
       "      <td>12</td>\n",
       "      <td>21.0</td>\n",
       "      <td>196</td>\n",
       "      <td>1</td>\n",
       "      <td>1</td>\n",
       "      <td>...</td>\n",
       "      <td>2/17/2019</td>\n",
       "      <td>3</td>\n",
       "      <td>married</td>\n",
       "      <td>40423</td>\n",
       "      <td>10</td>\n",
       "      <td>6.367797</td>\n",
       "      <td>Low Spender</td>\n",
       "      <td>20.5</td>\n",
       "      <td>Non-Frequent Customer</td>\n",
       "      <td>New Customer</td>\n",
       "    </tr>\n",
       "    <tr>\n",
       "      <th>3</th>\n",
       "      <td>2254736</td>\n",
       "      <td>1</td>\n",
       "      <td>prior</td>\n",
       "      <td>4</td>\n",
       "      <td>4</td>\n",
       "      <td>7</td>\n",
       "      <td>29.0</td>\n",
       "      <td>196</td>\n",
       "      <td>1</td>\n",
       "      <td>1</td>\n",
       "      <td>...</td>\n",
       "      <td>2/17/2019</td>\n",
       "      <td>3</td>\n",
       "      <td>married</td>\n",
       "      <td>40423</td>\n",
       "      <td>10</td>\n",
       "      <td>6.367797</td>\n",
       "      <td>Low Spender</td>\n",
       "      <td>20.5</td>\n",
       "      <td>Non-Frequent Customer</td>\n",
       "      <td>New Customer</td>\n",
       "    </tr>\n",
       "    <tr>\n",
       "      <th>6</th>\n",
       "      <td>550135</td>\n",
       "      <td>1</td>\n",
       "      <td>prior</td>\n",
       "      <td>7</td>\n",
       "      <td>1</td>\n",
       "      <td>9</td>\n",
       "      <td>20.0</td>\n",
       "      <td>196</td>\n",
       "      <td>1</td>\n",
       "      <td>1</td>\n",
       "      <td>...</td>\n",
       "      <td>2/17/2019</td>\n",
       "      <td>3</td>\n",
       "      <td>married</td>\n",
       "      <td>40423</td>\n",
       "      <td>10</td>\n",
       "      <td>6.367797</td>\n",
       "      <td>Low Spender</td>\n",
       "      <td>20.5</td>\n",
       "      <td>Non-Frequent Customer</td>\n",
       "      <td>New Customer</td>\n",
       "    </tr>\n",
       "    <tr>\n",
       "      <th>10</th>\n",
       "      <td>2539329</td>\n",
       "      <td>1</td>\n",
       "      <td>prior</td>\n",
       "      <td>1</td>\n",
       "      <td>2</td>\n",
       "      <td>8</td>\n",
       "      <td>NaN</td>\n",
       "      <td>14084</td>\n",
       "      <td>2</td>\n",
       "      <td>0</td>\n",
       "      <td>...</td>\n",
       "      <td>2/17/2019</td>\n",
       "      <td>3</td>\n",
       "      <td>married</td>\n",
       "      <td>40423</td>\n",
       "      <td>22</td>\n",
       "      <td>3.980556</td>\n",
       "      <td>Low Spender</td>\n",
       "      <td>10.0</td>\n",
       "      <td>Frequent Customer</td>\n",
       "      <td>Regular Customer</td>\n",
       "    </tr>\n",
       "  </tbody>\n",
       "</table>\n",
       "<p>5 rows × 35 columns</p>\n",
       "</div>"
      ],
      "text/plain": [
       "    order_id  customer_id eval_set  order_number  order_day_of_week  \\\n",
       "0    2539329            1    prior             1                  2   \n",
       "2     473747            1    prior             3                  3   \n",
       "3    2254736            1    prior             4                  4   \n",
       "6     550135            1    prior             7                  1   \n",
       "10   2539329            1    prior             1                  2   \n",
       "\n",
       "    order_hour_of_day  days_since_prior_order  product_id  add_to_cart_order  \\\n",
       "0                   8                     NaN         196                  1   \n",
       "2                  12                    21.0         196                  1   \n",
       "3                   7                    29.0         196                  1   \n",
       "6                   9                    20.0         196                  1   \n",
       "10                  8                     NaN       14084                  2   \n",
       "\n",
       "    reordered  ...  date_joined #_of_dependants  marital_status  income  \\\n",
       "0           0  ...    2/17/2019               3         married   40423   \n",
       "2           1  ...    2/17/2019               3         married   40423   \n",
       "3           1  ...    2/17/2019               3         married   40423   \n",
       "6           1  ...    2/17/2019               3         married   40423   \n",
       "10          0  ...    2/17/2019               3         married   40423   \n",
       "\n",
       "    max_order avg_price spending_flag median_order_duration  \\\n",
       "0          10  6.367797   Low Spender                  20.5   \n",
       "2          10  6.367797   Low Spender                  20.5   \n",
       "3          10  6.367797   Low Spender                  20.5   \n",
       "6          10  6.367797   Low Spender                  20.5   \n",
       "10         22  3.980556   Low Spender                  10.0   \n",
       "\n",
       "           frequency_flag      loyalty_flag  \n",
       "0   Non-Frequent Customer      New Customer  \n",
       "2   Non-Frequent Customer      New Customer  \n",
       "3   Non-Frequent Customer      New Customer  \n",
       "6   Non-Frequent Customer      New Customer  \n",
       "10      Frequent Customer  Regular Customer  \n",
       "\n",
       "[5 rows x 35 columns]"
      ]
     },
     "execution_count": 88,
     "metadata": {},
     "output_type": "execute_result"
    }
   ],
   "source": [
    "# overview\n",
    "df.head()"
   ]
  },
  {
   "cell_type": "code",
   "execution_count": 89,
   "id": "d25ccd9a",
   "metadata": {},
   "outputs": [
    {
     "name": "stdout",
     "output_type": "stream",
     "text": [
      "<class 'pandas.core.frame.DataFrame'>\n",
      "Int64Index: 9721457 entries, 0 to 32406037\n",
      "Data columns (total 35 columns):\n",
      " #   Column                  Dtype   \n",
      "---  ------                  -----   \n",
      " 0   order_id                int32   \n",
      " 1   customer_id             int32   \n",
      " 2   eval_set                object  \n",
      " 3   order_number            int8    \n",
      " 4   order_day_of_week       int8    \n",
      " 5   order_hour_of_day       int8    \n",
      " 6   days_since_prior_order  float64 \n",
      " 7   product_id              int32   \n",
      " 8   add_to_cart_order       int16   \n",
      " 9   reordered               int8    \n",
      " 10  Unnamed: 0              int64   \n",
      " 11  product_name            object  \n",
      " 12  aisle_id                int64   \n",
      " 13  department_id           int64   \n",
      " 14  prices                  float64 \n",
      " 15  _merge                  category\n",
      " 16  price_range_loc         object  \n",
      " 17  Busiest day             object  \n",
      " 18  Busiest days            object  \n",
      " 19  Most Orders             object  \n",
      " 20  first_name              object  \n",
      " 21  last_name               object  \n",
      " 22  gender                  object  \n",
      " 23  state                   object  \n",
      " 24  age                     int8    \n",
      " 25  date_joined             object  \n",
      " 26  #_of_dependants         int8    \n",
      " 27  marital_status          object  \n",
      " 28  income                  int32   \n",
      " 29  max_order               int8    \n",
      " 30  avg_price               float64 \n",
      " 31  spending_flag           object  \n",
      " 32  median_order_duration   float64 \n",
      " 33  frequency_flag          object  \n",
      " 34  loyalty_flag            object  \n",
      "dtypes: category(1), float64(4), int16(1), int32(4), int64(3), int8(7), object(15)\n",
      "memory usage: 1.9+ GB\n"
     ]
    }
   ],
   "source": [
    "# checking columns and datatypes\n",
    "df.info()"
   ]
  },
  {
   "cell_type": "code",
   "execution_count": 90,
   "id": "2332e78e",
   "metadata": {},
   "outputs": [
    {
     "data": {
      "text/plain": [
       "(9721457, 35)"
      ]
     },
     "execution_count": 90,
     "metadata": {},
     "output_type": "execute_result"
    }
   ],
   "source": [
    "# checking columns/rows\n",
    "df.shape"
   ]
  },
  {
   "cell_type": "markdown",
   "id": "baf6fac4",
   "metadata": {},
   "source": [
    "### 2b. Department dataframe overview"
   ]
  },
  {
   "cell_type": "code",
   "execution_count": 91,
   "id": "0bf6e560",
   "metadata": {},
   "outputs": [
    {
     "data": {
      "text/html": [
       "<div>\n",
       "<style scoped>\n",
       "    .dataframe tbody tr th:only-of-type {\n",
       "        vertical-align: middle;\n",
       "    }\n",
       "\n",
       "    .dataframe tbody tr th {\n",
       "        vertical-align: top;\n",
       "    }\n",
       "\n",
       "    .dataframe thead th {\n",
       "        text-align: right;\n",
       "    }\n",
       "</style>\n",
       "<table border=\"1\" class=\"dataframe\">\n",
       "  <thead>\n",
       "    <tr style=\"text-align: right;\">\n",
       "      <th></th>\n",
       "      <th>Unnamed: 0</th>\n",
       "      <th>department</th>\n",
       "    </tr>\n",
       "  </thead>\n",
       "  <tbody>\n",
       "    <tr>\n",
       "      <th>0</th>\n",
       "      <td>1</td>\n",
       "      <td>frozen</td>\n",
       "    </tr>\n",
       "    <tr>\n",
       "      <th>1</th>\n",
       "      <td>2</td>\n",
       "      <td>other</td>\n",
       "    </tr>\n",
       "    <tr>\n",
       "      <th>2</th>\n",
       "      <td>3</td>\n",
       "      <td>bakery</td>\n",
       "    </tr>\n",
       "    <tr>\n",
       "      <th>3</th>\n",
       "      <td>4</td>\n",
       "      <td>produce</td>\n",
       "    </tr>\n",
       "    <tr>\n",
       "      <th>4</th>\n",
       "      <td>5</td>\n",
       "      <td>alcohol</td>\n",
       "    </tr>\n",
       "  </tbody>\n",
       "</table>\n",
       "</div>"
      ],
      "text/plain": [
       "   Unnamed: 0 department\n",
       "0           1     frozen\n",
       "1           2      other\n",
       "2           3     bakery\n",
       "3           4    produce\n",
       "4           5    alcohol"
      ]
     },
     "execution_count": 91,
     "metadata": {},
     "output_type": "execute_result"
    }
   ],
   "source": [
    "# dataframe overview\n",
    "df_departments.head()"
   ]
  },
  {
   "cell_type": "code",
   "execution_count": 92,
   "id": "3698e00f",
   "metadata": {},
   "outputs": [
    {
     "name": "stdout",
     "output_type": "stream",
     "text": [
      "<class 'pandas.core.frame.DataFrame'>\n",
      "RangeIndex: 21 entries, 0 to 20\n",
      "Data columns (total 2 columns):\n",
      " #   Column      Non-Null Count  Dtype \n",
      "---  ------      --------------  ----- \n",
      " 0   Unnamed: 0  21 non-null     int64 \n",
      " 1   department  21 non-null     object\n",
      "dtypes: int64(1), object(1)\n",
      "memory usage: 464.0+ bytes\n"
     ]
    }
   ],
   "source": [
    "# checking columns and datatypes\n",
    "df_departments.info()"
   ]
  },
  {
   "cell_type": "code",
   "execution_count": 93,
   "id": "b5fb64f6",
   "metadata": {},
   "outputs": [],
   "source": [
    "# changing datatype to reduce RAM\n",
    "df_departments['Unnamed: 0'] = df_departments['Unnamed: 0'].astype('int8')"
   ]
  },
  {
   "cell_type": "code",
   "execution_count": 94,
   "id": "f1aa6cc0",
   "metadata": {},
   "outputs": [
    {
     "data": {
      "text/plain": [
       "(21, 2)"
      ]
     },
     "execution_count": 94,
     "metadata": {},
     "output_type": "execute_result"
    }
   ],
   "source": [
    "# checking rows/columns\n",
    "df_departments.shape"
   ]
  },
  {
   "cell_type": "markdown",
   "id": "33b6497e",
   "metadata": {},
   "source": [
    "### 2c. Merging the main and department dataframe together"
   ]
  },
  {
   "cell_type": "code",
   "execution_count": 95,
   "id": "fe42a1b8",
   "metadata": {},
   "outputs": [
    {
     "name": "stdout",
     "output_type": "stream",
     "text": [
      "CPU times: total: 3.56 s\n",
      "Wall time: 3.56 s\n"
     ]
    }
   ],
   "source": [
    "%%time\n",
    "# merging department names into one big dataframe\n",
    "df = df.merge(df_departments, how = 'inner', left_on='department_id', right_index=True) "
   ]
  },
  {
   "cell_type": "code",
   "execution_count": 96,
   "id": "4cded722",
   "metadata": {},
   "outputs": [
    {
     "data": {
      "text/html": [
       "<div>\n",
       "<style scoped>\n",
       "    .dataframe tbody tr th:only-of-type {\n",
       "        vertical-align: middle;\n",
       "    }\n",
       "\n",
       "    .dataframe tbody tr th {\n",
       "        vertical-align: top;\n",
       "    }\n",
       "\n",
       "    .dataframe thead th {\n",
       "        text-align: right;\n",
       "    }\n",
       "</style>\n",
       "<table border=\"1\" class=\"dataframe\">\n",
       "  <thead>\n",
       "    <tr style=\"text-align: right;\">\n",
       "      <th></th>\n",
       "      <th>product_id</th>\n",
       "      <th>department_id</th>\n",
       "      <th>department</th>\n",
       "    </tr>\n",
       "  </thead>\n",
       "  <tbody>\n",
       "    <tr>\n",
       "      <th>0</th>\n",
       "      <td>196</td>\n",
       "      <td>7</td>\n",
       "      <td>pets</td>\n",
       "    </tr>\n",
       "    <tr>\n",
       "      <th>2</th>\n",
       "      <td>196</td>\n",
       "      <td>7</td>\n",
       "      <td>pets</td>\n",
       "    </tr>\n",
       "    <tr>\n",
       "      <th>3</th>\n",
       "      <td>196</td>\n",
       "      <td>7</td>\n",
       "      <td>pets</td>\n",
       "    </tr>\n",
       "    <tr>\n",
       "      <th>6</th>\n",
       "      <td>196</td>\n",
       "      <td>7</td>\n",
       "      <td>pets</td>\n",
       "    </tr>\n",
       "    <tr>\n",
       "      <th>60</th>\n",
       "      <td>196</td>\n",
       "      <td>7</td>\n",
       "      <td>pets</td>\n",
       "    </tr>\n",
       "  </tbody>\n",
       "</table>\n",
       "</div>"
      ],
      "text/plain": [
       "    product_id  department_id department\n",
       "0          196              7       pets\n",
       "2          196              7       pets\n",
       "3          196              7       pets\n",
       "6          196              7       pets\n",
       "60         196              7       pets"
      ]
     },
     "execution_count": 96,
     "metadata": {},
     "output_type": "execute_result"
    }
   ],
   "source": [
    "# viewing specific columns\n",
    "df[['product_id', 'department_id', 'department']].head()"
   ]
  },
  {
   "cell_type": "markdown",
   "id": "5387db47",
   "metadata": {},
   "source": [
    "## 3.  Addressing PII concerns"
   ]
  },
  {
   "cell_type": "markdown",
   "id": "e1bad43a",
   "metadata": {},
   "source": [
    "    Plan: \n",
    "    - Drop customer_first and last_name due to customer_id is a unique identifier to connect data with each customer.\n",
    "    - Drop department_id, _merge, aisle_id, and Unnamed:0_y, to save RAM and create fewer columns. "
   ]
  },
  {
   "cell_type": "code",
   "execution_count": 97,
   "id": "5eff7b70",
   "metadata": {},
   "outputs": [],
   "source": [
    "# create new dataframe with dropped columns\n",
    "df2 = df.drop(columns = ['first_name', 'last_name', 'department_id', '_merge', 'aisle_id', 'Unnamed: 0_y'])"
   ]
  },
  {
   "cell_type": "markdown",
   "id": "f470ecbb",
   "metadata": {},
   "source": [
    "## 4. Create regions, view region data, and creating region_flags"
   ]
  },
  {
   "cell_type": "markdown",
   "id": "5bf0bd87",
   "metadata": {},
   "source": [
    "### 4a. Create regions"
   ]
  },
  {
   "cell_type": "code",
   "execution_count": 98,
   "id": "8a01307a",
   "metadata": {},
   "outputs": [],
   "source": [
    "# creating region series with all appropriate states\n",
    "northeast = ['Maine', 'New Hampshire', 'Vermont', 'Massachusetts', 'Rhode Island', \n",
    "             'Connecticut', 'New York', 'Pennsylvania', 'New Jersey']\n",
    "midwest = ['Wisconsin', 'Michigan', 'Illinois', 'Indiana', 'Ohio',\n",
    "          'North Dakota', 'South Dakota', 'Nebraska', 'Kansas',\n",
    "          'Minnesota', 'Iowa', 'Missouri']\n",
    "south = ['Delaware', 'Maryland', 'District of Columbia', 'Virginia', 'West Virginia',\n",
    "         'North Carolina', 'South Carolina', 'Georgia', 'Florida', 'Kentucky', 'Tennessee',\n",
    "         'Mississippi', 'Alabama', 'Oklahoma', 'Texas', 'Arkansas', 'Louisiana']\n",
    "west = ['Idaho', 'Montana', 'Wyoming', 'Nevada', 'Utah', 'Colorado', 'Arizona',\n",
    "        'New Mexico', 'Alaska', 'Washington', 'Oregon', 'California', 'Hawaii']"
   ]
  },
  {
   "cell_type": "code",
   "execution_count": 99,
   "id": "bf1d3aaf",
   "metadata": {},
   "outputs": [],
   "source": [
    "# create new region column identifying the regions\n",
    "df2.loc[df2['state'].isin(northeast), 'region'] = 'northeast'\n",
    "df2.loc[df2['state'].isin(midwest), 'region'] = 'midwest'\n",
    "df2.loc[df2['state'].isin(south), 'region'] = 'south'\n",
    "df2.loc[df2['state'].isin(west), 'region'] = 'west'"
   ]
  },
  {
   "cell_type": "code",
   "execution_count": 100,
   "id": "51b11924",
   "metadata": {},
   "outputs": [
    {
     "data": {
      "text/plain": [
       "south        3231022\n",
       "west         2482933\n",
       "midwest      2274588\n",
       "northeast    1712325\n",
       "Name: region, dtype: int64"
      ]
     },
     "execution_count": 100,
     "metadata": {},
     "output_type": "execute_result"
    }
   ],
   "source": [
    "# ensuring that all records were accounted for\n",
    "df2['region'].value_counts(dropna=False)"
   ]
  },
  {
   "cell_type": "markdown",
   "id": "eed1a266",
   "metadata": {},
   "source": [
    "### 4b. Data exploration on regions"
   ]
  },
  {
   "cell_type": "markdown",
   "id": "4221f6d1",
   "metadata": {},
   "source": [
    "#### Number of customers in each region"
   ]
  },
  {
   "cell_type": "code",
   "execution_count": 101,
   "id": "ce462d8d",
   "metadata": {},
   "outputs": [
    {
     "data": {
      "text/html": [
       "<div>\n",
       "<style scoped>\n",
       "    .dataframe tbody tr th:only-of-type {\n",
       "        vertical-align: middle;\n",
       "    }\n",
       "\n",
       "    .dataframe tbody tr th {\n",
       "        vertical-align: top;\n",
       "    }\n",
       "\n",
       "    .dataframe thead th {\n",
       "        text-align: right;\n",
       "    }\n",
       "</style>\n",
       "<table border=\"1\" class=\"dataframe\">\n",
       "  <thead>\n",
       "    <tr style=\"text-align: right;\">\n",
       "      <th></th>\n",
       "      <th>customer_id</th>\n",
       "    </tr>\n",
       "    <tr>\n",
       "      <th>region</th>\n",
       "      <th></th>\n",
       "    </tr>\n",
       "  </thead>\n",
       "  <tbody>\n",
       "    <tr>\n",
       "      <th>south</th>\n",
       "      <td>68464</td>\n",
       "    </tr>\n",
       "    <tr>\n",
       "      <th>west</th>\n",
       "      <td>52375</td>\n",
       "    </tr>\n",
       "    <tr>\n",
       "      <th>midwest</th>\n",
       "      <td>48346</td>\n",
       "    </tr>\n",
       "    <tr>\n",
       "      <th>northeast</th>\n",
       "      <td>36255</td>\n",
       "    </tr>\n",
       "  </tbody>\n",
       "</table>\n",
       "</div>"
      ],
      "text/plain": [
       "           customer_id\n",
       "region                \n",
       "south            68464\n",
       "west             52375\n",
       "midwest          48346\n",
       "northeast        36255"
      ]
     },
     "execution_count": 101,
     "metadata": {},
     "output_type": "execute_result"
    }
   ],
   "source": [
    "# checking frequency of regions\n",
    "df2[['region', 'customer_id']].groupby('region').agg({'customer_id': pd.Series.nunique,}).sort_values(by='customer_id', ascending=False)"
   ]
  },
  {
   "cell_type": "markdown",
   "id": "28601354",
   "metadata": {},
   "source": [
    "    Results: The south region has the most customers, while the northeast has the fewest customers. "
   ]
  },
  {
   "cell_type": "markdown",
   "id": "4e0d941f",
   "metadata": {},
   "source": [
    "#### Number of states in each region"
   ]
  },
  {
   "cell_type": "code",
   "execution_count": 102,
   "id": "13debff8",
   "metadata": {},
   "outputs": [
    {
     "data": {
      "text/html": [
       "<div>\n",
       "<style scoped>\n",
       "    .dataframe tbody tr th:only-of-type {\n",
       "        vertical-align: middle;\n",
       "    }\n",
       "\n",
       "    .dataframe tbody tr th {\n",
       "        vertical-align: top;\n",
       "    }\n",
       "\n",
       "    .dataframe thead th {\n",
       "        text-align: right;\n",
       "    }\n",
       "</style>\n",
       "<table border=\"1\" class=\"dataframe\">\n",
       "  <thead>\n",
       "    <tr style=\"text-align: right;\">\n",
       "      <th></th>\n",
       "      <th>state</th>\n",
       "    </tr>\n",
       "    <tr>\n",
       "      <th>region</th>\n",
       "      <th></th>\n",
       "    </tr>\n",
       "  </thead>\n",
       "  <tbody>\n",
       "    <tr>\n",
       "      <th>south</th>\n",
       "      <td>17</td>\n",
       "    </tr>\n",
       "    <tr>\n",
       "      <th>west</th>\n",
       "      <td>13</td>\n",
       "    </tr>\n",
       "    <tr>\n",
       "      <th>midwest</th>\n",
       "      <td>12</td>\n",
       "    </tr>\n",
       "    <tr>\n",
       "      <th>northeast</th>\n",
       "      <td>9</td>\n",
       "    </tr>\n",
       "  </tbody>\n",
       "</table>\n",
       "</div>"
      ],
      "text/plain": [
       "           state\n",
       "region          \n",
       "south         17\n",
       "west          13\n",
       "midwest       12\n",
       "northeast      9"
      ]
     },
     "execution_count": 102,
     "metadata": {},
     "output_type": "execute_result"
    }
   ],
   "source": [
    "# seeing how many states are in each region\n",
    "df2[['region', 'state']].groupby('region').agg({'state': pd.Series.nunique,}).sort_values(by='state', ascending=False)"
   ]
  },
  {
   "cell_type": "markdown",
   "id": "af2a97fe",
   "metadata": {},
   "source": [
    "    Results:  There are the most states in the south region and fewest states in the northeast region. This corresponds with the most customer_id's in the south and fewest customer id's in the northeast. "
   ]
  },
  {
   "cell_type": "markdown",
   "id": "ef01b9b4",
   "metadata": {},
   "source": [
    "#### Sales by region"
   ]
  },
  {
   "cell_type": "code",
   "execution_count": 103,
   "id": "bab40a65",
   "metadata": {},
   "outputs": [
    {
     "data": {
      "text/html": [
       "<div>\n",
       "<style scoped>\n",
       "    .dataframe tbody tr th:only-of-type {\n",
       "        vertical-align: middle;\n",
       "    }\n",
       "\n",
       "    .dataframe tbody tr th {\n",
       "        vertical-align: top;\n",
       "    }\n",
       "\n",
       "    .dataframe thead th {\n",
       "        text-align: right;\n",
       "    }\n",
       "</style>\n",
       "<table border=\"1\" class=\"dataframe\">\n",
       "  <thead>\n",
       "    <tr style=\"text-align: right;\">\n",
       "      <th></th>\n",
       "      <th>prices</th>\n",
       "    </tr>\n",
       "    <tr>\n",
       "      <th>region</th>\n",
       "      <th></th>\n",
       "    </tr>\n",
       "  </thead>\n",
       "  <tbody>\n",
       "    <tr>\n",
       "      <th>south</th>\n",
       "      <td>25175488.3</td>\n",
       "    </tr>\n",
       "    <tr>\n",
       "      <th>west</th>\n",
       "      <td>19329761.7</td>\n",
       "    </tr>\n",
       "    <tr>\n",
       "      <th>midwest</th>\n",
       "      <td>17719063.7</td>\n",
       "    </tr>\n",
       "    <tr>\n",
       "      <th>northeast</th>\n",
       "      <td>13323573.2</td>\n",
       "    </tr>\n",
       "  </tbody>\n",
       "</table>\n",
       "</div>"
      ],
      "text/plain": [
       "               prices\n",
       "region               \n",
       "south      25175488.3\n",
       "west       19329761.7\n",
       "midwest    17719063.7\n",
       "northeast  13323573.2"
      ]
     },
     "execution_count": 103,
     "metadata": {},
     "output_type": "execute_result"
    }
   ],
   "source": [
    "# checking what region customers spend the most in sales\n",
    "df2[['prices', 'region']].groupby('region').agg('sum').sort_values(by ='prices', ascending=False)"
   ]
  },
  {
   "cell_type": "markdown",
   "id": "19c4b8fe",
   "metadata": {},
   "source": [
    "    Results: The south spends the most and the northeast spends the least."
   ]
  },
  {
   "cell_type": "markdown",
   "id": "19ea4d13",
   "metadata": {},
   "source": [
    "#### Products sold by region"
   ]
  },
  {
   "cell_type": "code",
   "execution_count": 104,
   "id": "288b2701",
   "metadata": {},
   "outputs": [
    {
     "data": {
      "text/html": [
       "<div>\n",
       "<style scoped>\n",
       "    .dataframe tbody tr th:only-of-type {\n",
       "        vertical-align: middle;\n",
       "    }\n",
       "\n",
       "    .dataframe tbody tr th {\n",
       "        vertical-align: top;\n",
       "    }\n",
       "\n",
       "    .dataframe thead th {\n",
       "        text-align: right;\n",
       "    }\n",
       "</style>\n",
       "<table border=\"1\" class=\"dataframe\">\n",
       "  <thead>\n",
       "    <tr style=\"text-align: right;\">\n",
       "      <th></th>\n",
       "      <th>product_id</th>\n",
       "    </tr>\n",
       "    <tr>\n",
       "      <th>region</th>\n",
       "      <th></th>\n",
       "    </tr>\n",
       "  </thead>\n",
       "  <tbody>\n",
       "    <tr>\n",
       "      <th>south</th>\n",
       "      <td>3231022</td>\n",
       "    </tr>\n",
       "    <tr>\n",
       "      <th>west</th>\n",
       "      <td>2482933</td>\n",
       "    </tr>\n",
       "    <tr>\n",
       "      <th>midwest</th>\n",
       "      <td>2274588</td>\n",
       "    </tr>\n",
       "    <tr>\n",
       "      <th>northeast</th>\n",
       "      <td>1712325</td>\n",
       "    </tr>\n",
       "  </tbody>\n",
       "</table>\n",
       "</div>"
      ],
      "text/plain": [
       "           product_id\n",
       "region               \n",
       "south         3231022\n",
       "west          2482933\n",
       "midwest       2274588\n",
       "northeast     1712325"
      ]
     },
     "execution_count": 104,
     "metadata": {},
     "output_type": "execute_result"
    }
   ],
   "source": [
    "# products sold by region\n",
    "df2[['region', 'product_id']].groupby(['region']).agg('count').sort_values(by='product_id', ascending=False)"
   ]
  },
  {
   "cell_type": "markdown",
   "id": "c9297315",
   "metadata": {},
   "source": [
    "### 4c. Create region dataframe to show aggregate values"
   ]
  },
  {
   "cell_type": "code",
   "execution_count": 105,
   "id": "eeaa7509",
   "metadata": {},
   "outputs": [],
   "source": [
    "# creating a new dataframe that summarizes the data by region\n",
    "df_region = df2[['prices', 'region', 'customer_id', 'order_id']].groupby(['region']).agg({'prices':'sum', 'customer_id': pd.Series.nunique, 'order_id' : pd.Series.nunique})"
   ]
  },
  {
   "cell_type": "code",
   "execution_count": 106,
   "id": "0789ac0c",
   "metadata": {},
   "outputs": [
    {
     "data": {
      "text/html": [
       "<div>\n",
       "<style scoped>\n",
       "    .dataframe tbody tr th:only-of-type {\n",
       "        vertical-align: middle;\n",
       "    }\n",
       "\n",
       "    .dataframe tbody tr th {\n",
       "        vertical-align: top;\n",
       "    }\n",
       "\n",
       "    .dataframe thead th {\n",
       "        text-align: right;\n",
       "    }\n",
       "</style>\n",
       "<table border=\"1\" class=\"dataframe\">\n",
       "  <thead>\n",
       "    <tr style=\"text-align: right;\">\n",
       "      <th></th>\n",
       "      <th>prices</th>\n",
       "      <th>customer_id</th>\n",
       "      <th>order_id</th>\n",
       "    </tr>\n",
       "    <tr>\n",
       "      <th>region</th>\n",
       "      <th></th>\n",
       "      <th></th>\n",
       "      <th></th>\n",
       "    </tr>\n",
       "  </thead>\n",
       "  <tbody>\n",
       "    <tr>\n",
       "      <th>midwest</th>\n",
       "      <td>17719063.7</td>\n",
       "      <td>48346</td>\n",
       "      <td>650524</td>\n",
       "    </tr>\n",
       "    <tr>\n",
       "      <th>northeast</th>\n",
       "      <td>13323573.2</td>\n",
       "      <td>36255</td>\n",
       "      <td>488726</td>\n",
       "    </tr>\n",
       "    <tr>\n",
       "      <th>south</th>\n",
       "      <td>25175488.3</td>\n",
       "      <td>68464</td>\n",
       "      <td>924656</td>\n",
       "    </tr>\n",
       "    <tr>\n",
       "      <th>west</th>\n",
       "      <td>19329761.7</td>\n",
       "      <td>52375</td>\n",
       "      <td>709088</td>\n",
       "    </tr>\n",
       "  </tbody>\n",
       "</table>\n",
       "</div>"
      ],
      "text/plain": [
       "               prices  customer_id  order_id\n",
       "region                                      \n",
       "midwest    17719063.7        48346    650524\n",
       "northeast  13323573.2        36255    488726\n",
       "south      25175488.3        68464    924656\n",
       "west       19329761.7        52375    709088"
      ]
     },
     "execution_count": 106,
     "metadata": {},
     "output_type": "execute_result"
    }
   ],
   "source": [
    "# viewing output\n",
    "df_region"
   ]
  },
  {
   "cell_type": "code",
   "execution_count": 107,
   "id": "91a0cf3c",
   "metadata": {},
   "outputs": [],
   "source": [
    "# renaming the columns so that it is clear\n",
    "df_region = df_region.rename(columns={'prices':'sum_of_sales', 'customer_id':'customer_count', 'order_id':'orders_placed'})"
   ]
  },
  {
   "cell_type": "code",
   "execution_count": 108,
   "id": "1f560ea8",
   "metadata": {},
   "outputs": [
    {
     "data": {
      "text/html": [
       "<div>\n",
       "<style scoped>\n",
       "    .dataframe tbody tr th:only-of-type {\n",
       "        vertical-align: middle;\n",
       "    }\n",
       "\n",
       "    .dataframe tbody tr th {\n",
       "        vertical-align: top;\n",
       "    }\n",
       "\n",
       "    .dataframe thead th {\n",
       "        text-align: right;\n",
       "    }\n",
       "</style>\n",
       "<table border=\"1\" class=\"dataframe\">\n",
       "  <thead>\n",
       "    <tr style=\"text-align: right;\">\n",
       "      <th></th>\n",
       "      <th>sum_of_sales</th>\n",
       "      <th>customer_count</th>\n",
       "      <th>orders_placed</th>\n",
       "    </tr>\n",
       "    <tr>\n",
       "      <th>region</th>\n",
       "      <th></th>\n",
       "      <th></th>\n",
       "      <th></th>\n",
       "    </tr>\n",
       "  </thead>\n",
       "  <tbody>\n",
       "    <tr>\n",
       "      <th>midwest</th>\n",
       "      <td>17719063.7</td>\n",
       "      <td>48346</td>\n",
       "      <td>650524</td>\n",
       "    </tr>\n",
       "    <tr>\n",
       "      <th>northeast</th>\n",
       "      <td>13323573.2</td>\n",
       "      <td>36255</td>\n",
       "      <td>488726</td>\n",
       "    </tr>\n",
       "    <tr>\n",
       "      <th>south</th>\n",
       "      <td>25175488.3</td>\n",
       "      <td>68464</td>\n",
       "      <td>924656</td>\n",
       "    </tr>\n",
       "    <tr>\n",
       "      <th>west</th>\n",
       "      <td>19329761.7</td>\n",
       "      <td>52375</td>\n",
       "      <td>709088</td>\n",
       "    </tr>\n",
       "  </tbody>\n",
       "</table>\n",
       "</div>"
      ],
      "text/plain": [
       "           sum_of_sales  customer_count  orders_placed\n",
       "region                                                \n",
       "midwest      17719063.7           48346         650524\n",
       "northeast    13323573.2           36255         488726\n",
       "south        25175488.3           68464         924656\n",
       "west         19329761.7           52375         709088"
      ]
     },
     "execution_count": 108,
     "metadata": {},
     "output_type": "execute_result"
    }
   ],
   "source": [
    "# viewing output\n",
    "df_region"
   ]
  },
  {
   "cell_type": "markdown",
   "id": "f8edb003",
   "metadata": {},
   "source": [
    "### Aggregated data by region"
   ]
  },
  {
   "cell_type": "markdown",
   "id": "6ae47edc",
   "metadata": {},
   "source": [
    "#### average price per order"
   ]
  },
  {
   "cell_type": "code",
   "execution_count": 109,
   "id": "937f3361",
   "metadata": {},
   "outputs": [],
   "source": [
    "# creating column for average price per oder\n",
    "df_region['avg_price_per_order'] = df_region['sum_of_sales']/df_region['orders_placed'] "
   ]
  },
  {
   "cell_type": "markdown",
   "id": "f1925c18",
   "metadata": {},
   "source": [
    "#### average price per customer"
   ]
  },
  {
   "cell_type": "code",
   "execution_count": 110,
   "id": "3ccaf309",
   "metadata": {},
   "outputs": [],
   "source": [
    "# creating column for average price per customer\n",
    "df_region['avg_price_per_customer'] = df_region['sum_of_sales']/df_region['customer_count']"
   ]
  },
  {
   "cell_type": "markdown",
   "id": "4cceb589",
   "metadata": {},
   "source": [
    "#### average orders placed by customer"
   ]
  },
  {
   "cell_type": "code",
   "execution_count": 111,
   "id": "268e8e9f",
   "metadata": {},
   "outputs": [],
   "source": [
    "# creating column for average orders placed by customer\n",
    "df_region['avg_orders_per_customer'] = df_region['orders_placed']/df_region['customer_count']"
   ]
  },
  {
   "cell_type": "code",
   "execution_count": 112,
   "id": "7f74434b",
   "metadata": {},
   "outputs": [
    {
     "data": {
      "text/html": [
       "<div>\n",
       "<style scoped>\n",
       "    .dataframe tbody tr th:only-of-type {\n",
       "        vertical-align: middle;\n",
       "    }\n",
       "\n",
       "    .dataframe tbody tr th {\n",
       "        vertical-align: top;\n",
       "    }\n",
       "\n",
       "    .dataframe thead th {\n",
       "        text-align: right;\n",
       "    }\n",
       "</style>\n",
       "<table border=\"1\" class=\"dataframe\">\n",
       "  <thead>\n",
       "    <tr style=\"text-align: right;\">\n",
       "      <th></th>\n",
       "      <th>sum_of_sales</th>\n",
       "      <th>customer_count</th>\n",
       "      <th>orders_placed</th>\n",
       "      <th>avg_price_per_order</th>\n",
       "      <th>avg_price_per_customer</th>\n",
       "      <th>avg_orders_per_customer</th>\n",
       "    </tr>\n",
       "    <tr>\n",
       "      <th>region</th>\n",
       "      <th></th>\n",
       "      <th></th>\n",
       "      <th></th>\n",
       "      <th></th>\n",
       "      <th></th>\n",
       "      <th></th>\n",
       "    </tr>\n",
       "  </thead>\n",
       "  <tbody>\n",
       "    <tr>\n",
       "      <th>midwest</th>\n",
       "      <td>17719063.7</td>\n",
       "      <td>48346</td>\n",
       "      <td>650524</td>\n",
       "      <td>27.238140</td>\n",
       "      <td>366.505268</td>\n",
       "      <td>13.455591</td>\n",
       "    </tr>\n",
       "    <tr>\n",
       "      <th>northeast</th>\n",
       "      <td>13323573.2</td>\n",
       "      <td>36255</td>\n",
       "      <td>488726</td>\n",
       "      <td>27.261847</td>\n",
       "      <td>367.496158</td>\n",
       "      <td>13.480237</td>\n",
       "    </tr>\n",
       "    <tr>\n",
       "      <th>south</th>\n",
       "      <td>25175488.3</td>\n",
       "      <td>68464</td>\n",
       "      <td>924656</td>\n",
       "      <td>27.226870</td>\n",
       "      <td>367.718630</td>\n",
       "      <td>13.505726</td>\n",
       "    </tr>\n",
       "    <tr>\n",
       "      <th>west</th>\n",
       "      <td>19329761.7</td>\n",
       "      <td>52375</td>\n",
       "      <td>709088</td>\n",
       "      <td>27.260032</td>\n",
       "      <td>369.064663</td>\n",
       "      <td>13.538673</td>\n",
       "    </tr>\n",
       "  </tbody>\n",
       "</table>\n",
       "</div>"
      ],
      "text/plain": [
       "           sum_of_sales  customer_count  orders_placed  avg_price_per_order  \\\n",
       "region                                                                        \n",
       "midwest      17719063.7           48346         650524            27.238140   \n",
       "northeast    13323573.2           36255         488726            27.261847   \n",
       "south        25175488.3           68464         924656            27.226870   \n",
       "west         19329761.7           52375         709088            27.260032   \n",
       "\n",
       "           avg_price_per_customer  avg_orders_per_customer  \n",
       "region                                                      \n",
       "midwest                366.505268                13.455591  \n",
       "northeast              367.496158                13.480237  \n",
       "south                  367.718630                13.505726  \n",
       "west                   369.064663                13.538673  "
      ]
     },
     "execution_count": 112,
     "metadata": {},
     "output_type": "execute_result"
    }
   ],
   "source": [
    "# viewing dataframe\n",
    "df_region"
   ]
  },
  {
   "cell_type": "markdown",
   "id": "670d626f",
   "metadata": {},
   "source": [
    "#### What region has the highest average price per customer? "
   ]
  },
  {
   "cell_type": "code",
   "execution_count": 113,
   "id": "fd513288",
   "metadata": {},
   "outputs": [
    {
     "data": {
      "text/html": [
       "<div>\n",
       "<style scoped>\n",
       "    .dataframe tbody tr th:only-of-type {\n",
       "        vertical-align: middle;\n",
       "    }\n",
       "\n",
       "    .dataframe tbody tr th {\n",
       "        vertical-align: top;\n",
       "    }\n",
       "\n",
       "    .dataframe thead th {\n",
       "        text-align: right;\n",
       "    }\n",
       "</style>\n",
       "<table border=\"1\" class=\"dataframe\">\n",
       "  <thead>\n",
       "    <tr style=\"text-align: right;\">\n",
       "      <th></th>\n",
       "      <th>sum_of_sales</th>\n",
       "      <th>customer_count</th>\n",
       "      <th>orders_placed</th>\n",
       "      <th>avg_price_per_order</th>\n",
       "      <th>avg_price_per_customer</th>\n",
       "      <th>avg_orders_per_customer</th>\n",
       "    </tr>\n",
       "    <tr>\n",
       "      <th>region</th>\n",
       "      <th></th>\n",
       "      <th></th>\n",
       "      <th></th>\n",
       "      <th></th>\n",
       "      <th></th>\n",
       "      <th></th>\n",
       "    </tr>\n",
       "  </thead>\n",
       "  <tbody>\n",
       "    <tr>\n",
       "      <th>west</th>\n",
       "      <td>19329761.7</td>\n",
       "      <td>52375</td>\n",
       "      <td>709088</td>\n",
       "      <td>27.260032</td>\n",
       "      <td>369.064663</td>\n",
       "      <td>13.538673</td>\n",
       "    </tr>\n",
       "    <tr>\n",
       "      <th>south</th>\n",
       "      <td>25175488.3</td>\n",
       "      <td>68464</td>\n",
       "      <td>924656</td>\n",
       "      <td>27.226870</td>\n",
       "      <td>367.718630</td>\n",
       "      <td>13.505726</td>\n",
       "    </tr>\n",
       "    <tr>\n",
       "      <th>northeast</th>\n",
       "      <td>13323573.2</td>\n",
       "      <td>36255</td>\n",
       "      <td>488726</td>\n",
       "      <td>27.261847</td>\n",
       "      <td>367.496158</td>\n",
       "      <td>13.480237</td>\n",
       "    </tr>\n",
       "    <tr>\n",
       "      <th>midwest</th>\n",
       "      <td>17719063.7</td>\n",
       "      <td>48346</td>\n",
       "      <td>650524</td>\n",
       "      <td>27.238140</td>\n",
       "      <td>366.505268</td>\n",
       "      <td>13.455591</td>\n",
       "    </tr>\n",
       "  </tbody>\n",
       "</table>\n",
       "</div>"
      ],
      "text/plain": [
       "           sum_of_sales  customer_count  orders_placed  avg_price_per_order  \\\n",
       "region                                                                        \n",
       "west         19329761.7           52375         709088            27.260032   \n",
       "south        25175488.3           68464         924656            27.226870   \n",
       "northeast    13323573.2           36255         488726            27.261847   \n",
       "midwest      17719063.7           48346         650524            27.238140   \n",
       "\n",
       "           avg_price_per_customer  avg_orders_per_customer  \n",
       "region                                                      \n",
       "west                   369.064663                13.538673  \n",
       "south                  367.718630                13.505726  \n",
       "northeast              367.496158                13.480237  \n",
       "midwest                366.505268                13.455591  "
      ]
     },
     "execution_count": 113,
     "metadata": {},
     "output_type": "execute_result"
    }
   ],
   "source": [
    "# viewing sorted data by price per customer to see what region customers spend the most in\n",
    "df_region.sort_values(by='avg_price_per_customer', ascending=False)"
   ]
  },
  {
   "cell_type": "markdown",
   "id": "355397ce",
   "metadata": {},
   "source": [
    "    Results: The WEST! Even though the south has more states, more customers, and higher sales, and more orders placed, \n",
    "    the customers in the west region spend more than those in the south region. "
   ]
  },
  {
   "cell_type": "markdown",
   "id": "365b84ce",
   "metadata": {},
   "source": [
    "## 5.  Subset data"
   ]
  },
  {
   "cell_type": "markdown",
   "id": "6d0aae84",
   "metadata": {},
   "source": [
    "### 5a. Creating customer and order subset that does not contain duplicates"
   ]
  },
  {
   "cell_type": "code",
   "execution_count": 114,
   "id": "66b37239",
   "metadata": {},
   "outputs": [
    {
     "data": {
      "text/plain": [
       "(205440, 32)"
      ]
     },
     "execution_count": 114,
     "metadata": {},
     "output_type": "execute_result"
    }
   ],
   "source": [
    "# create a dataframe that just lists customers\n",
    "customers = df2.drop_duplicates(subset=['customer_id'])\n",
    "customers.shape"
   ]
  },
  {
   "cell_type": "code",
   "execution_count": 115,
   "id": "9763ee3b",
   "metadata": {},
   "outputs": [
    {
     "data": {
      "text/plain": [
       "(2772994, 32)"
      ]
     },
     "execution_count": 115,
     "metadata": {},
     "output_type": "execute_result"
    }
   ],
   "source": [
    "# create a dataframe that lists just orders\n",
    "df_orders = df2.drop_duplicates(subset='order_id').copy()\n",
    "df_orders.shape"
   ]
  },
  {
   "cell_type": "markdown",
   "id": "5b8702e9",
   "metadata": {},
   "source": [
    "### 5b. Crosstab for customer loyalty in each region"
   ]
  },
  {
   "cell_type": "code",
   "execution_count": 116,
   "id": "f2eaa86b",
   "metadata": {},
   "outputs": [
    {
     "data": {
      "text/html": [
       "<div>\n",
       "<style scoped>\n",
       "    .dataframe tbody tr th:only-of-type {\n",
       "        vertical-align: middle;\n",
       "    }\n",
       "\n",
       "    .dataframe tbody tr th {\n",
       "        vertical-align: top;\n",
       "    }\n",
       "\n",
       "    .dataframe thead th {\n",
       "        text-align: right;\n",
       "    }\n",
       "</style>\n",
       "<table border=\"1\" class=\"dataframe\">\n",
       "  <thead>\n",
       "    <tr style=\"text-align: right;\">\n",
       "      <th>loyalty_flag</th>\n",
       "      <th>Loyal Customer</th>\n",
       "      <th>New Customer</th>\n",
       "      <th>Regular Customer</th>\n",
       "    </tr>\n",
       "    <tr>\n",
       "      <th>region</th>\n",
       "      <th></th>\n",
       "      <th></th>\n",
       "      <th></th>\n",
       "    </tr>\n",
       "  </thead>\n",
       "  <tbody>\n",
       "    <tr>\n",
       "      <th>midwest</th>\n",
       "      <td>14684</td>\n",
       "      <td>9677</td>\n",
       "      <td>23985</td>\n",
       "    </tr>\n",
       "    <tr>\n",
       "      <th>northeast</th>\n",
       "      <td>11138</td>\n",
       "      <td>7288</td>\n",
       "      <td>17829</td>\n",
       "    </tr>\n",
       "    <tr>\n",
       "      <th>south</th>\n",
       "      <td>21133</td>\n",
       "      <td>13757</td>\n",
       "      <td>33574</td>\n",
       "    </tr>\n",
       "    <tr>\n",
       "      <th>west</th>\n",
       "      <td>16210</td>\n",
       "      <td>10409</td>\n",
       "      <td>25756</td>\n",
       "    </tr>\n",
       "  </tbody>\n",
       "</table>\n",
       "</div>"
      ],
      "text/plain": [
       "loyalty_flag  Loyal Customer  New Customer  Regular Customer\n",
       "region                                                      \n",
       "midwest                14684          9677             23985\n",
       "northeast              11138          7288             17829\n",
       "south                  21133         13757             33574\n",
       "west                   16210         10409             25756"
      ]
     },
     "execution_count": 116,
     "metadata": {},
     "output_type": "execute_result"
    }
   ],
   "source": [
    "# using crosstab to view cutomer loyalty in the each region\n",
    "cross_customers=pd.crosstab(customers['region'], customers['loyalty_flag'], dropna=False)\n",
    "cross_customers"
   ]
  },
  {
   "cell_type": "markdown",
   "id": "127c8c3a",
   "metadata": {},
   "source": [
    "    Results:  \n",
    "           * South - has the most loyal, new, and regular customers\n",
    "           * Northeast - has the fewest loyal, new, and regular customers"
   ]
  },
  {
   "cell_type": "markdown",
   "id": "a02504db",
   "metadata": {},
   "source": [
    "### 5c. Percentage of customers in each region based on region population"
   ]
  },
  {
   "cell_type": "code",
   "execution_count": 117,
   "id": "3a147a48",
   "metadata": {},
   "outputs": [
    {
     "name": "stdout",
     "output_type": "stream",
     "text": [
      "midwest:  30.37 %\n",
      "northeast:  30.72 %\n",
      "south:  30.87 %\n",
      "west:  30.95 %\n"
     ]
    }
   ],
   "source": [
    "#### viewing percentage of customers in each region based on region population\n",
    "print('midwest: ', round(cross_customers.iloc[0,0]/48346*100, 2),'%')\n",
    "print('northeast: ', round(cross_customers.iloc[1,0]/36255*100, 2),'%')\n",
    "print('south: ', round(cross_customers.iloc[2,0]/68464*100, 2),'%')\n",
    "print('west: ', round(cross_customers.iloc[3,0]/52375*100, 2),'%')"
   ]
  },
  {
   "cell_type": "markdown",
   "id": "f0fdd8c9",
   "metadata": {},
   "source": [
    "    Results:  Loyal customer is defined as more than 40 orders. All regions are fairly similar in percentage of loyal customers; however, the WEST region has the largest percetage of loyal customers based of the WEST total population of customers.  This was calculated for example by: \n",
    "\n",
    "    * West Region = 16210 Loyal Customers / 52375 Total Customers (16210 Loyal + 10409 New + 25756 Regular) * 100 = 30.95%"
   ]
  },
  {
   "cell_type": "markdown",
   "id": "b44f6a47",
   "metadata": {},
   "source": [
    "## 6. Creating exclusion flag for low activity customers"
   ]
  },
  {
   "cell_type": "code",
   "execution_count": 118,
   "id": "c82365e0",
   "metadata": {},
   "outputs": [
    {
     "data": {
      "text/plain": [
       "Normal activity customer    9270020\n",
       "Low activity customer        430848\n",
       "Name: exclusion_flag, dtype: int64"
      ]
     },
     "execution_count": 118,
     "metadata": {},
     "output_type": "execute_result"
    }
   ],
   "source": [
    "# creating exclusion flag\n",
    "df2.loc[df2['max_order'] < 5, 'exclusion_flag'] = 'Low activity customer'\n",
    "df2.loc[df2['max_order']>= 5, 'exclusion_flag'] = 'Normal activity customer'\n",
    "df2['exclusion_flag'].value_counts(dropna=False)"
   ]
  },
  {
   "cell_type": "markdown",
   "id": "9967f0f7",
   "metadata": {},
   "source": [
    "### 6a. Create dataframe subset for low activity customers with < 5 orders"
   ]
  },
  {
   "cell_type": "code",
   "execution_count": 119,
   "id": "50da5be1",
   "metadata": {},
   "outputs": [
    {
     "data": {
      "text/plain": [
       "(430848, 33)"
      ]
     },
     "execution_count": 119,
     "metadata": {},
     "output_type": "execute_result"
    }
   ],
   "source": [
    "# creating subset dataframe for low activity customers \n",
    "df_low_activity = df2[df2['exclusion_flag']=='Low activity customer']\n",
    "df_low_activity.shape"
   ]
  },
  {
   "cell_type": "markdown",
   "id": "816f4e1d",
   "metadata": {},
   "source": [
    "### 6b. Create dataframe subset for normal activity customers with > = 5 orders"
   ]
  },
  {
   "cell_type": "code",
   "execution_count": 120,
   "id": "3dae21b1",
   "metadata": {},
   "outputs": [
    {
     "data": {
      "text/plain": [
       "(9270020, 33)"
      ]
     },
     "execution_count": 120,
     "metadata": {},
     "output_type": "execute_result"
    }
   ],
   "source": [
    "# creating subset dataframe for normal activity customers\n",
    "df3 = df2[df2['exclusion_flag']=='Normal activity customer'].copy()\n",
    "df3.shape"
   ]
  },
  {
   "cell_type": "code",
   "execution_count": 121,
   "id": "d9fa5663",
   "metadata": {},
   "outputs": [
    {
     "data": {
      "text/plain": [
       "Normal activity customer    9270020\n",
       "Name: exclusion_flag, dtype: int64"
      ]
     },
     "execution_count": 121,
     "metadata": {},
     "output_type": "execute_result"
    }
   ],
   "source": [
    "df3.exclusion_flag.value_counts()"
   ]
  },
  {
   "cell_type": "code",
   "execution_count": 122,
   "id": "5c92ba13",
   "metadata": {},
   "outputs": [],
   "source": [
    "# checking to ensure that only normal activity customer populates. "
   ]
  },
  {
   "cell_type": "code",
   "execution_count": 123,
   "id": "4b3bf1f3",
   "metadata": {},
   "outputs": [
    {
     "name": "stdout",
     "output_type": "stream",
     "text": [
      "['Normal activity customer']\n"
     ]
    }
   ],
   "source": [
    "print(df3['exclusion_flag'].unique())"
   ]
  },
  {
   "cell_type": "code",
   "execution_count": 124,
   "id": "d1c28873",
   "metadata": {},
   "outputs": [
    {
     "data": {
      "text/plain": [
       "Normal activity customer    9270020\n",
       "Name: exclusion_flag, dtype: int64"
      ]
     },
     "execution_count": 124,
     "metadata": {},
     "output_type": "execute_result"
    }
   ],
   "source": [
    "# making certain there are no missing values\n",
    "df3['exclusion_flag'].value_counts(dropna = False)\n"
   ]
  },
  {
   "cell_type": "markdown",
   "id": "603a06c3",
   "metadata": {},
   "source": [
    "### 6c. Export low and normal activity dataframes"
   ]
  },
  {
   "cell_type": "code",
   "execution_count": 125,
   "id": "0347f045",
   "metadata": {},
   "outputs": [],
   "source": [
    "# exporting low activity customer subset\n",
    "df_low_activity.to_pickle(os.path.join(path, '02 - Data','Prepared Data', '4.10_low_activity_customers.pkl'))"
   ]
  },
  {
   "cell_type": "code",
   "execution_count": 126,
   "id": "4108aa57",
   "metadata": {},
   "outputs": [],
   "source": [
    "# exporting normal activity customer subset\n",
    "df3.to_pickle(os.path.join(path, '02 - Data','Prepared Data', '4.10_normal_activity_customers.pkl'))"
   ]
  },
  {
   "cell_type": "markdown",
   "id": "2fa754f3",
   "metadata": {},
   "source": [
    "#### NOTE** going forward the new dataframe for customers that have >= 5 orders is df3."
   ]
  },
  {
   "cell_type": "markdown",
   "id": "c1dcd21f",
   "metadata": {},
   "source": [
    "## 7. Customer profile variables"
   ]
  },
  {
   "cell_type": "markdown",
   "id": "62b612d1",
   "metadata": {},
   "source": [
    "### 7a. Age ranges"
   ]
  },
  {
   "cell_type": "code",
   "execution_count": 127,
   "id": "89d84871",
   "metadata": {},
   "outputs": [],
   "source": [
    "# dividing customers into age groups\n",
    "\n",
    "    # Age range 1 = Young Adult, \n",
    "    # Age range 2 = Adult\n",
    "    # Age range 3 = Senior"
   ]
  },
  {
   "cell_type": "code",
   "execution_count": 128,
   "id": "8e7dc48d",
   "metadata": {},
   "outputs": [
    {
     "data": {
      "text/plain": [
       "2    4200955\n",
       "1    2617986\n",
       "3    2451079\n",
       "Name: age_range, dtype: int64"
      ]
     },
     "execution_count": 128,
     "metadata": {},
     "output_type": "execute_result"
    }
   ],
   "source": [
    "# using .loc to divide ages of customers\n",
    "df3.loc[(df3['age'] >= 18) & (df3['age'] <= 35), 'age_range'] = '1'\n",
    "df3.loc[(df3['age'] > 35) & (df3['age'] <= 64), 'age_range'] = '2'\n",
    "df3.loc[(df3['age'] > 64), 'age_range'] = '3'\n",
    "df3['age_range'].value_counts()"
   ]
  },
  {
   "cell_type": "markdown",
   "id": "59ac3d47",
   "metadata": {},
   "source": [
    "    Results: The most common age of instacart customers are between the ages of 36-64. "
   ]
  },
  {
   "cell_type": "markdown",
   "id": "a76a588e",
   "metadata": {},
   "source": [
    "### 7b. Time of day brackets"
   ]
  },
  {
   "cell_type": "markdown",
   "id": "d7adaf56",
   "metadata": {},
   "source": [
    "Time of day breakdown: \n",
    "* 12:00 am - 05:59 am = early morning\n",
    "* 06:00 am - 11:59 pm = morning\n",
    "* 12:00 pm - 04:59 pm = afternoon\n",
    "* 05:00 pm - 07:59 pm = evening\n",
    "* 08:00 pm - 11:59 pm = night"
   ]
  },
  {
   "cell_type": "code",
   "execution_count": 129,
   "id": "2a12c425",
   "metadata": {},
   "outputs": [
    {
     "data": {
      "text/plain": [
       "afternoon        1127290\n",
       "morning           917551\n",
       "evening           445461\n",
       "night             231910\n",
       "early_morning      32404\n",
       "Name: time_of_day, dtype: int64"
      ]
     },
     "execution_count": 129,
     "metadata": {},
     "output_type": "execute_result"
    }
   ],
   "source": [
    "# creating a list to break down certain periods of the day\n",
    "df_orders.loc[(df_orders['order_hour_of_day'] > 0) & (df_orders['order_hour_of_day'] < 6), 'time_of_day'] = 'early_morning'\n",
    "df_orders.loc[(df_orders['order_hour_of_day'] >= 6) & (df_orders['order_hour_of_day'] < 12), 'time_of_day'] = 'morning'\n",
    "df_orders.loc[(df_orders['order_hour_of_day'] >= 12) & (df_orders['order_hour_of_day'] < 17), 'time_of_day'] = 'afternoon'\n",
    "df_orders.loc[(df_orders['order_hour_of_day'] >= 17) & (df_orders['order_hour_of_day'] < 20), 'time_of_day'] = 'evening'\n",
    "df_orders.loc[(df_orders['order_hour_of_day'] >= 20) & (df_orders['order_hour_of_day'] < 24), 'time_of_day'] = 'night'\n",
    "df_orders['time_of_day'].value_counts()"
   ]
  },
  {
   "cell_type": "code",
   "execution_count": 130,
   "id": "223b68cc",
   "metadata": {},
   "outputs": [
    {
     "data": {
      "text/html": [
       "<div>\n",
       "<style scoped>\n",
       "    .dataframe tbody tr th:only-of-type {\n",
       "        vertical-align: middle;\n",
       "    }\n",
       "\n",
       "    .dataframe tbody tr th {\n",
       "        vertical-align: top;\n",
       "    }\n",
       "\n",
       "    .dataframe thead th {\n",
       "        text-align: right;\n",
       "    }\n",
       "</style>\n",
       "<table border=\"1\" class=\"dataframe\">\n",
       "  <thead>\n",
       "    <tr style=\"text-align: right;\">\n",
       "      <th></th>\n",
       "      <th>order_id</th>\n",
       "      <th>customer_id</th>\n",
       "      <th>eval_set</th>\n",
       "      <th>order_number</th>\n",
       "      <th>order_day_of_week</th>\n",
       "      <th>order_hour_of_day</th>\n",
       "      <th>days_since_prior_order</th>\n",
       "      <th>product_id</th>\n",
       "      <th>add_to_cart_order</th>\n",
       "      <th>reordered</th>\n",
       "      <th>...</th>\n",
       "      <th>income</th>\n",
       "      <th>max_order</th>\n",
       "      <th>avg_price</th>\n",
       "      <th>spending_flag</th>\n",
       "      <th>median_order_duration</th>\n",
       "      <th>frequency_flag</th>\n",
       "      <th>loyalty_flag</th>\n",
       "      <th>department</th>\n",
       "      <th>region</th>\n",
       "      <th>time_of_day</th>\n",
       "    </tr>\n",
       "  </thead>\n",
       "  <tbody>\n",
       "    <tr>\n",
       "      <th>0</th>\n",
       "      <td>2539329</td>\n",
       "      <td>1</td>\n",
       "      <td>prior</td>\n",
       "      <td>1</td>\n",
       "      <td>2</td>\n",
       "      <td>8</td>\n",
       "      <td>NaN</td>\n",
       "      <td>196</td>\n",
       "      <td>1</td>\n",
       "      <td>0</td>\n",
       "      <td>...</td>\n",
       "      <td>40423</td>\n",
       "      <td>10</td>\n",
       "      <td>6.367797</td>\n",
       "      <td>Low Spender</td>\n",
       "      <td>20.5</td>\n",
       "      <td>Non-Frequent Customer</td>\n",
       "      <td>New Customer</td>\n",
       "      <td>pets</td>\n",
       "      <td>south</td>\n",
       "      <td>morning</td>\n",
       "    </tr>\n",
       "    <tr>\n",
       "      <th>2</th>\n",
       "      <td>473747</td>\n",
       "      <td>1</td>\n",
       "      <td>prior</td>\n",
       "      <td>3</td>\n",
       "      <td>3</td>\n",
       "      <td>12</td>\n",
       "      <td>21.0</td>\n",
       "      <td>196</td>\n",
       "      <td>1</td>\n",
       "      <td>1</td>\n",
       "      <td>...</td>\n",
       "      <td>40423</td>\n",
       "      <td>10</td>\n",
       "      <td>6.367797</td>\n",
       "      <td>Low Spender</td>\n",
       "      <td>20.5</td>\n",
       "      <td>Non-Frequent Customer</td>\n",
       "      <td>New Customer</td>\n",
       "      <td>pets</td>\n",
       "      <td>south</td>\n",
       "      <td>afternoon</td>\n",
       "    </tr>\n",
       "    <tr>\n",
       "      <th>3</th>\n",
       "      <td>2254736</td>\n",
       "      <td>1</td>\n",
       "      <td>prior</td>\n",
       "      <td>4</td>\n",
       "      <td>4</td>\n",
       "      <td>7</td>\n",
       "      <td>29.0</td>\n",
       "      <td>196</td>\n",
       "      <td>1</td>\n",
       "      <td>1</td>\n",
       "      <td>...</td>\n",
       "      <td>40423</td>\n",
       "      <td>10</td>\n",
       "      <td>6.367797</td>\n",
       "      <td>Low Spender</td>\n",
       "      <td>20.5</td>\n",
       "      <td>Non-Frequent Customer</td>\n",
       "      <td>New Customer</td>\n",
       "      <td>pets</td>\n",
       "      <td>south</td>\n",
       "      <td>morning</td>\n",
       "    </tr>\n",
       "    <tr>\n",
       "      <th>6</th>\n",
       "      <td>550135</td>\n",
       "      <td>1</td>\n",
       "      <td>prior</td>\n",
       "      <td>7</td>\n",
       "      <td>1</td>\n",
       "      <td>9</td>\n",
       "      <td>20.0</td>\n",
       "      <td>196</td>\n",
       "      <td>1</td>\n",
       "      <td>1</td>\n",
       "      <td>...</td>\n",
       "      <td>40423</td>\n",
       "      <td>10</td>\n",
       "      <td>6.367797</td>\n",
       "      <td>Low Spender</td>\n",
       "      <td>20.5</td>\n",
       "      <td>Non-Frequent Customer</td>\n",
       "      <td>New Customer</td>\n",
       "      <td>pets</td>\n",
       "      <td>south</td>\n",
       "      <td>morning</td>\n",
       "    </tr>\n",
       "    <tr>\n",
       "      <th>60</th>\n",
       "      <td>1870022</td>\n",
       "      <td>15</td>\n",
       "      <td>prior</td>\n",
       "      <td>17</td>\n",
       "      <td>2</td>\n",
       "      <td>16</td>\n",
       "      <td>8.0</td>\n",
       "      <td>196</td>\n",
       "      <td>6</td>\n",
       "      <td>1</td>\n",
       "      <td>...</td>\n",
       "      <td>54313</td>\n",
       "      <td>19</td>\n",
       "      <td>6.441221</td>\n",
       "      <td>Low Spender</td>\n",
       "      <td>11.5</td>\n",
       "      <td>Regular Customer</td>\n",
       "      <td>Regular Customer</td>\n",
       "      <td>pets</td>\n",
       "      <td>midwest</td>\n",
       "      <td>afternoon</td>\n",
       "    </tr>\n",
       "  </tbody>\n",
       "</table>\n",
       "<p>5 rows × 33 columns</p>\n",
       "</div>"
      ],
      "text/plain": [
       "    order_id  customer_id eval_set  order_number  order_day_of_week  \\\n",
       "0    2539329            1    prior             1                  2   \n",
       "2     473747            1    prior             3                  3   \n",
       "3    2254736            1    prior             4                  4   \n",
       "6     550135            1    prior             7                  1   \n",
       "60   1870022           15    prior            17                  2   \n",
       "\n",
       "    order_hour_of_day  days_since_prior_order  product_id  add_to_cart_order  \\\n",
       "0                   8                     NaN         196                  1   \n",
       "2                  12                    21.0         196                  1   \n",
       "3                   7                    29.0         196                  1   \n",
       "6                   9                    20.0         196                  1   \n",
       "60                 16                     8.0         196                  6   \n",
       "\n",
       "    reordered  ...  income max_order  avg_price spending_flag  \\\n",
       "0           0  ...   40423        10   6.367797   Low Spender   \n",
       "2           1  ...   40423        10   6.367797   Low Spender   \n",
       "3           1  ...   40423        10   6.367797   Low Spender   \n",
       "6           1  ...   40423        10   6.367797   Low Spender   \n",
       "60          1  ...   54313        19   6.441221   Low Spender   \n",
       "\n",
       "   median_order_duration         frequency_flag      loyalty_flag department  \\\n",
       "0                   20.5  Non-Frequent Customer      New Customer       pets   \n",
       "2                   20.5  Non-Frequent Customer      New Customer       pets   \n",
       "3                   20.5  Non-Frequent Customer      New Customer       pets   \n",
       "6                   20.5  Non-Frequent Customer      New Customer       pets   \n",
       "60                  11.5       Regular Customer  Regular Customer       pets   \n",
       "\n",
       "     region  time_of_day  \n",
       "0     south      morning  \n",
       "2     south    afternoon  \n",
       "3     south      morning  \n",
       "6     south      morning  \n",
       "60  midwest    afternoon  \n",
       "\n",
       "[5 rows x 33 columns]"
      ]
     },
     "execution_count": 130,
     "metadata": {},
     "output_type": "execute_result"
    }
   ],
   "source": [
    "df_orders.head()"
   ]
  },
  {
   "cell_type": "code",
   "execution_count": 131,
   "id": "003ac446",
   "metadata": {},
   "outputs": [
    {
     "data": {
      "text/plain": [
       "<AxesSubplot:>"
      ]
     },
     "execution_count": 131,
     "metadata": {},
     "output_type": "execute_result"
    },
    {
     "data": {
      "image/png": "[encoded data removed]",
      "text/plain": [
       "<Figure size 432x288 with 1 Axes>"
      ]
     },
     "metadata": {
      "needs_background": "light"
     },
     "output_type": "display_data"
    }
   ],
   "source": [
    "df_orders['time_of_day'].value_counts().sort_values().plot.barh()"
   ]
  },
  {
   "cell_type": "markdown",
   "id": "99109468",
   "metadata": {},
   "source": [
    "    Results:  Between 6a-5p are when customers purchase the most orders.  Fewest orders are placed in the early morning of hours between 12a-6a. "
   ]
  },
  {
   "cell_type": "markdown",
   "id": "1bf2aed9",
   "metadata": {},
   "source": [
    "### Viewing unqiue values in department column"
   ]
  },
  {
   "cell_type": "code",
   "execution_count": 132,
   "id": "fbc2eebf",
   "metadata": {},
   "outputs": [
    {
     "name": "stdout",
     "output_type": "stream",
     "text": [
      "['pets' 'household' 'deli' 'babies' 'alcohol' 'dairy eggs' 'other'\n",
      " 'breakfast' 'meat seafood' 'produce' 'bulk' 'missing' 'canned goods'\n",
      " 'international' 'beverages' 'pantry' 'dry goods pasta' 'snacks' 'bakery'\n",
      " 'personal care']\n"
     ]
    }
   ],
   "source": [
    "print(df3['department'].unique())"
   ]
  },
  {
   "cell_type": "markdown",
   "id": "1e4ef20e",
   "metadata": {},
   "source": [
    "### 7c. Pet flag"
   ]
  },
  {
   "cell_type": "code",
   "execution_count": 133,
   "id": "978b6728",
   "metadata": {},
   "outputs": [],
   "source": [
    "# first, identify all the products purchased from the pet department\n",
    "df3['pet_stuff'] = [1 if x == 'pets' else 0 for x in df3['department']]"
   ]
  },
  {
   "cell_type": "code",
   "execution_count": 134,
   "id": "b86a31f8",
   "metadata": {},
   "outputs": [],
   "source": [
    "# then, apply it across the whole customer's orders\n",
    "df3['pet_stuff'] = df3.groupby(['customer_id'])['pet_stuff'].transform('max')"
   ]
  },
  {
   "cell_type": "code",
   "execution_count": 135,
   "id": "dd42e566",
   "metadata": {},
   "outputs": [],
   "source": [
    "# reduce datatype to save RAM\n",
    "df3['pet_stuff'] = df3['pet_stuff'].astype('int8')"
   ]
  },
  {
   "cell_type": "markdown",
   "id": "df952e39",
   "metadata": {},
   "source": [
    "### 7d. Baby flag"
   ]
  },
  {
   "cell_type": "code",
   "execution_count": 136,
   "id": "eb55cbbe",
   "metadata": {},
   "outputs": [],
   "source": [
    "# first, identify all the products purchased from the baby department\n",
    "df3['baby_stuff'] = [1 if x == 'babies' else 0 for x in df3['department']]"
   ]
  },
  {
   "cell_type": "code",
   "execution_count": 137,
   "id": "19499447",
   "metadata": {},
   "outputs": [],
   "source": [
    "# then, apply it across the whole customer's orders\n",
    "df3['baby_stuff'] = df3.groupby(['customer_id'])['baby_stuff'].transform('max')"
   ]
  },
  {
   "cell_type": "code",
   "execution_count": 138,
   "id": "2df85409",
   "metadata": {},
   "outputs": [],
   "source": [
    "# change data type to save RAM\n",
    "df3['baby_stuff'] = df3['baby_stuff'].astype('int8')"
   ]
  },
  {
   "cell_type": "markdown",
   "id": "b518bae2",
   "metadata": {},
   "source": [
    "### 7e. Snack flag"
   ]
  },
  {
   "cell_type": "code",
   "execution_count": 139,
   "id": "cafc12e6",
   "metadata": {},
   "outputs": [],
   "source": [
    "# first, identify all the products purchased from the snacks department\n",
    "df3['snacks'] = [1 if x == 'snacks' else 0 for x in df3['department']]"
   ]
  },
  {
   "cell_type": "code",
   "execution_count": 140,
   "id": "c7a3ea44",
   "metadata": {},
   "outputs": [],
   "source": [
    "# then, apply it just across the individual order\n",
    "df3['snacks'] = df3.groupby(['order_id'])['snacks'].transform('max')"
   ]
  },
  {
   "cell_type": "code",
   "execution_count": 141,
   "id": "c1841490",
   "metadata": {},
   "outputs": [],
   "source": [
    "# change datatype to reduce RAM\n",
    "df3['snacks'] = df3['snacks'].astype('int8')"
   ]
  },
  {
   "cell_type": "markdown",
   "id": "ac4c9804",
   "metadata": {},
   "source": [
    "### 7f. Income Grouping"
   ]
  },
  {
   "cell_type": "markdown",
   "id": "806f929d",
   "metadata": {},
   "source": [
    "Income Breakdown\n",
    "\n",
    "* Below 52,200 = Low Income\n",
    "\n",
    "* Between 52,200 & 156,600 = Middle Income\n",
    "\n",
    "* Above 156,600 = High Income"
   ]
  },
  {
   "cell_type": "code",
   "execution_count": 142,
   "id": "51aba664",
   "metadata": {},
   "outputs": [
    {
     "data": {
      "text/plain": [
       "Middle Income    7328726\n",
       "Low Income       1129094\n",
       "High Income       812200\n",
       "Name: income_flag, dtype: int64"
      ]
     },
     "execution_count": 142,
     "metadata": {},
     "output_type": "execute_result"
    }
   ],
   "source": [
    "# creating income flags\n",
    "df3.loc[df3['income']<52200, 'income_flag'] = 'Low Income'\n",
    "df3.loc[(df3['income']>=52200) & (df3['income']<=156600), 'income_flag'] = 'Middle Income' \n",
    "df3.loc[df3['income']>156600, 'income_flag'] = 'High Income'\n",
    "df3['income_flag'].value_counts(dropna = False)"
   ]
  },
  {
   "cell_type": "markdown",
   "id": "d34b069c",
   "metadata": {},
   "source": [
    "        Results:  Most of Instacart customers fall in the Middle Income bracket. Incomes ranges determined by this article: https://money.usnews.com/money/personal-finance/family-finance/articles/where-do-i-fall-in-the-american-economic-class-system"
   ]
  },
  {
   "cell_type": "markdown",
   "id": "b34f254a",
   "metadata": {},
   "source": [
    "## 8. Final overview of dataframes"
   ]
  },
  {
   "cell_type": "code",
   "execution_count": 143,
   "id": "cf191995",
   "metadata": {},
   "outputs": [
    {
     "data": {
      "text/html": [
       "<div>\n",
       "<style scoped>\n",
       "    .dataframe tbody tr th:only-of-type {\n",
       "        vertical-align: middle;\n",
       "    }\n",
       "\n",
       "    .dataframe tbody tr th {\n",
       "        vertical-align: top;\n",
       "    }\n",
       "\n",
       "    .dataframe thead th {\n",
       "        text-align: right;\n",
       "    }\n",
       "</style>\n",
       "<table border=\"1\" class=\"dataframe\">\n",
       "  <thead>\n",
       "    <tr style=\"text-align: right;\">\n",
       "      <th></th>\n",
       "      <th>order_id</th>\n",
       "      <th>customer_id</th>\n",
       "      <th>eval_set</th>\n",
       "      <th>order_number</th>\n",
       "      <th>order_day_of_week</th>\n",
       "      <th>order_hour_of_day</th>\n",
       "      <th>days_since_prior_order</th>\n",
       "      <th>product_id</th>\n",
       "      <th>add_to_cart_order</th>\n",
       "      <th>reordered</th>\n",
       "      <th>...</th>\n",
       "      <th>frequency_flag</th>\n",
       "      <th>loyalty_flag</th>\n",
       "      <th>department</th>\n",
       "      <th>region</th>\n",
       "      <th>exclusion_flag</th>\n",
       "      <th>age_range</th>\n",
       "      <th>pet_stuff</th>\n",
       "      <th>baby_stuff</th>\n",
       "      <th>snacks</th>\n",
       "      <th>income_flag</th>\n",
       "    </tr>\n",
       "  </thead>\n",
       "  <tbody>\n",
       "    <tr>\n",
       "      <th>0</th>\n",
       "      <td>2539329</td>\n",
       "      <td>1</td>\n",
       "      <td>prior</td>\n",
       "      <td>1</td>\n",
       "      <td>2</td>\n",
       "      <td>8</td>\n",
       "      <td>NaN</td>\n",
       "      <td>196</td>\n",
       "      <td>1</td>\n",
       "      <td>0</td>\n",
       "      <td>...</td>\n",
       "      <td>Non-Frequent Customer</td>\n",
       "      <td>New Customer</td>\n",
       "      <td>pets</td>\n",
       "      <td>south</td>\n",
       "      <td>Normal activity customer</td>\n",
       "      <td>1</td>\n",
       "      <td>1</td>\n",
       "      <td>1</td>\n",
       "      <td>0</td>\n",
       "      <td>Low Income</td>\n",
       "    </tr>\n",
       "    <tr>\n",
       "      <th>2</th>\n",
       "      <td>473747</td>\n",
       "      <td>1</td>\n",
       "      <td>prior</td>\n",
       "      <td>3</td>\n",
       "      <td>3</td>\n",
       "      <td>12</td>\n",
       "      <td>21.0</td>\n",
       "      <td>196</td>\n",
       "      <td>1</td>\n",
       "      <td>1</td>\n",
       "      <td>...</td>\n",
       "      <td>Non-Frequent Customer</td>\n",
       "      <td>New Customer</td>\n",
       "      <td>pets</td>\n",
       "      <td>south</td>\n",
       "      <td>Normal activity customer</td>\n",
       "      <td>1</td>\n",
       "      <td>1</td>\n",
       "      <td>1</td>\n",
       "      <td>0</td>\n",
       "      <td>Low Income</td>\n",
       "    </tr>\n",
       "    <tr>\n",
       "      <th>3</th>\n",
       "      <td>2254736</td>\n",
       "      <td>1</td>\n",
       "      <td>prior</td>\n",
       "      <td>4</td>\n",
       "      <td>4</td>\n",
       "      <td>7</td>\n",
       "      <td>29.0</td>\n",
       "      <td>196</td>\n",
       "      <td>1</td>\n",
       "      <td>1</td>\n",
       "      <td>...</td>\n",
       "      <td>Non-Frequent Customer</td>\n",
       "      <td>New Customer</td>\n",
       "      <td>pets</td>\n",
       "      <td>south</td>\n",
       "      <td>Normal activity customer</td>\n",
       "      <td>1</td>\n",
       "      <td>1</td>\n",
       "      <td>1</td>\n",
       "      <td>0</td>\n",
       "      <td>Low Income</td>\n",
       "    </tr>\n",
       "    <tr>\n",
       "      <th>6</th>\n",
       "      <td>550135</td>\n",
       "      <td>1</td>\n",
       "      <td>prior</td>\n",
       "      <td>7</td>\n",
       "      <td>1</td>\n",
       "      <td>9</td>\n",
       "      <td>20.0</td>\n",
       "      <td>196</td>\n",
       "      <td>1</td>\n",
       "      <td>1</td>\n",
       "      <td>...</td>\n",
       "      <td>Non-Frequent Customer</td>\n",
       "      <td>New Customer</td>\n",
       "      <td>pets</td>\n",
       "      <td>south</td>\n",
       "      <td>Normal activity customer</td>\n",
       "      <td>1</td>\n",
       "      <td>1</td>\n",
       "      <td>1</td>\n",
       "      <td>0</td>\n",
       "      <td>Low Income</td>\n",
       "    </tr>\n",
       "    <tr>\n",
       "      <th>60</th>\n",
       "      <td>1870022</td>\n",
       "      <td>15</td>\n",
       "      <td>prior</td>\n",
       "      <td>17</td>\n",
       "      <td>2</td>\n",
       "      <td>16</td>\n",
       "      <td>8.0</td>\n",
       "      <td>196</td>\n",
       "      <td>6</td>\n",
       "      <td>1</td>\n",
       "      <td>...</td>\n",
       "      <td>Regular Customer</td>\n",
       "      <td>Regular Customer</td>\n",
       "      <td>pets</td>\n",
       "      <td>midwest</td>\n",
       "      <td>Normal activity customer</td>\n",
       "      <td>3</td>\n",
       "      <td>1</td>\n",
       "      <td>1</td>\n",
       "      <td>0</td>\n",
       "      <td>Middle Income</td>\n",
       "    </tr>\n",
       "  </tbody>\n",
       "</table>\n",
       "<p>5 rows × 38 columns</p>\n",
       "</div>"
      ],
      "text/plain": [
       "    order_id  customer_id eval_set  order_number  order_day_of_week  \\\n",
       "0    2539329            1    prior             1                  2   \n",
       "2     473747            1    prior             3                  3   \n",
       "3    2254736            1    prior             4                  4   \n",
       "6     550135            1    prior             7                  1   \n",
       "60   1870022           15    prior            17                  2   \n",
       "\n",
       "    order_hour_of_day  days_since_prior_order  product_id  add_to_cart_order  \\\n",
       "0                   8                     NaN         196                  1   \n",
       "2                  12                    21.0         196                  1   \n",
       "3                   7                    29.0         196                  1   \n",
       "6                   9                    20.0         196                  1   \n",
       "60                 16                     8.0         196                  6   \n",
       "\n",
       "    reordered  ...         frequency_flag      loyalty_flag  department  \\\n",
       "0           0  ...  Non-Frequent Customer      New Customer        pets   \n",
       "2           1  ...  Non-Frequent Customer      New Customer        pets   \n",
       "3           1  ...  Non-Frequent Customer      New Customer        pets   \n",
       "6           1  ...  Non-Frequent Customer      New Customer        pets   \n",
       "60          1  ...       Regular Customer  Regular Customer        pets   \n",
       "\n",
       "     region            exclusion_flag age_range pet_stuff baby_stuff snacks  \\\n",
       "0     south  Normal activity customer         1         1          1      0   \n",
       "2     south  Normal activity customer         1         1          1      0   \n",
       "3     south  Normal activity customer         1         1          1      0   \n",
       "6     south  Normal activity customer         1         1          1      0   \n",
       "60  midwest  Normal activity customer         3         1          1      0   \n",
       "\n",
       "      income_flag  \n",
       "0      Low Income  \n",
       "2      Low Income  \n",
       "3      Low Income  \n",
       "6      Low Income  \n",
       "60  Middle Income  \n",
       "\n",
       "[5 rows x 38 columns]"
      ]
     },
     "execution_count": 143,
     "metadata": {},
     "output_type": "execute_result"
    }
   ],
   "source": [
    "df3.head()"
   ]
  },
  {
   "cell_type": "code",
   "execution_count": 144,
   "id": "8dd8fb7c",
   "metadata": {},
   "outputs": [
    {
     "name": "stdout",
     "output_type": "stream",
     "text": [
      "<class 'pandas.core.frame.DataFrame'>\n",
      "Int64Index: 9270020 entries, 0 to 32390080\n",
      "Data columns (total 38 columns):\n",
      " #   Column                  Dtype  \n",
      "---  ------                  -----  \n",
      " 0   order_id                int32  \n",
      " 1   customer_id             int32  \n",
      " 2   eval_set                object \n",
      " 3   order_number            int8   \n",
      " 4   order_day_of_week       int8   \n",
      " 5   order_hour_of_day       int8   \n",
      " 6   days_since_prior_order  float64\n",
      " 7   product_id              int32  \n",
      " 8   add_to_cart_order       int16  \n",
      " 9   reordered               int8   \n",
      " 10  Unnamed: 0_x            int64  \n",
      " 11  product_name            object \n",
      " 12  prices                  float64\n",
      " 13  price_range_loc         object \n",
      " 14  Busiest day             object \n",
      " 15  Busiest days            object \n",
      " 16  Most Orders             object \n",
      " 17  gender                  object \n",
      " 18  state                   object \n",
      " 19  age                     int8   \n",
      " 20  date_joined             object \n",
      " 21  #_of_dependants         int8   \n",
      " 22  marital_status          object \n",
      " 23  income                  int32  \n",
      " 24  max_order               int8   \n",
      " 25  avg_price               float64\n",
      " 26  spending_flag           object \n",
      " 27  median_order_duration   float64\n",
      " 28  frequency_flag          object \n",
      " 29  loyalty_flag            object \n",
      " 30  department              object \n",
      " 31  region                  object \n",
      " 32  exclusion_flag          object \n",
      " 33  age_range               object \n",
      " 34  pet_stuff               int8   \n",
      " 35  baby_stuff              int8   \n",
      " 36  snacks                  int8   \n",
      " 37  income_flag             object \n",
      "dtypes: float64(4), int16(1), int32(4), int64(1), int8(10), object(18)\n",
      "memory usage: 1.9+ GB\n"
     ]
    }
   ],
   "source": [
    "df3.info()"
   ]
  },
  {
   "cell_type": "code",
   "execution_count": 145,
   "id": "d7e3f091",
   "metadata": {},
   "outputs": [
    {
     "data": {
      "text/plain": [
       "(9270020, 38)"
      ]
     },
     "execution_count": 145,
     "metadata": {},
     "output_type": "execute_result"
    }
   ],
   "source": [
    "# checking shapes of each dataset before closing out\n",
    "df3.shape"
   ]
  },
  {
   "cell_type": "code",
   "execution_count": 146,
   "id": "7eea4773",
   "metadata": {},
   "outputs": [
    {
     "data": {
      "text/plain": [
       "(9700868, 37)"
      ]
     },
     "execution_count": 146,
     "metadata": {},
     "output_type": "execute_result"
    }
   ],
   "source": [
    "df.shape"
   ]
  },
  {
   "cell_type": "code",
   "execution_count": 147,
   "id": "511cbab9",
   "metadata": {},
   "outputs": [
    {
     "data": {
      "text/plain": [
       "(4, 6)"
      ]
     },
     "execution_count": 147,
     "metadata": {},
     "output_type": "execute_result"
    }
   ],
   "source": [
    "df_region.shape"
   ]
  },
  {
   "cell_type": "markdown",
   "id": "5fae19a1",
   "metadata": {},
   "source": [
    "## 9. Exporting files"
   ]
  },
  {
   "cell_type": "code",
   "execution_count": 148,
   "id": "c2c8d495",
   "metadata": {},
   "outputs": [
    {
     "name": "stdout",
     "output_type": "stream",
     "text": [
      "CPU times: total: 6.12 s\n",
      "Wall time: 6.75 s\n"
     ]
    }
   ],
   "source": [
    "%%time\n",
    "# exporting main dataframe df3 to pickle file\n",
    "# this set contains all the normal activity customers and additional flags/profiling\n",
    "df3.to_pickle(os.path.join(path, '02 - Data','Prepared Data', '4.10_part1.pkl'))"
   ]
  },
  {
   "cell_type": "code",
   "execution_count": 149,
   "id": "45f3fea9",
   "metadata": {},
   "outputs": [
    {
     "name": "stdout",
     "output_type": "stream",
     "text": [
      "CPU times: total: 0 ns\n",
      "Wall time: 997 µs\n"
     ]
    }
   ],
   "source": [
    "%%time\n",
    "# exporting region dataframe df_region to pickle file\n",
    "# this set contains all the region information based on the 30% sample size. \n",
    "df_region.to_pickle(os.path.join(path, '02 - Data','Prepared Data', '4.10_region.pkl'))"
   ]
  }
 ],
 "metadata": {
  "kernelspec": {
   "display_name": "Python 3 (ipykernel)",
   "language": "python",
   "name": "python3"
  },
  "language_info": {
   "codemirror_mode": {
    "name": "ipython",
    "version": 3
   },
   "file_extension": ".py",
   "mimetype": "text/x-python",
   "name": "python",
   "nbconvert_exporter": "python",
   "pygments_lexer": "ipython3",
   "version": "3.9.12"
  }
 },
 "nbformat": 4,
 "nbformat_minor": 5
}
