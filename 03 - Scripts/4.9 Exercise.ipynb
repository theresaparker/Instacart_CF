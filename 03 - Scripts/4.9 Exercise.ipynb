{
 "cells": [
  {
   "cell_type": "code",
   "execution_count": 2,
   "id": "eb97340c",
   "metadata": {},
   "outputs": [],
   "source": [
    "# importing libraries\n",
    "import pandas as pd\n",
    "import numpy as np\n",
    "import os\n",
    "import matplotlib.pyplot as plt\n",
    "import seaborn as sns\n",
    "import scipy"
   ]
  },
  {
   "cell_type": "code",
   "execution_count": 4,
   "id": "a03632fe",
   "metadata": {},
   "outputs": [],
   "source": [
    "# importing data\n",
    "df = pd.read_pickle(r'C:\\Users\\littl\\Career Foundry\\06.2022 Instacart Basket Analysis\\02 - Data\\Prepared Data\\4.8_orders_products_merged.pkl')"
   ]
  },
  {
   "cell_type": "markdown",
   "id": "dcd7251e",
   "metadata": {},
   "source": [
    "# Creating a Bar Charts"
   ]
  },
  {
   "cell_type": "code",
   "execution_count": 5,
   "id": "3a6a26fa",
   "metadata": {},
   "outputs": [
    {
     "data": {
      "text/plain": [
       "<AxesSubplot:>"
      ]
     },
     "execution_count": 5,
     "metadata": {},
     "output_type": "execute_result"
    },
    {
     "data": {
      "image/png": "[encoded data removed]",
      "text/plain": [
       "<Figure size 432x288 with 1 Axes>"
      ]
     },
     "metadata": {
      "needs_background": "light"
     },
     "output_type": "display_data"
    }
   ],
   "source": [
    "# create bar chart\n",
    "df['order_dow'].value_counts().plot.bar()"
   ]
  },
  {
   "cell_type": "code",
   "execution_count": 6,
   "id": "32a93fff",
   "metadata": {},
   "outputs": [
    {
     "data": {
      "image/png": "[encoded data removed]",
      "text/plain": [
       "<Figure size 432x288 with 1 Axes>"
      ]
     },
     "metadata": {
      "needs_background": "light"
     },
     "output_type": "display_data"
    }
   ],
   "source": [
    "# creating bar chart that is sorted by index order\n",
    "bar = df['order_dow'].value_counts().sort_index().plot.bar()"
   ]
  },
  {
   "cell_type": "markdown",
   "id": "b64a0c8c",
   "metadata": {},
   "source": [
    "# Sorting Frequency by Index Order"
   ]
  },
  {
   "cell_type": "code",
   "execution_count": 8,
   "id": "dbdda393",
   "metadata": {},
   "outputs": [
    {
     "data": {
      "text/plain": [
       "0    6204404\n",
       "1    5660456\n",
       "6    4496635\n",
       "2    4213986\n",
       "5    4205906\n",
       "3    3840701\n",
       "4    3783953\n",
       "Name: order_dow, dtype: int64"
      ]
     },
     "execution_count": 8,
     "metadata": {},
     "output_type": "execute_result"
    }
   ],
   "source": [
    "# frequencies for orders_dow\n",
    "df['order_dow'].value_counts()"
   ]
  },
  {
   "cell_type": "code",
   "execution_count": 9,
   "id": "29e1bf02",
   "metadata": {},
   "outputs": [
    {
     "data": {
      "text/plain": [
       "0    6204404\n",
       "1    5660456\n",
       "2    4213986\n",
       "3    3840701\n",
       "4    3783953\n",
       "5    4205906\n",
       "6    4496635\n",
       "Name: order_dow, dtype: int64"
      ]
     },
     "execution_count": 9,
     "metadata": {},
     "output_type": "execute_result"
    }
   ],
   "source": [
    "# sorting frequencies by index order\n",
    "df['order_dow'].value_counts().sort_index()"
   ]
  },
  {
   "cell_type": "markdown",
   "id": "d4b52f0d",
   "metadata": {},
   "source": [
    "# Adding Color to Bar Chart"
   ]
  },
  {
   "cell_type": "code",
   "execution_count": 10,
   "id": "402bac44",
   "metadata": {},
   "outputs": [
    {
     "data": {
      "image/png": "[encoded data removed]",
      "text/plain": [
       "<Figure size 432x288 with 1 Axes>"
      ]
     },
     "metadata": {
      "needs_background": "light"
     },
     "output_type": "display_data"
    }
   ],
   "source": [
    "# adding color\n",
    "bar = df['order_dow'].value_counts().plot.bar(color = ['purple', 'red', 'pink', 'orange', 'yellow', 'green', 'blue'])"
   ]
  },
  {
   "cell_type": "markdown",
   "id": "e0a8ec27",
   "metadata": {},
   "source": [
    "# Exporting bar chart to visualization folder"
   ]
  },
  {
   "cell_type": "code",
   "execution_count": 11,
   "id": "9d73c251",
   "metadata": {},
   "outputs": [],
   "source": [
    "# exporting histogram/bar chart\n",
    "bar.figure.savefig(r'C:\\Users\\littl\\Career Foundry\\06.2022 Instacart Basket Analysis\\04 - Analysis\\Visualizations\\bar_orders_dow.png')"
   ]
  },
  {
   "cell_type": "markdown",
   "id": "575f7156",
   "metadata": {},
   "source": [
    "# Histograms"
   ]
  },
  {
   "cell_type": "code",
   "execution_count": 12,
   "id": "2fabf0f8",
   "metadata": {},
   "outputs": [
    {
     "data": {
      "text/plain": [
       "<AxesSubplot:ylabel='Frequency'>"
      ]
     },
     "execution_count": 12,
     "metadata": {},
     "output_type": "execute_result"
    },
    {
     "data": {
      "image/png": "[encoded data removed]",
      "text/plain": [
       "<Figure size 432x288 with 1 Axes>"
      ]
     },
     "metadata": {
      "needs_background": "light"
     },
     "output_type": "display_data"
    }
   ],
   "source": [
    "# create histogram\n",
    "df['prices'].plot.hist(bins = 25)"
   ]
  },
  {
   "cell_type": "code",
   "execution_count": 13,
   "id": "e3622092",
   "metadata": {},
   "outputs": [
    {
     "data": {
      "text/html": [
       "<div>\n",
       "<style scoped>\n",
       "    .dataframe tbody tr th:only-of-type {\n",
       "        vertical-align: middle;\n",
       "    }\n",
       "\n",
       "    .dataframe tbody tr th {\n",
       "        vertical-align: top;\n",
       "    }\n",
       "\n",
       "    .dataframe thead th {\n",
       "        text-align: right;\n",
       "    }\n",
       "</style>\n",
       "<table border=\"1\" class=\"dataframe\">\n",
       "  <thead>\n",
       "    <tr style=\"text-align: right;\">\n",
       "      <th></th>\n",
       "      <th>order_id</th>\n",
       "      <th>user_id</th>\n",
       "      <th>order_number</th>\n",
       "      <th>order_dow</th>\n",
       "      <th>order_hour_of_day</th>\n",
       "      <th>days_since_prior_order</th>\n",
       "      <th>product_id</th>\n",
       "      <th>add_to_cart_order</th>\n",
       "      <th>reordered</th>\n",
       "      <th>Unnamed: 0</th>\n",
       "      <th>aisle_id</th>\n",
       "      <th>department_id</th>\n",
       "      <th>prices</th>\n",
       "      <th>max_order</th>\n",
       "      <th>avg_price</th>\n",
       "      <th>median_order_duration</th>\n",
       "    </tr>\n",
       "  </thead>\n",
       "  <tbody>\n",
       "    <tr>\n",
       "      <th>count</th>\n",
       "      <td>3.240604e+07</td>\n",
       "      <td>3.240604e+07</td>\n",
       "      <td>3.240604e+07</td>\n",
       "      <td>3.240604e+07</td>\n",
       "      <td>3.240604e+07</td>\n",
       "      <td>3.032984e+07</td>\n",
       "      <td>3.240604e+07</td>\n",
       "      <td>3.240604e+07</td>\n",
       "      <td>3.240604e+07</td>\n",
       "      <td>3.240604e+07</td>\n",
       "      <td>3.240604e+07</td>\n",
       "      <td>3.240604e+07</td>\n",
       "      <td>3.240604e+07</td>\n",
       "      <td>3.240604e+07</td>\n",
       "      <td>3.240604e+07</td>\n",
       "      <td>3.240604e+07</td>\n",
       "    </tr>\n",
       "    <tr>\n",
       "      <th>mean</th>\n",
       "      <td>1.710745e+06</td>\n",
       "      <td>1.029371e+05</td>\n",
       "      <td>1.714223e+01</td>\n",
       "      <td>2.738862e+00</td>\n",
       "      <td>1.342515e+01</td>\n",
       "      <td>1.110410e+01</td>\n",
       "      <td>2.559895e+04</td>\n",
       "      <td>8.352616e+00</td>\n",
       "      <td>5.895845e-01</td>\n",
       "      <td>2.560065e+04</td>\n",
       "      <td>7.119773e+01</td>\n",
       "      <td>9.919923e+00</td>\n",
       "      <td>1.198004e+01</td>\n",
       "      <td>3.305203e+01</td>\n",
       "      <td>1.198004e+01</td>\n",
       "      <td>1.039789e+01</td>\n",
       "    </tr>\n",
       "    <tr>\n",
       "      <th>std</th>\n",
       "      <td>9.872986e+05</td>\n",
       "      <td>5.946610e+04</td>\n",
       "      <td>1.753527e+01</td>\n",
       "      <td>2.090074e+00</td>\n",
       "      <td>4.246382e+00</td>\n",
       "      <td>8.779062e+00</td>\n",
       "      <td>1.408389e+04</td>\n",
       "      <td>7.127128e+00</td>\n",
       "      <td>4.919092e-01</td>\n",
       "      <td>1.408544e+04</td>\n",
       "      <td>3.821182e+01</td>\n",
       "      <td>6.281418e+00</td>\n",
       "      <td>4.956464e+02</td>\n",
       "      <td>2.515518e+01</td>\n",
       "      <td>8.324039e+01</td>\n",
       "      <td>7.131767e+00</td>\n",
       "    </tr>\n",
       "    <tr>\n",
       "      <th>min</th>\n",
       "      <td>2.000000e+00</td>\n",
       "      <td>1.000000e+00</td>\n",
       "      <td>1.000000e+00</td>\n",
       "      <td>0.000000e+00</td>\n",
       "      <td>0.000000e+00</td>\n",
       "      <td>0.000000e+00</td>\n",
       "      <td>1.000000e+00</td>\n",
       "      <td>1.000000e+00</td>\n",
       "      <td>0.000000e+00</td>\n",
       "      <td>0.000000e+00</td>\n",
       "      <td>1.000000e+00</td>\n",
       "      <td>1.000000e+00</td>\n",
       "      <td>1.000000e+00</td>\n",
       "      <td>1.000000e+00</td>\n",
       "      <td>1.000000e+00</td>\n",
       "      <td>0.000000e+00</td>\n",
       "    </tr>\n",
       "    <tr>\n",
       "      <th>25%</th>\n",
       "      <td>8.559480e+05</td>\n",
       "      <td>5.142200e+04</td>\n",
       "      <td>5.000000e+00</td>\n",
       "      <td>1.000000e+00</td>\n",
       "      <td>1.000000e+01</td>\n",
       "      <td>5.000000e+00</td>\n",
       "      <td>1.354400e+04</td>\n",
       "      <td>3.000000e+00</td>\n",
       "      <td>0.000000e+00</td>\n",
       "      <td>1.354400e+04</td>\n",
       "      <td>3.100000e+01</td>\n",
       "      <td>4.000000e+00</td>\n",
       "      <td>4.200000e+00</td>\n",
       "      <td>1.300000e+01</td>\n",
       "      <td>7.387288e+00</td>\n",
       "      <td>6.000000e+00</td>\n",
       "    </tr>\n",
       "    <tr>\n",
       "      <th>50%</th>\n",
       "      <td>1.711050e+06</td>\n",
       "      <td>1.026150e+05</td>\n",
       "      <td>1.100000e+01</td>\n",
       "      <td>3.000000e+00</td>\n",
       "      <td>1.300000e+01</td>\n",
       "      <td>8.000000e+00</td>\n",
       "      <td>2.530500e+04</td>\n",
       "      <td>6.000000e+00</td>\n",
       "      <td>1.000000e+00</td>\n",
       "      <td>2.530600e+04</td>\n",
       "      <td>8.300000e+01</td>\n",
       "      <td>9.000000e+00</td>\n",
       "      <td>7.400000e+00</td>\n",
       "      <td>2.600000e+01</td>\n",
       "      <td>7.824786e+00</td>\n",
       "      <td>8.000000e+00</td>\n",
       "    </tr>\n",
       "    <tr>\n",
       "      <th>75%</th>\n",
       "      <td>2.565497e+06</td>\n",
       "      <td>1.543880e+05</td>\n",
       "      <td>2.400000e+01</td>\n",
       "      <td>5.000000e+00</td>\n",
       "      <td>1.600000e+01</td>\n",
       "      <td>1.500000e+01</td>\n",
       "      <td>3.794700e+04</td>\n",
       "      <td>1.100000e+01</td>\n",
       "      <td>1.000000e+00</td>\n",
       "      <td>3.795100e+04</td>\n",
       "      <td>1.070000e+02</td>\n",
       "      <td>1.600000e+01</td>\n",
       "      <td>1.130000e+01</td>\n",
       "      <td>4.700000e+01</td>\n",
       "      <td>8.254000e+00</td>\n",
       "      <td>1.300000e+01</td>\n",
       "    </tr>\n",
       "    <tr>\n",
       "      <th>max</th>\n",
       "      <td>3.421083e+06</td>\n",
       "      <td>2.062090e+05</td>\n",
       "      <td>9.900000e+01</td>\n",
       "      <td>6.000000e+00</td>\n",
       "      <td>2.300000e+01</td>\n",
       "      <td>3.000000e+01</td>\n",
       "      <td>4.968800e+04</td>\n",
       "      <td>1.450000e+02</td>\n",
       "      <td>1.000000e+00</td>\n",
       "      <td>4.969200e+04</td>\n",
       "      <td>1.340000e+02</td>\n",
       "      <td>2.100000e+01</td>\n",
       "      <td>9.999900e+04</td>\n",
       "      <td>9.900000e+01</td>\n",
       "      <td>2.500542e+04</td>\n",
       "      <td>3.000000e+01</td>\n",
       "    </tr>\n",
       "  </tbody>\n",
       "</table>\n",
       "</div>"
      ],
      "text/plain": [
       "           order_id       user_id  order_number     order_dow  \\\n",
       "count  3.240604e+07  3.240604e+07  3.240604e+07  3.240604e+07   \n",
       "mean   1.710745e+06  1.029371e+05  1.714223e+01  2.738862e+00   \n",
       "std    9.872986e+05  5.946610e+04  1.753527e+01  2.090074e+00   \n",
       "min    2.000000e+00  1.000000e+00  1.000000e+00  0.000000e+00   \n",
       "25%    8.559480e+05  5.142200e+04  5.000000e+00  1.000000e+00   \n",
       "50%    1.711050e+06  1.026150e+05  1.100000e+01  3.000000e+00   \n",
       "75%    2.565497e+06  1.543880e+05  2.400000e+01  5.000000e+00   \n",
       "max    3.421083e+06  2.062090e+05  9.900000e+01  6.000000e+00   \n",
       "\n",
       "       order_hour_of_day  days_since_prior_order    product_id  \\\n",
       "count       3.240604e+07            3.032984e+07  3.240604e+07   \n",
       "mean        1.342515e+01            1.110410e+01  2.559895e+04   \n",
       "std         4.246382e+00            8.779062e+00  1.408389e+04   \n",
       "min         0.000000e+00            0.000000e+00  1.000000e+00   \n",
       "25%         1.000000e+01            5.000000e+00  1.354400e+04   \n",
       "50%         1.300000e+01            8.000000e+00  2.530500e+04   \n",
       "75%         1.600000e+01            1.500000e+01  3.794700e+04   \n",
       "max         2.300000e+01            3.000000e+01  4.968800e+04   \n",
       "\n",
       "       add_to_cart_order     reordered    Unnamed: 0      aisle_id  \\\n",
       "count       3.240604e+07  3.240604e+07  3.240604e+07  3.240604e+07   \n",
       "mean        8.352616e+00  5.895845e-01  2.560065e+04  7.119773e+01   \n",
       "std         7.127128e+00  4.919092e-01  1.408544e+04  3.821182e+01   \n",
       "min         1.000000e+00  0.000000e+00  0.000000e+00  1.000000e+00   \n",
       "25%         3.000000e+00  0.000000e+00  1.354400e+04  3.100000e+01   \n",
       "50%         6.000000e+00  1.000000e+00  2.530600e+04  8.300000e+01   \n",
       "75%         1.100000e+01  1.000000e+00  3.795100e+04  1.070000e+02   \n",
       "max         1.450000e+02  1.000000e+00  4.969200e+04  1.340000e+02   \n",
       "\n",
       "       department_id        prices     max_order     avg_price  \\\n",
       "count   3.240604e+07  3.240604e+07  3.240604e+07  3.240604e+07   \n",
       "mean    9.919923e+00  1.198004e+01  3.305203e+01  1.198004e+01   \n",
       "std     6.281418e+00  4.956464e+02  2.515518e+01  8.324039e+01   \n",
       "min     1.000000e+00  1.000000e+00  1.000000e+00  1.000000e+00   \n",
       "25%     4.000000e+00  4.200000e+00  1.300000e+01  7.387288e+00   \n",
       "50%     9.000000e+00  7.400000e+00  2.600000e+01  7.824786e+00   \n",
       "75%     1.600000e+01  1.130000e+01  4.700000e+01  8.254000e+00   \n",
       "max     2.100000e+01  9.999900e+04  9.900000e+01  2.500542e+04   \n",
       "\n",
       "       median_order_duration  \n",
       "count           3.240604e+07  \n",
       "mean            1.039789e+01  \n",
       "std             7.131767e+00  \n",
       "min             0.000000e+00  \n",
       "25%             6.000000e+00  \n",
       "50%             8.000000e+00  \n",
       "75%             1.300000e+01  \n",
       "max             3.000000e+01  "
      ]
     },
     "execution_count": 13,
     "metadata": {},
     "output_type": "execute_result"
    }
   ],
   "source": [
    "# view statistics to get a feel for the data and see why only one column is showing\n",
    "df.describe()"
   ]
  },
  {
   "cell_type": "code",
   "execution_count": 16,
   "id": "0c34cddf",
   "metadata": {},
   "outputs": [
    {
     "data": {
      "text/plain": [
       "count    3.240604e+07\n",
       "mean     1.198004e+01\n",
       "std      4.956464e+02\n",
       "min      1.000000e+00\n",
       "25%      4.200000e+00\n",
       "50%      7.400000e+00\n",
       "75%      1.130000e+01\n",
       "max      9.999900e+04\n",
       "Name: prices, dtype: float64"
      ]
     },
     "execution_count": 16,
     "metadata": {},
     "output_type": "execute_result"
    }
   ],
   "source": [
    "# viewing statistics for price column only\n",
    "df['prices'].describe()"
   ]
  },
  {
   "cell_type": "code",
   "execution_count": 17,
   "id": "624f0f16",
   "metadata": {},
   "outputs": [
    {
     "data": {
      "text/plain": [
       "11.980040357374353"
      ]
     },
     "execution_count": 17,
     "metadata": {},
     "output_type": "execute_result"
    }
   ],
   "source": [
    "# view price mean\n",
    "df['prices'].mean()"
   ]
  },
  {
   "cell_type": "code",
   "execution_count": 18,
   "id": "86783568",
   "metadata": {},
   "outputs": [
    {
     "data": {
      "text/plain": [
       "7.4"
      ]
     },
     "execution_count": 18,
     "metadata": {},
     "output_type": "execute_result"
    }
   ],
   "source": [
    "# view price median\n",
    "df['prices'].median()"
   ]
  },
  {
   "cell_type": "code",
   "execution_count": 19,
   "id": "e9c11159",
   "metadata": {},
   "outputs": [
    {
     "data": {
      "text/plain": [
       "99999.0"
      ]
     },
     "execution_count": 19,
     "metadata": {},
     "output_type": "execute_result"
    }
   ],
   "source": [
    "# view price max\n",
    "df['prices'].max()"
   ]
  },
  {
   "cell_type": "markdown",
   "id": "0b0aa489",
   "metadata": {},
   "source": [
    "Note: While the mean and median are between 7 and 12 (relatively realistic), the max value yields a strange result. How could an item cost $99,999.00? This must be the result of data corruption or some kind of special value within the data. This is also what’s breaking your histogram—having most values between 7 and 12 (see the median and mean again) but an extreme value of 99,999 is forcing your histogram to shove all the small values into one bar and the extreme value in another one. And this second bar is so tiny that you can’t even see it on the chart."
   ]
  },
  {
   "cell_type": "markdown",
   "id": "dbf0f212",
   "metadata": {},
   "source": [
    "# Create Scatterplot"
   ]
  },
  {
   "cell_type": "code",
   "execution_count": 20,
   "id": "97166915",
   "metadata": {},
   "outputs": [
    {
     "data": {
      "text/plain": [
       "<AxesSubplot:xlabel='prices', ylabel='prices'>"
      ]
     },
     "execution_count": 20,
     "metadata": {},
     "output_type": "execute_result"
    },
    {
     "data": {
      "image/png": "[encoded data removed]",
      "text/plain": [
       "<Figure size 432x288 with 1 Axes>"
      ]
     },
     "metadata": {
      "needs_background": "light"
     },
     "output_type": "display_data"
    }
   ],
   "source": [
    "# create scatterplot\n",
    "sns.scatterplot(x = 'prices', y = 'prices', data = df)"
   ]
  },
  {
   "cell_type": "code",
   "execution_count": 21,
   "id": "1f8f6393",
   "metadata": {
    "scrolled": true
   },
   "outputs": [
    {
     "data": {
      "text/html": [
       "<div>\n",
       "<style scoped>\n",
       "    .dataframe tbody tr th:only-of-type {\n",
       "        vertical-align: middle;\n",
       "    }\n",
       "\n",
       "    .dataframe tbody tr th {\n",
       "        vertical-align: top;\n",
       "    }\n",
       "\n",
       "    .dataframe thead th {\n",
       "        text-align: right;\n",
       "    }\n",
       "</style>\n",
       "<table border=\"1\" class=\"dataframe\">\n",
       "  <thead>\n",
       "    <tr style=\"text-align: right;\">\n",
       "      <th></th>\n",
       "      <th>order_id</th>\n",
       "      <th>user_id</th>\n",
       "      <th>eval_set</th>\n",
       "      <th>order_number</th>\n",
       "      <th>order_dow</th>\n",
       "      <th>order_hour_of_day</th>\n",
       "      <th>days_since_prior_order</th>\n",
       "      <th>product_id</th>\n",
       "      <th>add_to_cart_order</th>\n",
       "      <th>reordered</th>\n",
       "      <th>...</th>\n",
       "      <th>price_range_loc</th>\n",
       "      <th>Busiest day</th>\n",
       "      <th>Busiest days</th>\n",
       "      <th>Most Orders</th>\n",
       "      <th>max_order</th>\n",
       "      <th>loyalty_flag</th>\n",
       "      <th>avg_price</th>\n",
       "      <th>spending_flag</th>\n",
       "      <th>median_order_duration</th>\n",
       "      <th>frequency_flag</th>\n",
       "    </tr>\n",
       "  </thead>\n",
       "  <tbody>\n",
       "    <tr>\n",
       "      <th>10030345</th>\n",
       "      <td>912404</td>\n",
       "      <td>17</td>\n",
       "      <td>prior</td>\n",
       "      <td>12</td>\n",
       "      <td>2</td>\n",
       "      <td>14</td>\n",
       "      <td>5.0</td>\n",
       "      <td>21553</td>\n",
       "      <td>5</td>\n",
       "      <td>0</td>\n",
       "      <td>...</td>\n",
       "      <td>High-range product</td>\n",
       "      <td>Regularly busy</td>\n",
       "      <td>Regular days</td>\n",
       "      <td>Most Orders</td>\n",
       "      <td>40</td>\n",
       "      <td>Regular Customer</td>\n",
       "      <td>108.648299</td>\n",
       "      <td>High Spender</td>\n",
       "      <td>5.0</td>\n",
       "      <td>Frequent Customer</td>\n",
       "    </tr>\n",
       "    <tr>\n",
       "      <th>10030346</th>\n",
       "      <td>603376</td>\n",
       "      <td>17</td>\n",
       "      <td>prior</td>\n",
       "      <td>22</td>\n",
       "      <td>6</td>\n",
       "      <td>16</td>\n",
       "      <td>4.0</td>\n",
       "      <td>21553</td>\n",
       "      <td>3</td>\n",
       "      <td>1</td>\n",
       "      <td>...</td>\n",
       "      <td>High-range product</td>\n",
       "      <td>Regularly busy</td>\n",
       "      <td>Regular days</td>\n",
       "      <td>Most Orders</td>\n",
       "      <td>40</td>\n",
       "      <td>Regular Customer</td>\n",
       "      <td>108.648299</td>\n",
       "      <td>High Spender</td>\n",
       "      <td>5.0</td>\n",
       "      <td>Frequent Customer</td>\n",
       "    </tr>\n",
       "    <tr>\n",
       "      <th>10030347</th>\n",
       "      <td>3264360</td>\n",
       "      <td>135</td>\n",
       "      <td>prior</td>\n",
       "      <td>2</td>\n",
       "      <td>2</td>\n",
       "      <td>21</td>\n",
       "      <td>13.0</td>\n",
       "      <td>21553</td>\n",
       "      <td>6</td>\n",
       "      <td>0</td>\n",
       "      <td>...</td>\n",
       "      <td>High-range product</td>\n",
       "      <td>Regularly busy</td>\n",
       "      <td>Regular days</td>\n",
       "      <td>Average Orders</td>\n",
       "      <td>4</td>\n",
       "      <td>New Customer</td>\n",
       "      <td>1154.792308</td>\n",
       "      <td>High Spender</td>\n",
       "      <td>12.0</td>\n",
       "      <td>Regular Customer</td>\n",
       "    </tr>\n",
       "    <tr>\n",
       "      <th>10030348</th>\n",
       "      <td>892534</td>\n",
       "      <td>135</td>\n",
       "      <td>prior</td>\n",
       "      <td>3</td>\n",
       "      <td>0</td>\n",
       "      <td>8</td>\n",
       "      <td>12.0</td>\n",
       "      <td>21553</td>\n",
       "      <td>3</td>\n",
       "      <td>1</td>\n",
       "      <td>...</td>\n",
       "      <td>High-range product</td>\n",
       "      <td>Busiest day</td>\n",
       "      <td>Busiest days</td>\n",
       "      <td>Average Orders</td>\n",
       "      <td>4</td>\n",
       "      <td>New Customer</td>\n",
       "      <td>1154.792308</td>\n",
       "      <td>High Spender</td>\n",
       "      <td>12.0</td>\n",
       "      <td>Regular Customer</td>\n",
       "    </tr>\n",
       "    <tr>\n",
       "      <th>10030349</th>\n",
       "      <td>229704</td>\n",
       "      <td>342</td>\n",
       "      <td>prior</td>\n",
       "      <td>8</td>\n",
       "      <td>1</td>\n",
       "      <td>19</td>\n",
       "      <td>30.0</td>\n",
       "      <td>21553</td>\n",
       "      <td>9</td>\n",
       "      <td>0</td>\n",
       "      <td>...</td>\n",
       "      <td>High-range product</td>\n",
       "      <td>Regularly busy</td>\n",
       "      <td>Busiest days</td>\n",
       "      <td>Average Orders</td>\n",
       "      <td>16</td>\n",
       "      <td>Regular Customer</td>\n",
       "      <td>114.426619</td>\n",
       "      <td>High Spender</td>\n",
       "      <td>23.0</td>\n",
       "      <td>Non-Frequent Customer</td>\n",
       "    </tr>\n",
       "    <tr>\n",
       "      <th>...</th>\n",
       "      <td>...</td>\n",
       "      <td>...</td>\n",
       "      <td>...</td>\n",
       "      <td>...</td>\n",
       "      <td>...</td>\n",
       "      <td>...</td>\n",
       "      <td>...</td>\n",
       "      <td>...</td>\n",
       "      <td>...</td>\n",
       "      <td>...</td>\n",
       "      <td>...</td>\n",
       "      <td>...</td>\n",
       "      <td>...</td>\n",
       "      <td>...</td>\n",
       "      <td>...</td>\n",
       "      <td>...</td>\n",
       "      <td>...</td>\n",
       "      <td>...</td>\n",
       "      <td>...</td>\n",
       "      <td>...</td>\n",
       "      <td>...</td>\n",
       "    </tr>\n",
       "    <tr>\n",
       "      <th>29167287</th>\n",
       "      <td>2249946</td>\n",
       "      <td>204099</td>\n",
       "      <td>prior</td>\n",
       "      <td>29</td>\n",
       "      <td>0</td>\n",
       "      <td>8</td>\n",
       "      <td>4.0</td>\n",
       "      <td>33664</td>\n",
       "      <td>1</td>\n",
       "      <td>0</td>\n",
       "      <td>...</td>\n",
       "      <td>High-range product</td>\n",
       "      <td>Busiest day</td>\n",
       "      <td>Busiest days</td>\n",
       "      <td>Average Orders</td>\n",
       "      <td>39</td>\n",
       "      <td>Regular Customer</td>\n",
       "      <td>1106.743956</td>\n",
       "      <td>High Spender</td>\n",
       "      <td>4.0</td>\n",
       "      <td>Frequent Customer</td>\n",
       "    </tr>\n",
       "    <tr>\n",
       "      <th>29167288</th>\n",
       "      <td>2363282</td>\n",
       "      <td>204099</td>\n",
       "      <td>prior</td>\n",
       "      <td>31</td>\n",
       "      <td>0</td>\n",
       "      <td>9</td>\n",
       "      <td>2.0</td>\n",
       "      <td>33664</td>\n",
       "      <td>1</td>\n",
       "      <td>1</td>\n",
       "      <td>...</td>\n",
       "      <td>High-range product</td>\n",
       "      <td>Busiest day</td>\n",
       "      <td>Busiest days</td>\n",
       "      <td>Most Orders</td>\n",
       "      <td>39</td>\n",
       "      <td>Regular Customer</td>\n",
       "      <td>1106.743956</td>\n",
       "      <td>High Spender</td>\n",
       "      <td>4.0</td>\n",
       "      <td>Frequent Customer</td>\n",
       "    </tr>\n",
       "    <tr>\n",
       "      <th>29167289</th>\n",
       "      <td>3181945</td>\n",
       "      <td>204395</td>\n",
       "      <td>prior</td>\n",
       "      <td>13</td>\n",
       "      <td>3</td>\n",
       "      <td>15</td>\n",
       "      <td>8.0</td>\n",
       "      <td>33664</td>\n",
       "      <td>25</td>\n",
       "      <td>0</td>\n",
       "      <td>...</td>\n",
       "      <td>High-range product</td>\n",
       "      <td>Regularly busy</td>\n",
       "      <td>Slowest days</td>\n",
       "      <td>Most Orders</td>\n",
       "      <td>15</td>\n",
       "      <td>Regular Customer</td>\n",
       "      <td>451.153540</td>\n",
       "      <td>High Spender</td>\n",
       "      <td>5.0</td>\n",
       "      <td>Frequent Customer</td>\n",
       "    </tr>\n",
       "    <tr>\n",
       "      <th>29167290</th>\n",
       "      <td>2486215</td>\n",
       "      <td>205227</td>\n",
       "      <td>prior</td>\n",
       "      <td>7</td>\n",
       "      <td>3</td>\n",
       "      <td>20</td>\n",
       "      <td>4.0</td>\n",
       "      <td>33664</td>\n",
       "      <td>8</td>\n",
       "      <td>0</td>\n",
       "      <td>...</td>\n",
       "      <td>High-range product</td>\n",
       "      <td>Regularly busy</td>\n",
       "      <td>Slowest days</td>\n",
       "      <td>Average Orders</td>\n",
       "      <td>12</td>\n",
       "      <td>Regular Customer</td>\n",
       "      <td>1178.381871</td>\n",
       "      <td>High Spender</td>\n",
       "      <td>12.0</td>\n",
       "      <td>Regular Customer</td>\n",
       "    </tr>\n",
       "    <tr>\n",
       "      <th>29167291</th>\n",
       "      <td>2232716</td>\n",
       "      <td>205227</td>\n",
       "      <td>prior</td>\n",
       "      <td>10</td>\n",
       "      <td>0</td>\n",
       "      <td>11</td>\n",
       "      <td>4.0</td>\n",
       "      <td>33664</td>\n",
       "      <td>23</td>\n",
       "      <td>1</td>\n",
       "      <td>...</td>\n",
       "      <td>High-range product</td>\n",
       "      <td>Busiest day</td>\n",
       "      <td>Busiest days</td>\n",
       "      <td>Most Orders</td>\n",
       "      <td>12</td>\n",
       "      <td>Regular Customer</td>\n",
       "      <td>1178.381871</td>\n",
       "      <td>High Spender</td>\n",
       "      <td>12.0</td>\n",
       "      <td>Regular Customer</td>\n",
       "    </tr>\n",
       "  </tbody>\n",
       "</table>\n",
       "<p>5127 rows × 26 columns</p>\n",
       "</div>"
      ],
      "text/plain": [
       "          order_id  user_id eval_set  order_number  order_dow  \\\n",
       "10030345    912404       17    prior            12          2   \n",
       "10030346    603376       17    prior            22          6   \n",
       "10030347   3264360      135    prior             2          2   \n",
       "10030348    892534      135    prior             3          0   \n",
       "10030349    229704      342    prior             8          1   \n",
       "...            ...      ...      ...           ...        ...   \n",
       "29167287   2249946   204099    prior            29          0   \n",
       "29167288   2363282   204099    prior            31          0   \n",
       "29167289   3181945   204395    prior            13          3   \n",
       "29167290   2486215   205227    prior             7          3   \n",
       "29167291   2232716   205227    prior            10          0   \n",
       "\n",
       "          order_hour_of_day  days_since_prior_order  product_id  \\\n",
       "10030345                 14                     5.0       21553   \n",
       "10030346                 16                     4.0       21553   \n",
       "10030347                 21                    13.0       21553   \n",
       "10030348                  8                    12.0       21553   \n",
       "10030349                 19                    30.0       21553   \n",
       "...                     ...                     ...         ...   \n",
       "29167287                  8                     4.0       33664   \n",
       "29167288                  9                     2.0       33664   \n",
       "29167289                 15                     8.0       33664   \n",
       "29167290                 20                     4.0       33664   \n",
       "29167291                 11                     4.0       33664   \n",
       "\n",
       "          add_to_cart_order  reordered  ...     price_range_loc  \\\n",
       "10030345                  5          0  ...  High-range product   \n",
       "10030346                  3          1  ...  High-range product   \n",
       "10030347                  6          0  ...  High-range product   \n",
       "10030348                  3          1  ...  High-range product   \n",
       "10030349                  9          0  ...  High-range product   \n",
       "...                     ...        ...  ...                 ...   \n",
       "29167287                  1          0  ...  High-range product   \n",
       "29167288                  1          1  ...  High-range product   \n",
       "29167289                 25          0  ...  High-range product   \n",
       "29167290                  8          0  ...  High-range product   \n",
       "29167291                 23          1  ...  High-range product   \n",
       "\n",
       "             Busiest day  Busiest days     Most Orders  max_order  \\\n",
       "10030345  Regularly busy  Regular days     Most Orders         40   \n",
       "10030346  Regularly busy  Regular days     Most Orders         40   \n",
       "10030347  Regularly busy  Regular days  Average Orders          4   \n",
       "10030348     Busiest day  Busiest days  Average Orders          4   \n",
       "10030349  Regularly busy  Busiest days  Average Orders         16   \n",
       "...                  ...           ...             ...        ...   \n",
       "29167287     Busiest day  Busiest days  Average Orders         39   \n",
       "29167288     Busiest day  Busiest days     Most Orders         39   \n",
       "29167289  Regularly busy  Slowest days     Most Orders         15   \n",
       "29167290  Regularly busy  Slowest days  Average Orders         12   \n",
       "29167291     Busiest day  Busiest days     Most Orders         12   \n",
       "\n",
       "              loyalty_flag    avg_price spending_flag median_order_duration  \\\n",
       "10030345  Regular Customer   108.648299  High Spender                   5.0   \n",
       "10030346  Regular Customer   108.648299  High Spender                   5.0   \n",
       "10030347      New Customer  1154.792308  High Spender                  12.0   \n",
       "10030348      New Customer  1154.792308  High Spender                  12.0   \n",
       "10030349  Regular Customer   114.426619  High Spender                  23.0   \n",
       "...                    ...          ...           ...                   ...   \n",
       "29167287  Regular Customer  1106.743956  High Spender                   4.0   \n",
       "29167288  Regular Customer  1106.743956  High Spender                   4.0   \n",
       "29167289  Regular Customer   451.153540  High Spender                   5.0   \n",
       "29167290  Regular Customer  1178.381871  High Spender                  12.0   \n",
       "29167291  Regular Customer  1178.381871  High Spender                  12.0   \n",
       "\n",
       "                 frequency_flag  \n",
       "10030345      Frequent Customer  \n",
       "10030346      Frequent Customer  \n",
       "10030347       Regular Customer  \n",
       "10030348       Regular Customer  \n",
       "10030349  Non-Frequent Customer  \n",
       "...                         ...  \n",
       "29167287      Frequent Customer  \n",
       "29167288      Frequent Customer  \n",
       "29167289      Frequent Customer  \n",
       "29167290       Regular Customer  \n",
       "29167291       Regular Customer  \n",
       "\n",
       "[5127 rows x 26 columns]"
      ]
     },
     "execution_count": 21,
     "metadata": {},
     "output_type": "execute_result"
    }
   ],
   "source": [
    "# checking to see how many orders are above $100. \n",
    "df.loc[df['prices']>100]"
   ]
  },
  {
   "cell_type": "markdown",
   "id": "44176cab",
   "metadata": {},
   "source": [
    "# Removing outliers"
   ]
  },
  {
   "cell_type": "code",
   "execution_count": 24,
   "id": "22a8be22",
   "metadata": {},
   "outputs": [],
   "source": [
    "# removing outliers and changing to nan\n",
    "df.loc[df['prices']>100,'prices'] = np.nan"
   ]
  },
  {
   "cell_type": "code",
   "execution_count": 25,
   "id": "480e3f07",
   "metadata": {},
   "outputs": [
    {
     "data": {
      "text/plain": [
       "25.0"
      ]
     },
     "execution_count": 25,
     "metadata": {},
     "output_type": "execute_result"
    }
   ],
   "source": [
    "# checking max value\n",
    "df['prices'].max()"
   ]
  },
  {
   "cell_type": "markdown",
   "id": "b93c45bd",
   "metadata": {},
   "source": [
    "# Rechecking histogram without outliers"
   ]
  },
  {
   "cell_type": "code",
   "execution_count": 26,
   "id": "4a096166",
   "metadata": {},
   "outputs": [
    {
     "data": {
      "image/png": "[encoded data removed]",
      "text/plain": [
       "<Figure size 432x288 with 1 Axes>"
      ]
     },
     "metadata": {
      "needs_background": "light"
     },
     "output_type": "display_data"
    }
   ],
   "source": [
    "hist = df['prices'].plot.hist(bins = 25)"
   ]
  },
  {
   "cell_type": "code",
   "execution_count": 27,
   "id": "7a174776",
   "metadata": {},
   "outputs": [
    {
     "data": {
      "image/png": "[encoded data removed]",
      "text/plain": [
       "<Figure size 432x288 with 1 Axes>"
      ]
     },
     "metadata": {
      "needs_background": "light"
     },
     "output_type": "display_data"
    }
   ],
   "source": [
    "hist_2 = df['prices'].plot.hist(bins = 70)"
   ]
  },
  {
   "cell_type": "markdown",
   "id": "4577bd56",
   "metadata": {},
   "source": [
    "# Exporting histogram to visualization folder"
   ]
  },
  {
   "cell_type": "code",
   "execution_count": 28,
   "id": "0a37a09c",
   "metadata": {},
   "outputs": [],
   "source": [
    "# exporting histogram\n",
    "hist.figure.savefig(r'C:\\Users\\littl\\Career Foundry\\06.2022 Instacart Basket Analysis\\04 - Analysis\\Visualizations\\hist_orders_dow.png')"
   ]
  },
  {
   "cell_type": "markdown",
   "id": "ced8a34c",
   "metadata": {},
   "source": [
    "# Creating a subset of data for line chart"
   ]
  },
  {
   "cell_type": "code",
   "execution_count": 29,
   "id": "9cc7e3ea",
   "metadata": {},
   "outputs": [],
   "source": [
    "df2 = df[:2000000]"
   ]
  },
  {
   "cell_type": "markdown",
   "id": "00259872",
   "metadata": {},
   "source": [
    "# Creating a random sample data"
   ]
  },
  {
   "cell_type": "code",
   "execution_count": 31,
   "id": "c3fd2d3e",
   "metadata": {},
   "outputs": [],
   "source": [
    "# creating a 70/30 random sample data\n",
    "np.random.seed(4)\n",
    "dev = np.random.rand(len(df)) <= 0.7"
   ]
  },
  {
   "cell_type": "code",
   "execution_count": 32,
   "id": "532205b5",
   "metadata": {},
   "outputs": [
    {
     "data": {
      "text/plain": [
       "array([False,  True, False, ...,  True,  True,  True])"
      ]
     },
     "execution_count": 32,
     "metadata": {},
     "output_type": "execute_result"
    }
   ],
   "source": [
    "# create new list\n",
    "dev"
   ]
  },
  {
   "cell_type": "code",
   "execution_count": 5,
   "id": "c9b4fd7d",
   "metadata": {},
   "outputs": [],
   "source": [
    "# create a list holding True/False values to the test np.random.rant() <=0.7\n",
    "dev = np.random.rand(len(df)) <= 0.7"
   ]
  },
  {
   "cell_type": "code",
   "execution_count": 6,
   "id": "eebfbd27",
   "metadata": {},
   "outputs": [],
   "source": [
    "# Store 70% of the same in the dataframe big\n",
    "big = df[dev]"
   ]
  },
  {
   "cell_type": "code",
   "execution_count": 7,
   "id": "3e39f7ac",
   "metadata": {},
   "outputs": [],
   "source": [
    "# Store 30% of the sample in the dataframe small\n",
    "small = df[~dev]"
   ]
  },
  {
   "cell_type": "markdown",
   "id": "7ec59b3c",
   "metadata": {},
   "source": [
    "# Checking results to verify the rows from random sample match original data set"
   ]
  },
  {
   "cell_type": "code",
   "execution_count": 8,
   "id": "f6005069",
   "metadata": {},
   "outputs": [
    {
     "data": {
      "text/plain": [
       "32406041"
      ]
     },
     "execution_count": 8,
     "metadata": {},
     "output_type": "execute_result"
    }
   ],
   "source": [
    "len(df)"
   ]
  },
  {
   "cell_type": "code",
   "execution_count": 9,
   "id": "a0225339",
   "metadata": {},
   "outputs": [
    {
     "data": {
      "text/plain": [
       "32406041"
      ]
     },
     "execution_count": 9,
     "metadata": {},
     "output_type": "execute_result"
    }
   ],
   "source": [
    "len(big) + len(small)"
   ]
  },
  {
   "cell_type": "markdown",
   "id": "e0f4ac01",
   "metadata": {},
   "source": [
    "# Reducing column(s) to what is needed for chart"
   ]
  },
  {
   "cell_type": "code",
   "execution_count": 12,
   "id": "e179d0a4",
   "metadata": {},
   "outputs": [],
   "source": [
    "# creating a dataframe with small sample only the columns needed for graph\n",
    "df3 = small[['order_dow', 'prices']]"
   ]
  },
  {
   "cell_type": "code",
   "execution_count": 14,
   "id": "a16192ce",
   "metadata": {},
   "outputs": [],
   "source": [
    "# creating a dataframe with a large sample and only columns needed for graph\n",
    "df4 = big[['order_dow', 'prices']]"
   ]
  },
  {
   "cell_type": "markdown",
   "id": "296880cb",
   "metadata": {},
   "source": [
    "# Creating line chart"
   ]
  },
  {
   "cell_type": "code",
   "execution_count": 13,
   "id": "f455ace7",
   "metadata": {},
   "outputs": [
    {
     "data": {
      "image/png": "[encoded data removed]",
      "text/plain": [
       "<Figure size 432x288 with 1 Axes>"
      ]
     },
     "metadata": {
      "needs_background": "light"
     },
     "output_type": "display_data"
    }
   ],
   "source": [
    "# creathe line plot for small sample dataset\n",
    "line = sns.lineplot(data = df3, x = 'order_dow', y = 'prices')"
   ]
  },
  {
   "cell_type": "code",
   "execution_count": 15,
   "id": "93da1ab6",
   "metadata": {},
   "outputs": [
    {
     "data": {
      "image/png": "[encoded data removed]",
      "text/plain": [
       "<Figure size 432x288 with 1 Axes>"
      ]
     },
     "metadata": {
      "needs_background": "light"
     },
     "output_type": "display_data"
    }
   ],
   "source": [
    "# create line plot for large sample dataset\n",
    "line_2 = sns.lineplot(data = df4, x ='order_dow', y = 'prices')"
   ]
  },
  {
   "cell_type": "markdown",
   "id": "eb78222d",
   "metadata": {},
   "source": [
    "# Exporting line chart to visualization folder"
   ]
  },
  {
   "cell_type": "code",
   "execution_count": 16,
   "id": "2b38113a",
   "metadata": {},
   "outputs": [],
   "source": [
    "# exporting line chart\n",
    "line.figure.savefig(r'C:\\Users\\littl\\Career Foundry\\06.2022 Instacart Basket Analysis\\04 - Analysis\\Visualizations\\line_orders_dow.png')"
   ]
  },
  {
   "cell_type": "code",
   "execution_count": null,
   "id": "4507b601",
   "metadata": {},
   "outputs": [],
   "source": []
  }
 ],
 "metadata": {
  "kernelspec": {
   "display_name": "Python 3 (ipykernel)",
   "language": "python",
   "name": "python3"
  },
  "language_info": {
   "codemirror_mode": {
    "name": "ipython",
    "version": 3
   },
   "file_extension": ".py",
   "mimetype": "text/x-python",
   "name": "python",
   "nbconvert_exporter": "python",
   "pygments_lexer": "ipython3",
   "version": "3.9.12"
  }
 },
 "nbformat": 4,
 "nbformat_minor": 5
}
